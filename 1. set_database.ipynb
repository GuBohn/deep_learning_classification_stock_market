{
 "cells": [
  {
   "cell_type": "code",
   "execution_count": 6,
   "id": "841cf9d2",
   "metadata": {},
   "outputs": [
    {
     "name": "stdout",
     "output_type": "stream",
     "text": [
      "Iniciando conexão com o banco de dados 'dados_acoes.db'...\n",
      "\n",
      "Buscando dados para: candles_diarios (Intervalo: 1d)\n",
      "  Baixando ABEV3.SA...\n"
     ]
    },
    {
     "name": "stderr",
     "output_type": "stream",
     "text": [
      "C:\\Users\\Gustavo\\AppData\\Local\\Temp\\ipykernel_4500\\3608632239.py:65: FutureWarning: YF.download() has changed argument auto_adjust default to True\n",
      "  data = yf.download(ticker, period=PERIODO_DADOS, interval=intervalo_yf)\n",
      "[*********************100%***********************]  1 of 1 completed\n",
      "C:\\Users\\Gustavo\\AppData\\Local\\Temp\\ipykernel_4500\\3608632239.py:65: FutureWarning: YF.download() has changed argument auto_adjust default to True\n",
      "  data = yf.download(ticker, period=PERIODO_DADOS, interval=intervalo_yf)\n"
     ]
    },
    {
     "name": "stdout",
     "output_type": "stream",
     "text": [
      "  Baixando ALPK3.SA...\n"
     ]
    },
    {
     "name": "stderr",
     "output_type": "stream",
     "text": [
      "[*********************100%***********************]  1 of 1 completed\n",
      "C:\\Users\\Gustavo\\AppData\\Local\\Temp\\ipykernel_4500\\3608632239.py:65: FutureWarning: YF.download() has changed argument auto_adjust default to True\n",
      "  data = yf.download(ticker, period=PERIODO_DADOS, interval=intervalo_yf)\n"
     ]
    },
    {
     "name": "stdout",
     "output_type": "stream",
     "text": [
      "  Baixando AMAR3.SA...\n"
     ]
    },
    {
     "name": "stderr",
     "output_type": "stream",
     "text": [
      "[*********************100%***********************]  1 of 1 completed\n",
      "C:\\Users\\Gustavo\\AppData\\Local\\Temp\\ipykernel_4500\\3608632239.py:65: FutureWarning: YF.download() has changed argument auto_adjust default to True\n",
      "  data = yf.download(ticker, period=PERIODO_DADOS, interval=intervalo_yf)\n"
     ]
    },
    {
     "name": "stdout",
     "output_type": "stream",
     "text": [
      "  Baixando AMBP3.SA...\n"
     ]
    },
    {
     "name": "stderr",
     "output_type": "stream",
     "text": [
      "[*********************100%***********************]  1 of 1 completed\n",
      "C:\\Users\\Gustavo\\AppData\\Local\\Temp\\ipykernel_4500\\3608632239.py:65: FutureWarning: YF.download() has changed argument auto_adjust default to True\n",
      "  data = yf.download(ticker, period=PERIODO_DADOS, interval=intervalo_yf)\n"
     ]
    },
    {
     "name": "stdout",
     "output_type": "stream",
     "text": [
      "  Baixando ANIM3.SA...\n"
     ]
    },
    {
     "name": "stderr",
     "output_type": "stream",
     "text": [
      "[*********************100%***********************]  1 of 1 completed\n",
      "C:\\Users\\Gustavo\\AppData\\Local\\Temp\\ipykernel_4500\\3608632239.py:65: FutureWarning: YF.download() has changed argument auto_adjust default to True\n",
      "  data = yf.download(ticker, period=PERIODO_DADOS, interval=intervalo_yf)\n"
     ]
    },
    {
     "name": "stdout",
     "output_type": "stream",
     "text": [
      "  Baixando ASAI3.SA...\n"
     ]
    },
    {
     "name": "stderr",
     "output_type": "stream",
     "text": [
      "[*********************100%***********************]  1 of 1 completed\n",
      "C:\\Users\\Gustavo\\AppData\\Local\\Temp\\ipykernel_4500\\3608632239.py:65: FutureWarning: YF.download() has changed argument auto_adjust default to True\n",
      "  data = yf.download(ticker, period=PERIODO_DADOS, interval=intervalo_yf)\n"
     ]
    },
    {
     "name": "stdout",
     "output_type": "stream",
     "text": [
      "  Baixando AURE3.SA...\n"
     ]
    },
    {
     "name": "stderr",
     "output_type": "stream",
     "text": [
      "[*********************100%***********************]  1 of 1 completed\n",
      "C:\\Users\\Gustavo\\AppData\\Local\\Temp\\ipykernel_4500\\3608632239.py:65: FutureWarning: YF.download() has changed argument auto_adjust default to True\n",
      "  data = yf.download(ticker, period=PERIODO_DADOS, interval=intervalo_yf)\n"
     ]
    },
    {
     "name": "stdout",
     "output_type": "stream",
     "text": [
      "  Baixando AZEV3.SA...\n"
     ]
    },
    {
     "name": "stderr",
     "output_type": "stream",
     "text": [
      "[*********************100%***********************]  1 of 1 completed\n",
      "C:\\Users\\Gustavo\\AppData\\Local\\Temp\\ipykernel_4500\\3608632239.py:65: FutureWarning: YF.download() has changed argument auto_adjust default to True\n",
      "  data = yf.download(ticker, period=PERIODO_DADOS, interval=intervalo_yf)\n"
     ]
    },
    {
     "name": "stdout",
     "output_type": "stream",
     "text": [
      "  Baixando AZTE3.SA...\n"
     ]
    },
    {
     "name": "stderr",
     "output_type": "stream",
     "text": [
      "[*********************100%***********************]  1 of 1 completed\n",
      "C:\\Users\\Gustavo\\AppData\\Local\\Temp\\ipykernel_4500\\3608632239.py:65: FutureWarning: YF.download() has changed argument auto_adjust default to True\n",
      "  data = yf.download(ticker, period=PERIODO_DADOS, interval=intervalo_yf)\n"
     ]
    },
    {
     "name": "stdout",
     "output_type": "stream",
     "text": [
      "  Baixando AZUL4.SA...\n"
     ]
    },
    {
     "name": "stderr",
     "output_type": "stream",
     "text": [
      "[*********************100%***********************]  1 of 1 completed\n",
      "C:\\Users\\Gustavo\\AppData\\Local\\Temp\\ipykernel_4500\\3608632239.py:65: FutureWarning: YF.download() has changed argument auto_adjust default to True\n",
      "  data = yf.download(ticker, period=PERIODO_DADOS, interval=intervalo_yf)\n"
     ]
    },
    {
     "name": "stdout",
     "output_type": "stream",
     "text": [
      "  Baixando AZZA3.SA...\n"
     ]
    },
    {
     "name": "stderr",
     "output_type": "stream",
     "text": [
      "[*********************100%***********************]  1 of 1 completed\n",
      "C:\\Users\\Gustavo\\AppData\\Local\\Temp\\ipykernel_4500\\3608632239.py:65: FutureWarning: YF.download() has changed argument auto_adjust default to True\n",
      "  data = yf.download(ticker, period=PERIODO_DADOS, interval=intervalo_yf)\n"
     ]
    },
    {
     "name": "stdout",
     "output_type": "stream",
     "text": [
      "  Baixando B3SA3.SA...\n"
     ]
    },
    {
     "name": "stderr",
     "output_type": "stream",
     "text": [
      "[*********************100%***********************]  1 of 1 completed\n",
      "C:\\Users\\Gustavo\\AppData\\Local\\Temp\\ipykernel_4500\\3608632239.py:65: FutureWarning: YF.download() has changed argument auto_adjust default to True\n",
      "  data = yf.download(ticker, period=PERIODO_DADOS, interval=intervalo_yf)\n"
     ]
    },
    {
     "name": "stdout",
     "output_type": "stream",
     "text": [
      "  Baixando BBAS3.SA...\n"
     ]
    },
    {
     "name": "stderr",
     "output_type": "stream",
     "text": [
      "[*********************100%***********************]  1 of 1 completed\n",
      "C:\\Users\\Gustavo\\AppData\\Local\\Temp\\ipykernel_4500\\3608632239.py:65: FutureWarning: YF.download() has changed argument auto_adjust default to True\n",
      "  data = yf.download(ticker, period=PERIODO_DADOS, interval=intervalo_yf)\n"
     ]
    },
    {
     "name": "stdout",
     "output_type": "stream",
     "text": [
      "  Baixando BBSE3.SA...\n"
     ]
    },
    {
     "name": "stderr",
     "output_type": "stream",
     "text": [
      "[*********************100%***********************]  1 of 1 completed\n",
      "C:\\Users\\Gustavo\\AppData\\Local\\Temp\\ipykernel_4500\\3608632239.py:65: FutureWarning: YF.download() has changed argument auto_adjust default to True\n",
      "  data = yf.download(ticker, period=PERIODO_DADOS, interval=intervalo_yf)\n"
     ]
    },
    {
     "name": "stdout",
     "output_type": "stream",
     "text": [
      "  Baixando BEEF3.SA...\n"
     ]
    },
    {
     "name": "stderr",
     "output_type": "stream",
     "text": [
      "[*********************100%***********************]  1 of 1 completed\n",
      "C:\\Users\\Gustavo\\AppData\\Local\\Temp\\ipykernel_4500\\3608632239.py:65: FutureWarning: YF.download() has changed argument auto_adjust default to True\n",
      "  data = yf.download(ticker, period=PERIODO_DADOS, interval=intervalo_yf)\n"
     ]
    },
    {
     "name": "stdout",
     "output_type": "stream",
     "text": [
      "  Baixando BIOM3.SA...\n"
     ]
    },
    {
     "name": "stderr",
     "output_type": "stream",
     "text": [
      "[*********************100%***********************]  1 of 1 completed\n",
      "C:\\Users\\Gustavo\\AppData\\Local\\Temp\\ipykernel_4500\\3608632239.py:65: FutureWarning: YF.download() has changed argument auto_adjust default to True\n",
      "  data = yf.download(ticker, period=PERIODO_DADOS, interval=intervalo_yf)\n"
     ]
    },
    {
     "name": "stdout",
     "output_type": "stream",
     "text": [
      "  Baixando BLAU3.SA...\n"
     ]
    },
    {
     "name": "stderr",
     "output_type": "stream",
     "text": [
      "[*********************100%***********************]  1 of 1 completed\n",
      "C:\\Users\\Gustavo\\AppData\\Local\\Temp\\ipykernel_4500\\3608632239.py:65: FutureWarning: YF.download() has changed argument auto_adjust default to True\n",
      "  data = yf.download(ticker, period=PERIODO_DADOS, interval=intervalo_yf)\n"
     ]
    },
    {
     "name": "stdout",
     "output_type": "stream",
     "text": [
      "  Baixando BMGB4.SA...\n"
     ]
    },
    {
     "name": "stderr",
     "output_type": "stream",
     "text": [
      "[*********************100%***********************]  1 of 1 completed\n",
      "C:\\Users\\Gustavo\\AppData\\Local\\Temp\\ipykernel_4500\\3608632239.py:65: FutureWarning: YF.download() has changed argument auto_adjust default to True\n",
      "  data = yf.download(ticker, period=PERIODO_DADOS, interval=intervalo_yf)\n"
     ]
    },
    {
     "name": "stdout",
     "output_type": "stream",
     "text": [
      "  Baixando BPAC11.SA...\n"
     ]
    },
    {
     "name": "stderr",
     "output_type": "stream",
     "text": [
      "[*********************100%***********************]  1 of 1 completed\n",
      "C:\\Users\\Gustavo\\AppData\\Local\\Temp\\ipykernel_4500\\3608632239.py:65: FutureWarning: YF.download() has changed argument auto_adjust default to True\n",
      "  data = yf.download(ticker, period=PERIODO_DADOS, interval=intervalo_yf)\n"
     ]
    },
    {
     "name": "stdout",
     "output_type": "stream",
     "text": [
      "  Baixando BPAN4.SA...\n"
     ]
    },
    {
     "name": "stderr",
     "output_type": "stream",
     "text": [
      "[*********************100%***********************]  1 of 1 completed\n",
      "C:\\Users\\Gustavo\\AppData\\Local\\Temp\\ipykernel_4500\\3608632239.py:65: FutureWarning: YF.download() has changed argument auto_adjust default to True\n",
      "  data = yf.download(ticker, period=PERIODO_DADOS, interval=intervalo_yf)\n"
     ]
    },
    {
     "name": "stdout",
     "output_type": "stream",
     "text": [
      "  Baixando BRAP4.SA...\n"
     ]
    },
    {
     "name": "stderr",
     "output_type": "stream",
     "text": [
      "[*********************100%***********************]  1 of 1 completed\n",
      "C:\\Users\\Gustavo\\AppData\\Local\\Temp\\ipykernel_4500\\3608632239.py:65: FutureWarning: YF.download() has changed argument auto_adjust default to True\n",
      "  data = yf.download(ticker, period=PERIODO_DADOS, interval=intervalo_yf)\n"
     ]
    },
    {
     "name": "stdout",
     "output_type": "stream",
     "text": [
      "  Baixando BRAV3.SA...\n"
     ]
    },
    {
     "name": "stderr",
     "output_type": "stream",
     "text": [
      "[*********************100%***********************]  1 of 1 completed\n",
      "C:\\Users\\Gustavo\\AppData\\Local\\Temp\\ipykernel_4500\\3608632239.py:65: FutureWarning: YF.download() has changed argument auto_adjust default to True\n",
      "  data = yf.download(ticker, period=PERIODO_DADOS, interval=intervalo_yf)\n"
     ]
    },
    {
     "name": "stdout",
     "output_type": "stream",
     "text": [
      "  Baixando BRFS3.SA...\n"
     ]
    },
    {
     "name": "stderr",
     "output_type": "stream",
     "text": [
      "[*********************100%***********************]  1 of 1 completed\n",
      "C:\\Users\\Gustavo\\AppData\\Local\\Temp\\ipykernel_4500\\3608632239.py:65: FutureWarning: YF.download() has changed argument auto_adjust default to True\n",
      "  data = yf.download(ticker, period=PERIODO_DADOS, interval=intervalo_yf)\n"
     ]
    },
    {
     "name": "stdout",
     "output_type": "stream",
     "text": [
      "  Baixando BRKM5.SA...\n"
     ]
    },
    {
     "name": "stderr",
     "output_type": "stream",
     "text": [
      "[*********************100%***********************]  1 of 1 completed\n",
      "C:\\Users\\Gustavo\\AppData\\Local\\Temp\\ipykernel_4500\\3608632239.py:65: FutureWarning: YF.download() has changed argument auto_adjust default to True\n",
      "  data = yf.download(ticker, period=PERIODO_DADOS, interval=intervalo_yf)\n"
     ]
    },
    {
     "name": "stdout",
     "output_type": "stream",
     "text": [
      "  Baixando BRST3.SA...\n"
     ]
    },
    {
     "name": "stderr",
     "output_type": "stream",
     "text": [
      "[*********************100%***********************]  1 of 1 completed\n",
      "C:\\Users\\Gustavo\\AppData\\Local\\Temp\\ipykernel_4500\\3608632239.py:65: FutureWarning: YF.download() has changed argument auto_adjust default to True\n",
      "  data = yf.download(ticker, period=PERIODO_DADOS, interval=intervalo_yf)\n"
     ]
    },
    {
     "name": "stdout",
     "output_type": "stream",
     "text": [
      "  Baixando CAML3.SA...\n"
     ]
    },
    {
     "name": "stderr",
     "output_type": "stream",
     "text": [
      "[*********************100%***********************]  1 of 1 completed\n",
      "C:\\Users\\Gustavo\\AppData\\Local\\Temp\\ipykernel_4500\\3608632239.py:65: FutureWarning: YF.download() has changed argument auto_adjust default to True\n",
      "  data = yf.download(ticker, period=PERIODO_DADOS, interval=intervalo_yf)\n"
     ]
    },
    {
     "name": "stdout",
     "output_type": "stream",
     "text": [
      "  Baixando CASH3.SA...\n"
     ]
    },
    {
     "name": "stderr",
     "output_type": "stream",
     "text": [
      "[*********************100%***********************]  1 of 1 completed\n",
      "C:\\Users\\Gustavo\\AppData\\Local\\Temp\\ipykernel_4500\\3608632239.py:65: FutureWarning: YF.download() has changed argument auto_adjust default to True\n",
      "  data = yf.download(ticker, period=PERIODO_DADOS, interval=intervalo_yf)\n"
     ]
    },
    {
     "name": "stdout",
     "output_type": "stream",
     "text": [
      "  Baixando CBAV3.SA...\n"
     ]
    },
    {
     "name": "stderr",
     "output_type": "stream",
     "text": [
      "[*********************100%***********************]  1 of 1 completed\n",
      "C:\\Users\\Gustavo\\AppData\\Local\\Temp\\ipykernel_4500\\3608632239.py:65: FutureWarning: YF.download() has changed argument auto_adjust default to True\n",
      "  data = yf.download(ticker, period=PERIODO_DADOS, interval=intervalo_yf)\n"
     ]
    },
    {
     "name": "stdout",
     "output_type": "stream",
     "text": [
      "  Baixando CMIG4.SA...\n"
     ]
    },
    {
     "name": "stderr",
     "output_type": "stream",
     "text": [
      "[*********************100%***********************]  1 of 1 completed\n",
      "C:\\Users\\Gustavo\\AppData\\Local\\Temp\\ipykernel_4500\\3608632239.py:65: FutureWarning: YF.download() has changed argument auto_adjust default to True\n",
      "  data = yf.download(ticker, period=PERIODO_DADOS, interval=intervalo_yf)\n"
     ]
    },
    {
     "name": "stdout",
     "output_type": "stream",
     "text": [
      "  Baixando CMIN3.SA...\n"
     ]
    },
    {
     "name": "stderr",
     "output_type": "stream",
     "text": [
      "[*********************100%***********************]  1 of 1 completed\n",
      "C:\\Users\\Gustavo\\AppData\\Local\\Temp\\ipykernel_4500\\3608632239.py:65: FutureWarning: YF.download() has changed argument auto_adjust default to True\n",
      "  data = yf.download(ticker, period=PERIODO_DADOS, interval=intervalo_yf)\n"
     ]
    },
    {
     "name": "stdout",
     "output_type": "stream",
     "text": [
      "  Baixando COGN3.SA...\n"
     ]
    },
    {
     "name": "stderr",
     "output_type": "stream",
     "text": [
      "[*********************100%***********************]  1 of 1 completed\n",
      "C:\\Users\\Gustavo\\AppData\\Local\\Temp\\ipykernel_4500\\3608632239.py:65: FutureWarning: YF.download() has changed argument auto_adjust default to True\n",
      "  data = yf.download(ticker, period=PERIODO_DADOS, interval=intervalo_yf)\n"
     ]
    },
    {
     "name": "stdout",
     "output_type": "stream",
     "text": [
      "  Baixando CPLE6.SA...\n"
     ]
    },
    {
     "name": "stderr",
     "output_type": "stream",
     "text": [
      "[*********************100%***********************]  1 of 1 completed\n",
      "C:\\Users\\Gustavo\\AppData\\Local\\Temp\\ipykernel_4500\\3608632239.py:65: FutureWarning: YF.download() has changed argument auto_adjust default to True\n",
      "  data = yf.download(ticker, period=PERIODO_DADOS, interval=intervalo_yf)\n"
     ]
    },
    {
     "name": "stdout",
     "output_type": "stream",
     "text": [
      "  Baixando CSAN3.SA...\n"
     ]
    },
    {
     "name": "stderr",
     "output_type": "stream",
     "text": [
      "[*********************100%***********************]  1 of 1 completed\n",
      "C:\\Users\\Gustavo\\AppData\\Local\\Temp\\ipykernel_4500\\3608632239.py:65: FutureWarning: YF.download() has changed argument auto_adjust default to True\n",
      "  data = yf.download(ticker, period=PERIODO_DADOS, interval=intervalo_yf)\n"
     ]
    },
    {
     "name": "stdout",
     "output_type": "stream",
     "text": [
      "  Baixando CSED3.SA...\n"
     ]
    },
    {
     "name": "stderr",
     "output_type": "stream",
     "text": [
      "[*********************100%***********************]  1 of 1 completed\n",
      "C:\\Users\\Gustavo\\AppData\\Local\\Temp\\ipykernel_4500\\3608632239.py:65: FutureWarning: YF.download() has changed argument auto_adjust default to True\n",
      "  data = yf.download(ticker, period=PERIODO_DADOS, interval=intervalo_yf)\n"
     ]
    },
    {
     "name": "stdout",
     "output_type": "stream",
     "text": [
      "  Baixando CSNA3.SA...\n"
     ]
    },
    {
     "name": "stderr",
     "output_type": "stream",
     "text": [
      "[*********************100%***********************]  1 of 1 completed\n",
      "C:\\Users\\Gustavo\\AppData\\Local\\Temp\\ipykernel_4500\\3608632239.py:65: FutureWarning: YF.download() has changed argument auto_adjust default to True\n",
      "  data = yf.download(ticker, period=PERIODO_DADOS, interval=intervalo_yf)\n"
     ]
    },
    {
     "name": "stdout",
     "output_type": "stream",
     "text": [
      "  Baixando CVCB3.SA...\n"
     ]
    },
    {
     "name": "stderr",
     "output_type": "stream",
     "text": [
      "[*********************100%***********************]  1 of 1 completed\n",
      "C:\\Users\\Gustavo\\AppData\\Local\\Temp\\ipykernel_4500\\3608632239.py:65: FutureWarning: YF.download() has changed argument auto_adjust default to True\n",
      "  data = yf.download(ticker, period=PERIODO_DADOS, interval=intervalo_yf)\n"
     ]
    },
    {
     "name": "stdout",
     "output_type": "stream",
     "text": [
      "  Baixando CYRE3.SA...\n"
     ]
    },
    {
     "name": "stderr",
     "output_type": "stream",
     "text": [
      "[*********************100%***********************]  1 of 1 completed\n",
      "C:\\Users\\Gustavo\\AppData\\Local\\Temp\\ipykernel_4500\\3608632239.py:65: FutureWarning: YF.download() has changed argument auto_adjust default to True\n",
      "  data = yf.download(ticker, period=PERIODO_DADOS, interval=intervalo_yf)\n"
     ]
    },
    {
     "name": "stdout",
     "output_type": "stream",
     "text": [
      "  Baixando DASA3.SA...\n"
     ]
    },
    {
     "name": "stderr",
     "output_type": "stream",
     "text": [
      "[*********************100%***********************]  1 of 1 completed\n",
      "C:\\Users\\Gustavo\\AppData\\Local\\Temp\\ipykernel_4500\\3608632239.py:65: FutureWarning: YF.download() has changed argument auto_adjust default to True\n",
      "  data = yf.download(ticker, period=PERIODO_DADOS, interval=intervalo_yf)\n"
     ]
    },
    {
     "name": "stdout",
     "output_type": "stream",
     "text": [
      "  Baixando DXCO3.SA...\n"
     ]
    },
    {
     "name": "stderr",
     "output_type": "stream",
     "text": [
      "[*********************100%***********************]  1 of 1 completed\n",
      "C:\\Users\\Gustavo\\AppData\\Local\\Temp\\ipykernel_4500\\3608632239.py:65: FutureWarning: YF.download() has changed argument auto_adjust default to True\n",
      "  data = yf.download(ticker, period=PERIODO_DADOS, interval=intervalo_yf)\n"
     ]
    },
    {
     "name": "stdout",
     "output_type": "stream",
     "text": [
      "  Baixando ECOR3.SA...\n"
     ]
    },
    {
     "name": "stderr",
     "output_type": "stream",
     "text": [
      "[*********************100%***********************]  1 of 1 completed\n",
      "C:\\Users\\Gustavo\\AppData\\Local\\Temp\\ipykernel_4500\\3608632239.py:65: FutureWarning: YF.download() has changed argument auto_adjust default to True\n",
      "  data = yf.download(ticker, period=PERIODO_DADOS, interval=intervalo_yf)\n"
     ]
    },
    {
     "name": "stdout",
     "output_type": "stream",
     "text": [
      "  Baixando ELET3.SA...\n"
     ]
    },
    {
     "name": "stderr",
     "output_type": "stream",
     "text": [
      "[*********************100%***********************]  1 of 1 completed\n",
      "C:\\Users\\Gustavo\\AppData\\Local\\Temp\\ipykernel_4500\\3608632239.py:65: FutureWarning: YF.download() has changed argument auto_adjust default to True\n",
      "  data = yf.download(ticker, period=PERIODO_DADOS, interval=intervalo_yf)\n"
     ]
    },
    {
     "name": "stdout",
     "output_type": "stream",
     "text": [
      "  Baixando EMBR3.SA...\n"
     ]
    },
    {
     "name": "stderr",
     "output_type": "stream",
     "text": [
      "[*********************100%***********************]  1 of 1 completed\n",
      "C:\\Users\\Gustavo\\AppData\\Local\\Temp\\ipykernel_4500\\3608632239.py:65: FutureWarning: YF.download() has changed argument auto_adjust default to True\n",
      "  data = yf.download(ticker, period=PERIODO_DADOS, interval=intervalo_yf)\n"
     ]
    },
    {
     "name": "stdout",
     "output_type": "stream",
     "text": [
      "  Baixando ENEV3.SA...\n"
     ]
    },
    {
     "name": "stderr",
     "output_type": "stream",
     "text": [
      "[*********************100%***********************]  1 of 1 completed\n",
      "C:\\Users\\Gustavo\\AppData\\Local\\Temp\\ipykernel_4500\\3608632239.py:65: FutureWarning: YF.download() has changed argument auto_adjust default to True\n",
      "  data = yf.download(ticker, period=PERIODO_DADOS, interval=intervalo_yf)\n"
     ]
    },
    {
     "name": "stdout",
     "output_type": "stream",
     "text": [
      "  Baixando ENJU3.SA...\n"
     ]
    },
    {
     "name": "stderr",
     "output_type": "stream",
     "text": [
      "[*********************100%***********************]  1 of 1 completed\n",
      "C:\\Users\\Gustavo\\AppData\\Local\\Temp\\ipykernel_4500\\3608632239.py:65: FutureWarning: YF.download() has changed argument auto_adjust default to True\n",
      "  data = yf.download(ticker, period=PERIODO_DADOS, interval=intervalo_yf)\n"
     ]
    },
    {
     "name": "stdout",
     "output_type": "stream",
     "text": [
      "  Baixando EQTL3.SA...\n"
     ]
    },
    {
     "name": "stderr",
     "output_type": "stream",
     "text": [
      "[*********************100%***********************]  1 of 1 completed\n",
      "C:\\Users\\Gustavo\\AppData\\Local\\Temp\\ipykernel_4500\\3608632239.py:65: FutureWarning: YF.download() has changed argument auto_adjust default to True\n",
      "  data = yf.download(ticker, period=PERIODO_DADOS, interval=intervalo_yf)\n"
     ]
    },
    {
     "name": "stdout",
     "output_type": "stream",
     "text": [
      "  Baixando EVEN3.SA...\n"
     ]
    },
    {
     "name": "stderr",
     "output_type": "stream",
     "text": [
      "[*********************100%***********************]  1 of 1 completed\n",
      "C:\\Users\\Gustavo\\AppData\\Local\\Temp\\ipykernel_4500\\3608632239.py:65: FutureWarning: YF.download() has changed argument auto_adjust default to True\n",
      "  data = yf.download(ticker, period=PERIODO_DADOS, interval=intervalo_yf)\n"
     ]
    },
    {
     "name": "stdout",
     "output_type": "stream",
     "text": [
      "  Baixando EZTC3.SA...\n"
     ]
    },
    {
     "name": "stderr",
     "output_type": "stream",
     "text": [
      "[*********************100%***********************]  1 of 1 completed\n",
      "C:\\Users\\Gustavo\\AppData\\Local\\Temp\\ipykernel_4500\\3608632239.py:65: FutureWarning: YF.download() has changed argument auto_adjust default to True\n",
      "  data = yf.download(ticker, period=PERIODO_DADOS, interval=intervalo_yf)\n"
     ]
    },
    {
     "name": "stdout",
     "output_type": "stream",
     "text": [
      "  Baixando FIQE3.SA...\n"
     ]
    },
    {
     "name": "stderr",
     "output_type": "stream",
     "text": [
      "[*********************100%***********************]  1 of 1 completed\n",
      "C:\\Users\\Gustavo\\AppData\\Local\\Temp\\ipykernel_4500\\3608632239.py:65: FutureWarning: YF.download() has changed argument auto_adjust default to True\n",
      "  data = yf.download(ticker, period=PERIODO_DADOS, interval=intervalo_yf)\n"
     ]
    },
    {
     "name": "stdout",
     "output_type": "stream",
     "text": [
      "  Baixando FLRY3.SA...\n"
     ]
    },
    {
     "name": "stderr",
     "output_type": "stream",
     "text": [
      "[*********************100%***********************]  1 of 1 completed\n",
      "C:\\Users\\Gustavo\\AppData\\Local\\Temp\\ipykernel_4500\\3608632239.py:65: FutureWarning: YF.download() has changed argument auto_adjust default to True\n",
      "  data = yf.download(ticker, period=PERIODO_DADOS, interval=intervalo_yf)\n"
     ]
    },
    {
     "name": "stdout",
     "output_type": "stream",
     "text": [
      "  Baixando GGBR4.SA...\n"
     ]
    },
    {
     "name": "stderr",
     "output_type": "stream",
     "text": [
      "[*********************100%***********************]  1 of 1 completed\n",
      "C:\\Users\\Gustavo\\AppData\\Local\\Temp\\ipykernel_4500\\3608632239.py:65: FutureWarning: YF.download() has changed argument auto_adjust default to True\n",
      "  data = yf.download(ticker, period=PERIODO_DADOS, interval=intervalo_yf)\n"
     ]
    },
    {
     "name": "stdout",
     "output_type": "stream",
     "text": [
      "  Baixando GFSA3.SA...\n"
     ]
    },
    {
     "name": "stderr",
     "output_type": "stream",
     "text": [
      "[*********************100%***********************]  1 of 1 completed\n",
      "C:\\Users\\Gustavo\\AppData\\Local\\Temp\\ipykernel_4500\\3608632239.py:65: FutureWarning: YF.download() has changed argument auto_adjust default to True\n",
      "  data = yf.download(ticker, period=PERIODO_DADOS, interval=intervalo_yf)\n"
     ]
    },
    {
     "name": "stdout",
     "output_type": "stream",
     "text": [
      "  Baixando GMAT3.SA...\n"
     ]
    },
    {
     "name": "stderr",
     "output_type": "stream",
     "text": [
      "[*********************100%***********************]  1 of 1 completed\n",
      "C:\\Users\\Gustavo\\AppData\\Local\\Temp\\ipykernel_4500\\3608632239.py:65: FutureWarning: YF.download() has changed argument auto_adjust default to True\n",
      "  data = yf.download(ticker, period=PERIODO_DADOS, interval=intervalo_yf)\n"
     ]
    },
    {
     "name": "stdout",
     "output_type": "stream",
     "text": [
      "  Baixando GOAU4.SA...\n"
     ]
    },
    {
     "name": "stderr",
     "output_type": "stream",
     "text": [
      "[*********************100%***********************]  1 of 1 completed\n",
      "C:\\Users\\Gustavo\\AppData\\Local\\Temp\\ipykernel_4500\\3608632239.py:65: FutureWarning: YF.download() has changed argument auto_adjust default to True\n",
      "  data = yf.download(ticker, period=PERIODO_DADOS, interval=intervalo_yf)\n"
     ]
    },
    {
     "name": "stdout",
     "output_type": "stream",
     "text": [
      "  Baixando HAPV3.SA...\n"
     ]
    },
    {
     "name": "stderr",
     "output_type": "stream",
     "text": [
      "[*********************100%***********************]  1 of 1 completed\n",
      "C:\\Users\\Gustavo\\AppData\\Local\\Temp\\ipykernel_4500\\3608632239.py:65: FutureWarning: YF.download() has changed argument auto_adjust default to True\n",
      "  data = yf.download(ticker, period=PERIODO_DADOS, interval=intervalo_yf)\n"
     ]
    },
    {
     "name": "stdout",
     "output_type": "stream",
     "text": [
      "  Baixando HBOR3.SA...\n"
     ]
    },
    {
     "name": "stderr",
     "output_type": "stream",
     "text": [
      "[*********************100%***********************]  1 of 1 completed\n",
      "C:\\Users\\Gustavo\\AppData\\Local\\Temp\\ipykernel_4500\\3608632239.py:65: FutureWarning: YF.download() has changed argument auto_adjust default to True\n",
      "  data = yf.download(ticker, period=PERIODO_DADOS, interval=intervalo_yf)\n"
     ]
    },
    {
     "name": "stdout",
     "output_type": "stream",
     "text": [
      "  Baixando HBRE3.SA...\n"
     ]
    },
    {
     "name": "stderr",
     "output_type": "stream",
     "text": [
      "[*********************100%***********************]  1 of 1 completed\n",
      "C:\\Users\\Gustavo\\AppData\\Local\\Temp\\ipykernel_4500\\3608632239.py:65: FutureWarning: YF.download() has changed argument auto_adjust default to True\n",
      "  data = yf.download(ticker, period=PERIODO_DADOS, interval=intervalo_yf)\n"
     ]
    },
    {
     "name": "stdout",
     "output_type": "stream",
     "text": [
      "  Baixando HBSA3.SA...\n"
     ]
    },
    {
     "name": "stderr",
     "output_type": "stream",
     "text": [
      "[*********************100%***********************]  1 of 1 completed\n",
      "C:\\Users\\Gustavo\\AppData\\Local\\Temp\\ipykernel_4500\\3608632239.py:65: FutureWarning: YF.download() has changed argument auto_adjust default to True\n",
      "  data = yf.download(ticker, period=PERIODO_DADOS, interval=intervalo_yf)\n"
     ]
    },
    {
     "name": "stdout",
     "output_type": "stream",
     "text": [
      "  Baixando HYPE3.SA...\n"
     ]
    },
    {
     "name": "stderr",
     "output_type": "stream",
     "text": [
      "[*********************100%***********************]  1 of 1 completed\n",
      "C:\\Users\\Gustavo\\AppData\\Local\\Temp\\ipykernel_4500\\3608632239.py:65: FutureWarning: YF.download() has changed argument auto_adjust default to True\n",
      "  data = yf.download(ticker, period=PERIODO_DADOS, interval=intervalo_yf)\n"
     ]
    },
    {
     "name": "stdout",
     "output_type": "stream",
     "text": [
      "  Baixando INBR32.SA...\n"
     ]
    },
    {
     "name": "stderr",
     "output_type": "stream",
     "text": [
      "[*********************100%***********************]  1 of 1 completed\n",
      "C:\\Users\\Gustavo\\AppData\\Local\\Temp\\ipykernel_4500\\3608632239.py:65: FutureWarning: YF.download() has changed argument auto_adjust default to True\n",
      "  data = yf.download(ticker, period=PERIODO_DADOS, interval=intervalo_yf)\n"
     ]
    },
    {
     "name": "stdout",
     "output_type": "stream",
     "text": [
      "  Baixando IRBR3.SA...\n"
     ]
    },
    {
     "name": "stderr",
     "output_type": "stream",
     "text": [
      "[*********************100%***********************]  1 of 1 completed\n",
      "C:\\Users\\Gustavo\\AppData\\Local\\Temp\\ipykernel_4500\\3608632239.py:65: FutureWarning: YF.download() has changed argument auto_adjust default to True\n",
      "  data = yf.download(ticker, period=PERIODO_DADOS, interval=intervalo_yf)\n"
     ]
    },
    {
     "name": "stdout",
     "output_type": "stream",
     "text": [
      "  Baixando ITSA4.SA...\n"
     ]
    },
    {
     "name": "stderr",
     "output_type": "stream",
     "text": [
      "[*********************100%***********************]  1 of 1 completed\n",
      "C:\\Users\\Gustavo\\AppData\\Local\\Temp\\ipykernel_4500\\3608632239.py:65: FutureWarning: YF.download() has changed argument auto_adjust default to True\n",
      "  data = yf.download(ticker, period=PERIODO_DADOS, interval=intervalo_yf)\n"
     ]
    },
    {
     "name": "stdout",
     "output_type": "stream",
     "text": [
      "  Baixando ITUB4.SA...\n"
     ]
    },
    {
     "name": "stderr",
     "output_type": "stream",
     "text": [
      "[*********************100%***********************]  1 of 1 completed\n",
      "C:\\Users\\Gustavo\\AppData\\Local\\Temp\\ipykernel_4500\\3608632239.py:65: FutureWarning: YF.download() has changed argument auto_adjust default to True\n",
      "  data = yf.download(ticker, period=PERIODO_DADOS, interval=intervalo_yf)\n"
     ]
    },
    {
     "name": "stdout",
     "output_type": "stream",
     "text": [
      "  Baixando JHSF3.SA...\n"
     ]
    },
    {
     "name": "stderr",
     "output_type": "stream",
     "text": [
      "[*********************100%***********************]  1 of 1 completed\n",
      "C:\\Users\\Gustavo\\AppData\\Local\\Temp\\ipykernel_4500\\3608632239.py:65: FutureWarning: YF.download() has changed argument auto_adjust default to True\n",
      "  data = yf.download(ticker, period=PERIODO_DADOS, interval=intervalo_yf)\n"
     ]
    },
    {
     "name": "stdout",
     "output_type": "stream",
     "text": [
      "  Baixando JSLG3.SA...\n"
     ]
    },
    {
     "name": "stderr",
     "output_type": "stream",
     "text": [
      "[*********************100%***********************]  1 of 1 completed\n",
      "C:\\Users\\Gustavo\\AppData\\Local\\Temp\\ipykernel_4500\\3608632239.py:65: FutureWarning: YF.download() has changed argument auto_adjust default to True\n",
      "  data = yf.download(ticker, period=PERIODO_DADOS, interval=intervalo_yf)\n"
     ]
    },
    {
     "name": "stdout",
     "output_type": "stream",
     "text": [
      "  Baixando KLBN11.SA...\n"
     ]
    },
    {
     "name": "stderr",
     "output_type": "stream",
     "text": [
      "[*********************100%***********************]  1 of 1 completed\n",
      "C:\\Users\\Gustavo\\AppData\\Local\\Temp\\ipykernel_4500\\3608632239.py:65: FutureWarning: YF.download() has changed argument auto_adjust default to True\n",
      "  data = yf.download(ticker, period=PERIODO_DADOS, interval=intervalo_yf)\n"
     ]
    },
    {
     "name": "stdout",
     "output_type": "stream",
     "text": [
      "  Baixando LIGT3.SA...\n"
     ]
    },
    {
     "name": "stderr",
     "output_type": "stream",
     "text": [
      "[*********************100%***********************]  1 of 1 completed\n",
      "C:\\Users\\Gustavo\\AppData\\Local\\Temp\\ipykernel_4500\\3608632239.py:65: FutureWarning: YF.download() has changed argument auto_adjust default to True\n",
      "  data = yf.download(ticker, period=PERIODO_DADOS, interval=intervalo_yf)\n"
     ]
    },
    {
     "name": "stdout",
     "output_type": "stream",
     "text": [
      "  Baixando LREN3.SA...\n"
     ]
    },
    {
     "name": "stderr",
     "output_type": "stream",
     "text": [
      "[*********************100%***********************]  1 of 1 completed\n",
      "C:\\Users\\Gustavo\\AppData\\Local\\Temp\\ipykernel_4500\\3608632239.py:65: FutureWarning: YF.download() has changed argument auto_adjust default to True\n",
      "  data = yf.download(ticker, period=PERIODO_DADOS, interval=intervalo_yf)\n"
     ]
    },
    {
     "name": "stdout",
     "output_type": "stream",
     "text": [
      "  Baixando LWSA3.SA...\n"
     ]
    },
    {
     "name": "stderr",
     "output_type": "stream",
     "text": [
      "[*********************100%***********************]  1 of 1 completed\n",
      "C:\\Users\\Gustavo\\AppData\\Local\\Temp\\ipykernel_4500\\3608632239.py:65: FutureWarning: YF.download() has changed argument auto_adjust default to True\n",
      "  data = yf.download(ticker, period=PERIODO_DADOS, interval=intervalo_yf)\n"
     ]
    },
    {
     "name": "stdout",
     "output_type": "stream",
     "text": [
      "  Baixando MBRF3.SA...\n"
     ]
    },
    {
     "name": "stderr",
     "output_type": "stream",
     "text": [
      "[*********************100%***********************]  1 of 1 completed\n",
      "C:\\Users\\Gustavo\\AppData\\Local\\Temp\\ipykernel_4500\\3608632239.py:65: FutureWarning: YF.download() has changed argument auto_adjust default to True\n",
      "  data = yf.download(ticker, period=PERIODO_DADOS, interval=intervalo_yf)\n"
     ]
    },
    {
     "name": "stdout",
     "output_type": "stream",
     "text": [
      "  Baixando MEAL3.SA...\n"
     ]
    },
    {
     "name": "stderr",
     "output_type": "stream",
     "text": [
      "[*********************100%***********************]  1 of 1 completed\n",
      "C:\\Users\\Gustavo\\AppData\\Local\\Temp\\ipykernel_4500\\3608632239.py:65: FutureWarning: YF.download() has changed argument auto_adjust default to True\n",
      "  data = yf.download(ticker, period=PERIODO_DADOS, interval=intervalo_yf)\n"
     ]
    },
    {
     "name": "stdout",
     "output_type": "stream",
     "text": [
      "  Baixando MELK3.SA...\n"
     ]
    },
    {
     "name": "stderr",
     "output_type": "stream",
     "text": [
      "[*********************100%***********************]  1 of 1 completed\n",
      "C:\\Users\\Gustavo\\AppData\\Local\\Temp\\ipykernel_4500\\3608632239.py:65: FutureWarning: YF.download() has changed argument auto_adjust default to True\n",
      "  data = yf.download(ticker, period=PERIODO_DADOS, interval=intervalo_yf)\n"
     ]
    },
    {
     "name": "stdout",
     "output_type": "stream",
     "text": [
      "  Baixando MGLU3.SA...\n"
     ]
    },
    {
     "name": "stderr",
     "output_type": "stream",
     "text": [
      "[*********************100%***********************]  1 of 1 completed\n",
      "C:\\Users\\Gustavo\\AppData\\Local\\Temp\\ipykernel_4500\\3608632239.py:65: FutureWarning: YF.download() has changed argument auto_adjust default to True\n",
      "  data = yf.download(ticker, period=PERIODO_DADOS, interval=intervalo_yf)\n"
     ]
    },
    {
     "name": "stdout",
     "output_type": "stream",
     "text": [
      "  Baixando MOTV3.SA...\n"
     ]
    },
    {
     "name": "stderr",
     "output_type": "stream",
     "text": [
      "[*********************100%***********************]  1 of 1 completed\n",
      "C:\\Users\\Gustavo\\AppData\\Local\\Temp\\ipykernel_4500\\3608632239.py:65: FutureWarning: YF.download() has changed argument auto_adjust default to True\n",
      "  data = yf.download(ticker, period=PERIODO_DADOS, interval=intervalo_yf)\n"
     ]
    },
    {
     "name": "stdout",
     "output_type": "stream",
     "text": [
      "  Baixando MRVE3.SA...\n"
     ]
    },
    {
     "name": "stderr",
     "output_type": "stream",
     "text": [
      "[*********************100%***********************]  1 of 1 completed\n",
      "C:\\Users\\Gustavo\\AppData\\Local\\Temp\\ipykernel_4500\\3608632239.py:65: FutureWarning: YF.download() has changed argument auto_adjust default to True\n",
      "  data = yf.download(ticker, period=PERIODO_DADOS, interval=intervalo_yf)\n"
     ]
    },
    {
     "name": "stdout",
     "output_type": "stream",
     "text": [
      "  Baixando MTRE3.SA...\n"
     ]
    },
    {
     "name": "stderr",
     "output_type": "stream",
     "text": [
      "[*********************100%***********************]  1 of 1 completed\n",
      "C:\\Users\\Gustavo\\AppData\\Local\\Temp\\ipykernel_4500\\3608632239.py:65: FutureWarning: YF.download() has changed argument auto_adjust default to True\n",
      "  data = yf.download(ticker, period=PERIODO_DADOS, interval=intervalo_yf)\n"
     ]
    },
    {
     "name": "stdout",
     "output_type": "stream",
     "text": [
      "  Baixando NATU3.SA...\n"
     ]
    },
    {
     "name": "stderr",
     "output_type": "stream",
     "text": [
      "[*********************100%***********************]  1 of 1 completed\n",
      "C:\\Users\\Gustavo\\AppData\\Local\\Temp\\ipykernel_4500\\3608632239.py:65: FutureWarning: YF.download() has changed argument auto_adjust default to True\n",
      "  data = yf.download(ticker, period=PERIODO_DADOS, interval=intervalo_yf)\n"
     ]
    },
    {
     "name": "stdout",
     "output_type": "stream",
     "text": [
      "  Baixando NEOE3.SA...\n"
     ]
    },
    {
     "name": "stderr",
     "output_type": "stream",
     "text": [
      "[*********************100%***********************]  1 of 1 completed\n",
      "C:\\Users\\Gustavo\\AppData\\Local\\Temp\\ipykernel_4500\\3608632239.py:65: FutureWarning: YF.download() has changed argument auto_adjust default to True\n",
      "  data = yf.download(ticker, period=PERIODO_DADOS, interval=intervalo_yf)\n"
     ]
    },
    {
     "name": "stdout",
     "output_type": "stream",
     "text": [
      "  Baixando ONCO3.SA...\n"
     ]
    },
    {
     "name": "stderr",
     "output_type": "stream",
     "text": [
      "[*********************100%***********************]  1 of 1 completed\n",
      "C:\\Users\\Gustavo\\AppData\\Local\\Temp\\ipykernel_4500\\3608632239.py:65: FutureWarning: YF.download() has changed argument auto_adjust default to True\n",
      "  data = yf.download(ticker, period=PERIODO_DADOS, interval=intervalo_yf)\n"
     ]
    },
    {
     "name": "stdout",
     "output_type": "stream",
     "text": [
      "  Baixando PCAR3.SA...\n"
     ]
    },
    {
     "name": "stderr",
     "output_type": "stream",
     "text": [
      "[*********************100%***********************]  1 of 1 completed\n",
      "C:\\Users\\Gustavo\\AppData\\Local\\Temp\\ipykernel_4500\\3608632239.py:65: FutureWarning: YF.download() has changed argument auto_adjust default to True\n",
      "  data = yf.download(ticker, period=PERIODO_DADOS, interval=intervalo_yf)\n"
     ]
    },
    {
     "name": "stdout",
     "output_type": "stream",
     "text": [
      "  Baixando PETR4.SA...\n"
     ]
    },
    {
     "name": "stderr",
     "output_type": "stream",
     "text": [
      "[*********************100%***********************]  1 of 1 completed\n",
      "C:\\Users\\Gustavo\\AppData\\Local\\Temp\\ipykernel_4500\\3608632239.py:65: FutureWarning: YF.download() has changed argument auto_adjust default to True\n",
      "  data = yf.download(ticker, period=PERIODO_DADOS, interval=intervalo_yf)\n"
     ]
    },
    {
     "name": "stdout",
     "output_type": "stream",
     "text": [
      "  Baixando PETZ3.SA...\n"
     ]
    },
    {
     "name": "stderr",
     "output_type": "stream",
     "text": [
      "[*********************100%***********************]  1 of 1 completed\n",
      "C:\\Users\\Gustavo\\AppData\\Local\\Temp\\ipykernel_4500\\3608632239.py:65: FutureWarning: YF.download() has changed argument auto_adjust default to True\n",
      "  data = yf.download(ticker, period=PERIODO_DADOS, interval=intervalo_yf)\n"
     ]
    },
    {
     "name": "stdout",
     "output_type": "stream",
     "text": [
      "  Baixando PFRM3.SA...\n"
     ]
    },
    {
     "name": "stderr",
     "output_type": "stream",
     "text": [
      "[*********************100%***********************]  1 of 1 completed\n",
      "C:\\Users\\Gustavo\\AppData\\Local\\Temp\\ipykernel_4500\\3608632239.py:65: FutureWarning: YF.download() has changed argument auto_adjust default to True\n",
      "  data = yf.download(ticker, period=PERIODO_DADOS, interval=intervalo_yf)\n"
     ]
    },
    {
     "name": "stdout",
     "output_type": "stream",
     "text": [
      "  Baixando PGMN3.SA...\n"
     ]
    },
    {
     "name": "stderr",
     "output_type": "stream",
     "text": [
      "[*********************100%***********************]  1 of 1 completed\n",
      "C:\\Users\\Gustavo\\AppData\\Local\\Temp\\ipykernel_4500\\3608632239.py:65: FutureWarning: YF.download() has changed argument auto_adjust default to True\n",
      "  data = yf.download(ticker, period=PERIODO_DADOS, interval=intervalo_yf)\n"
     ]
    },
    {
     "name": "stdout",
     "output_type": "stream",
     "text": [
      "  Baixando PRIO3.SA...\n"
     ]
    },
    {
     "name": "stderr",
     "output_type": "stream",
     "text": [
      "[*********************100%***********************]  1 of 1 completed\n",
      "C:\\Users\\Gustavo\\AppData\\Local\\Temp\\ipykernel_4500\\3608632239.py:65: FutureWarning: YF.download() has changed argument auto_adjust default to True\n",
      "  data = yf.download(ticker, period=PERIODO_DADOS, interval=intervalo_yf)\n"
     ]
    },
    {
     "name": "stdout",
     "output_type": "stream",
     "text": [
      "  Baixando PSSA3.SA...\n"
     ]
    },
    {
     "name": "stderr",
     "output_type": "stream",
     "text": [
      "[*********************100%***********************]  1 of 1 completed\n",
      "C:\\Users\\Gustavo\\AppData\\Local\\Temp\\ipykernel_4500\\3608632239.py:65: FutureWarning: YF.download() has changed argument auto_adjust default to True\n",
      "  data = yf.download(ticker, period=PERIODO_DADOS, interval=intervalo_yf)\n"
     ]
    },
    {
     "name": "stdout",
     "output_type": "stream",
     "text": [
      "  Baixando QUAL3.SA...\n"
     ]
    },
    {
     "name": "stderr",
     "output_type": "stream",
     "text": [
      "[*********************100%***********************]  1 of 1 completed\n",
      "C:\\Users\\Gustavo\\AppData\\Local\\Temp\\ipykernel_4500\\3608632239.py:65: FutureWarning: YF.download() has changed argument auto_adjust default to True\n",
      "  data = yf.download(ticker, period=PERIODO_DADOS, interval=intervalo_yf)\n"
     ]
    },
    {
     "name": "stdout",
     "output_type": "stream",
     "text": [
      "  Baixando RADL3.SA...\n"
     ]
    },
    {
     "name": "stderr",
     "output_type": "stream",
     "text": [
      "[*********************100%***********************]  1 of 1 completed\n",
      "C:\\Users\\Gustavo\\AppData\\Local\\Temp\\ipykernel_4500\\3608632239.py:65: FutureWarning: YF.download() has changed argument auto_adjust default to True\n",
      "  data = yf.download(ticker, period=PERIODO_DADOS, interval=intervalo_yf)\n"
     ]
    },
    {
     "name": "stdout",
     "output_type": "stream",
     "text": [
      "  Baixando RAIL3.SA...\n"
     ]
    },
    {
     "name": "stderr",
     "output_type": "stream",
     "text": [
      "[*********************100%***********************]  1 of 1 completed\n",
      "C:\\Users\\Gustavo\\AppData\\Local\\Temp\\ipykernel_4500\\3608632239.py:65: FutureWarning: YF.download() has changed argument auto_adjust default to True\n",
      "  data = yf.download(ticker, period=PERIODO_DADOS, interval=intervalo_yf)\n"
     ]
    },
    {
     "name": "stdout",
     "output_type": "stream",
     "text": [
      "  Baixando RAIZ4.SA...\n"
     ]
    },
    {
     "name": "stderr",
     "output_type": "stream",
     "text": [
      "[*********************100%***********************]  1 of 1 completed\n",
      "C:\\Users\\Gustavo\\AppData\\Local\\Temp\\ipykernel_4500\\3608632239.py:65: FutureWarning: YF.download() has changed argument auto_adjust default to True\n",
      "  data = yf.download(ticker, period=PERIODO_DADOS, interval=intervalo_yf)\n"
     ]
    },
    {
     "name": "stdout",
     "output_type": "stream",
     "text": [
      "  Baixando RDOR3.SA...\n"
     ]
    },
    {
     "name": "stderr",
     "output_type": "stream",
     "text": [
      "[*********************100%***********************]  1 of 1 completed\n",
      "C:\\Users\\Gustavo\\AppData\\Local\\Temp\\ipykernel_4500\\3608632239.py:65: FutureWarning: YF.download() has changed argument auto_adjust default to True\n",
      "  data = yf.download(ticker, period=PERIODO_DADOS, interval=intervalo_yf)\n"
     ]
    },
    {
     "name": "stdout",
     "output_type": "stream",
     "text": [
      "  Baixando RENT3.SA...\n"
     ]
    },
    {
     "name": "stderr",
     "output_type": "stream",
     "text": [
      "[*********************100%***********************]  1 of 1 completed\n",
      "C:\\Users\\Gustavo\\AppData\\Local\\Temp\\ipykernel_4500\\3608632239.py:65: FutureWarning: YF.download() has changed argument auto_adjust default to True\n",
      "  data = yf.download(ticker, period=PERIODO_DADOS, interval=intervalo_yf)\n"
     ]
    },
    {
     "name": "stdout",
     "output_type": "stream",
     "text": [
      "  Baixando ROMI3.SA...\n"
     ]
    },
    {
     "name": "stderr",
     "output_type": "stream",
     "text": [
      "[*********************100%***********************]  1 of 1 completed\n",
      "C:\\Users\\Gustavo\\AppData\\Local\\Temp\\ipykernel_4500\\3608632239.py:65: FutureWarning: YF.download() has changed argument auto_adjust default to True\n",
      "  data = yf.download(ticker, period=PERIODO_DADOS, interval=intervalo_yf)\n"
     ]
    },
    {
     "name": "stdout",
     "output_type": "stream",
     "text": [
      "  Baixando SANB11.SA...\n"
     ]
    },
    {
     "name": "stderr",
     "output_type": "stream",
     "text": [
      "[*********************100%***********************]  1 of 1 completed\n",
      "C:\\Users\\Gustavo\\AppData\\Local\\Temp\\ipykernel_4500\\3608632239.py:65: FutureWarning: YF.download() has changed argument auto_adjust default to True\n",
      "  data = yf.download(ticker, period=PERIODO_DADOS, interval=intervalo_yf)\n"
     ]
    },
    {
     "name": "stdout",
     "output_type": "stream",
     "text": [
      "  Baixando SBSP3.SA...\n"
     ]
    },
    {
     "name": "stderr",
     "output_type": "stream",
     "text": [
      "[*********************100%***********************]  1 of 1 completed\n",
      "C:\\Users\\Gustavo\\AppData\\Local\\Temp\\ipykernel_4500\\3608632239.py:65: FutureWarning: YF.download() has changed argument auto_adjust default to True\n",
      "  data = yf.download(ticker, period=PERIODO_DADOS, interval=intervalo_yf)\n"
     ]
    },
    {
     "name": "stdout",
     "output_type": "stream",
     "text": [
      "  Baixando SLCE3.SA...\n"
     ]
    },
    {
     "name": "stderr",
     "output_type": "stream",
     "text": [
      "[*********************100%***********************]  1 of 1 completed\n",
      "C:\\Users\\Gustavo\\AppData\\Local\\Temp\\ipykernel_4500\\3608632239.py:65: FutureWarning: YF.download() has changed argument auto_adjust default to True\n",
      "  data = yf.download(ticker, period=PERIODO_DADOS, interval=intervalo_yf)\n"
     ]
    },
    {
     "name": "stdout",
     "output_type": "stream",
     "text": [
      "  Baixando SUZB3.SA...\n"
     ]
    },
    {
     "name": "stderr",
     "output_type": "stream",
     "text": [
      "[*********************100%***********************]  1 of 1 completed\n",
      "C:\\Users\\Gustavo\\AppData\\Local\\Temp\\ipykernel_4500\\3608632239.py:65: FutureWarning: YF.download() has changed argument auto_adjust default to True\n",
      "  data = yf.download(ticker, period=PERIODO_DADOS, interval=intervalo_yf)\n"
     ]
    },
    {
     "name": "stdout",
     "output_type": "stream",
     "text": [
      "  Baixando TIMS3.SA...\n"
     ]
    },
    {
     "name": "stderr",
     "output_type": "stream",
     "text": [
      "[*********************100%***********************]  1 of 1 completed\n",
      "C:\\Users\\Gustavo\\AppData\\Local\\Temp\\ipykernel_4500\\3608632239.py:65: FutureWarning: YF.download() has changed argument auto_adjust default to True\n",
      "  data = yf.download(ticker, period=PERIODO_DADOS, interval=intervalo_yf)\n"
     ]
    },
    {
     "name": "stdout",
     "output_type": "stream",
     "text": [
      "  Baixando TOTS3.SA...\n"
     ]
    },
    {
     "name": "stderr",
     "output_type": "stream",
     "text": [
      "[*********************100%***********************]  1 of 1 completed\n",
      "C:\\Users\\Gustavo\\AppData\\Local\\Temp\\ipykernel_4500\\3608632239.py:65: FutureWarning: YF.download() has changed argument auto_adjust default to True\n",
      "  data = yf.download(ticker, period=PERIODO_DADOS, interval=intervalo_yf)\n"
     ]
    },
    {
     "name": "stdout",
     "output_type": "stream",
     "text": [
      "  Baixando TUPY3.SA...\n"
     ]
    },
    {
     "name": "stderr",
     "output_type": "stream",
     "text": [
      "[*********************100%***********************]  1 of 1 completed\n",
      "C:\\Users\\Gustavo\\AppData\\Local\\Temp\\ipykernel_4500\\3608632239.py:65: FutureWarning: YF.download() has changed argument auto_adjust default to True\n",
      "  data = yf.download(ticker, period=PERIODO_DADOS, interval=intervalo_yf)\n"
     ]
    },
    {
     "name": "stdout",
     "output_type": "stream",
     "text": [
      "  Baixando UGPA3.SA...\n"
     ]
    },
    {
     "name": "stderr",
     "output_type": "stream",
     "text": [
      "[*********************100%***********************]  1 of 1 completed\n",
      "C:\\Users\\Gustavo\\AppData\\Local\\Temp\\ipykernel_4500\\3608632239.py:65: FutureWarning: YF.download() has changed argument auto_adjust default to True\n",
      "  data = yf.download(ticker, period=PERIODO_DADOS, interval=intervalo_yf)\n"
     ]
    },
    {
     "name": "stdout",
     "output_type": "stream",
     "text": [
      "  Baixando USIM5.SA...\n"
     ]
    },
    {
     "name": "stderr",
     "output_type": "stream",
     "text": [
      "[*********************100%***********************]  1 of 1 completed\n",
      "C:\\Users\\Gustavo\\AppData\\Local\\Temp\\ipykernel_4500\\3608632239.py:65: FutureWarning: YF.download() has changed argument auto_adjust default to True\n",
      "  data = yf.download(ticker, period=PERIODO_DADOS, interval=intervalo_yf)\n"
     ]
    },
    {
     "name": "stdout",
     "output_type": "stream",
     "text": [
      "  Baixando VALE3.SA...\n"
     ]
    },
    {
     "name": "stderr",
     "output_type": "stream",
     "text": [
      "[*********************100%***********************]  1 of 1 completed\n",
      "C:\\Users\\Gustavo\\AppData\\Local\\Temp\\ipykernel_4500\\3608632239.py:65: FutureWarning: YF.download() has changed argument auto_adjust default to True\n",
      "  data = yf.download(ticker, period=PERIODO_DADOS, interval=intervalo_yf)\n"
     ]
    },
    {
     "name": "stdout",
     "output_type": "stream",
     "text": [
      "  Baixando VAMO3.SA...\n"
     ]
    },
    {
     "name": "stderr",
     "output_type": "stream",
     "text": [
      "[*********************100%***********************]  1 of 1 completed\n",
      "C:\\Users\\Gustavo\\AppData\\Local\\Temp\\ipykernel_4500\\3608632239.py:65: FutureWarning: YF.download() has changed argument auto_adjust default to True\n",
      "  data = yf.download(ticker, period=PERIODO_DADOS, interval=intervalo_yf)\n"
     ]
    },
    {
     "name": "stdout",
     "output_type": "stream",
     "text": [
      "  Baixando VBBR3.SA...\n"
     ]
    },
    {
     "name": "stderr",
     "output_type": "stream",
     "text": [
      "[*********************100%***********************]  1 of 1 completed\n",
      "C:\\Users\\Gustavo\\AppData\\Local\\Temp\\ipykernel_4500\\3608632239.py:65: FutureWarning: YF.download() has changed argument auto_adjust default to True\n",
      "  data = yf.download(ticker, period=PERIODO_DADOS, interval=intervalo_yf)\n"
     ]
    },
    {
     "name": "stdout",
     "output_type": "stream",
     "text": [
      "  Baixando VIVA3.SA...\n"
     ]
    },
    {
     "name": "stderr",
     "output_type": "stream",
     "text": [
      "[*********************100%***********************]  1 of 1 completed\n",
      "C:\\Users\\Gustavo\\AppData\\Local\\Temp\\ipykernel_4500\\3608632239.py:65: FutureWarning: YF.download() has changed argument auto_adjust default to True\n",
      "  data = yf.download(ticker, period=PERIODO_DADOS, interval=intervalo_yf)\n"
     ]
    },
    {
     "name": "stdout",
     "output_type": "stream",
     "text": [
      "  Baixando VIVT3.SA...\n"
     ]
    },
    {
     "name": "stderr",
     "output_type": "stream",
     "text": [
      "[*********************100%***********************]  1 of 1 completed\n",
      "C:\\Users\\Gustavo\\AppData\\Local\\Temp\\ipykernel_4500\\3608632239.py:65: FutureWarning: YF.download() has changed argument auto_adjust default to True\n",
      "  data = yf.download(ticker, period=PERIODO_DADOS, interval=intervalo_yf)\n"
     ]
    },
    {
     "name": "stdout",
     "output_type": "stream",
     "text": [
      "  Baixando WEGE3.SA...\n"
     ]
    },
    {
     "name": "stderr",
     "output_type": "stream",
     "text": [
      "[*********************100%***********************]  1 of 1 completed\n",
      "C:\\Users\\Gustavo\\AppData\\Local\\Temp\\ipykernel_4500\\3608632239.py:65: FutureWarning: YF.download() has changed argument auto_adjust default to True\n",
      "  data = yf.download(ticker, period=PERIODO_DADOS, interval=intervalo_yf)\n"
     ]
    },
    {
     "name": "stdout",
     "output_type": "stream",
     "text": [
      "  Baixando YDUQ3.SA...\n"
     ]
    },
    {
     "name": "stderr",
     "output_type": "stream",
     "text": [
      "[*********************100%***********************]  1 of 1 completed\n"
     ]
    },
    {
     "name": "stdout",
     "output_type": "stream",
     "text": [
      "  Salvando dados na tabela SQL: 'candles_diarios'...\n",
      "  Tabela 'candles_diarios' salva com sucesso!\n",
      "\n",
      "Buscando dados para: candles_semanais (Intervalo: 1wk)\n",
      "  Baixando ABEV3.SA...\n"
     ]
    },
    {
     "name": "stderr",
     "output_type": "stream",
     "text": [
      "C:\\Users\\Gustavo\\AppData\\Local\\Temp\\ipykernel_4500\\3608632239.py:65: FutureWarning: YF.download() has changed argument auto_adjust default to True\n",
      "  data = yf.download(ticker, period=PERIODO_DADOS, interval=intervalo_yf)\n",
      "[*********************100%***********************]  1 of 1 completed\n",
      "C:\\Users\\Gustavo\\AppData\\Local\\Temp\\ipykernel_4500\\3608632239.py:65: FutureWarning: YF.download() has changed argument auto_adjust default to True\n",
      "  data = yf.download(ticker, period=PERIODO_DADOS, interval=intervalo_yf)\n"
     ]
    },
    {
     "name": "stdout",
     "output_type": "stream",
     "text": [
      "  Baixando ALPK3.SA...\n"
     ]
    },
    {
     "name": "stderr",
     "output_type": "stream",
     "text": [
      "[*********************100%***********************]  1 of 1 completed\n",
      "C:\\Users\\Gustavo\\AppData\\Local\\Temp\\ipykernel_4500\\3608632239.py:65: FutureWarning: YF.download() has changed argument auto_adjust default to True\n",
      "  data = yf.download(ticker, period=PERIODO_DADOS, interval=intervalo_yf)\n"
     ]
    },
    {
     "name": "stdout",
     "output_type": "stream",
     "text": [
      "  Baixando AMAR3.SA...\n"
     ]
    },
    {
     "name": "stderr",
     "output_type": "stream",
     "text": [
      "[*********************100%***********************]  1 of 1 completed\n",
      "C:\\Users\\Gustavo\\AppData\\Local\\Temp\\ipykernel_4500\\3608632239.py:65: FutureWarning: YF.download() has changed argument auto_adjust default to True\n",
      "  data = yf.download(ticker, period=PERIODO_DADOS, interval=intervalo_yf)\n"
     ]
    },
    {
     "name": "stdout",
     "output_type": "stream",
     "text": [
      "  Baixando AMBP3.SA...\n"
     ]
    },
    {
     "name": "stderr",
     "output_type": "stream",
     "text": [
      "[*********************100%***********************]  1 of 1 completed\n",
      "C:\\Users\\Gustavo\\AppData\\Local\\Temp\\ipykernel_4500\\3608632239.py:65: FutureWarning: YF.download() has changed argument auto_adjust default to True\n",
      "  data = yf.download(ticker, period=PERIODO_DADOS, interval=intervalo_yf)\n"
     ]
    },
    {
     "name": "stdout",
     "output_type": "stream",
     "text": [
      "  Baixando ANIM3.SA...\n"
     ]
    },
    {
     "name": "stderr",
     "output_type": "stream",
     "text": [
      "[*********************100%***********************]  1 of 1 completed\n",
      "C:\\Users\\Gustavo\\AppData\\Local\\Temp\\ipykernel_4500\\3608632239.py:65: FutureWarning: YF.download() has changed argument auto_adjust default to True\n",
      "  data = yf.download(ticker, period=PERIODO_DADOS, interval=intervalo_yf)\n"
     ]
    },
    {
     "name": "stdout",
     "output_type": "stream",
     "text": [
      "  Baixando ASAI3.SA...\n"
     ]
    },
    {
     "name": "stderr",
     "output_type": "stream",
     "text": [
      "[*********************100%***********************]  1 of 1 completed\n",
      "C:\\Users\\Gustavo\\AppData\\Local\\Temp\\ipykernel_4500\\3608632239.py:65: FutureWarning: YF.download() has changed argument auto_adjust default to True\n",
      "  data = yf.download(ticker, period=PERIODO_DADOS, interval=intervalo_yf)\n"
     ]
    },
    {
     "name": "stdout",
     "output_type": "stream",
     "text": [
      "  Baixando AURE3.SA...\n"
     ]
    },
    {
     "name": "stderr",
     "output_type": "stream",
     "text": [
      "[*********************100%***********************]  1 of 1 completed\n",
      "C:\\Users\\Gustavo\\AppData\\Local\\Temp\\ipykernel_4500\\3608632239.py:65: FutureWarning: YF.download() has changed argument auto_adjust default to True\n",
      "  data = yf.download(ticker, period=PERIODO_DADOS, interval=intervalo_yf)\n"
     ]
    },
    {
     "name": "stdout",
     "output_type": "stream",
     "text": [
      "  Baixando AZEV3.SA...\n"
     ]
    },
    {
     "name": "stderr",
     "output_type": "stream",
     "text": [
      "[*********************100%***********************]  1 of 1 completed\n",
      "C:\\Users\\Gustavo\\AppData\\Local\\Temp\\ipykernel_4500\\3608632239.py:65: FutureWarning: YF.download() has changed argument auto_adjust default to True\n",
      "  data = yf.download(ticker, period=PERIODO_DADOS, interval=intervalo_yf)\n"
     ]
    },
    {
     "name": "stdout",
     "output_type": "stream",
     "text": [
      "  Baixando AZTE3.SA...\n"
     ]
    },
    {
     "name": "stderr",
     "output_type": "stream",
     "text": [
      "[*********************100%***********************]  1 of 1 completed\n",
      "C:\\Users\\Gustavo\\AppData\\Local\\Temp\\ipykernel_4500\\3608632239.py:65: FutureWarning: YF.download() has changed argument auto_adjust default to True\n",
      "  data = yf.download(ticker, period=PERIODO_DADOS, interval=intervalo_yf)\n"
     ]
    },
    {
     "name": "stdout",
     "output_type": "stream",
     "text": [
      "  Baixando AZUL4.SA...\n"
     ]
    },
    {
     "name": "stderr",
     "output_type": "stream",
     "text": [
      "[*********************100%***********************]  1 of 1 completed\n",
      "C:\\Users\\Gustavo\\AppData\\Local\\Temp\\ipykernel_4500\\3608632239.py:65: FutureWarning: YF.download() has changed argument auto_adjust default to True\n",
      "  data = yf.download(ticker, period=PERIODO_DADOS, interval=intervalo_yf)\n"
     ]
    },
    {
     "name": "stdout",
     "output_type": "stream",
     "text": [
      "  Baixando AZZA3.SA...\n"
     ]
    },
    {
     "name": "stderr",
     "output_type": "stream",
     "text": [
      "[*********************100%***********************]  1 of 1 completed\n",
      "C:\\Users\\Gustavo\\AppData\\Local\\Temp\\ipykernel_4500\\3608632239.py:65: FutureWarning: YF.download() has changed argument auto_adjust default to True\n",
      "  data = yf.download(ticker, period=PERIODO_DADOS, interval=intervalo_yf)\n"
     ]
    },
    {
     "name": "stdout",
     "output_type": "stream",
     "text": [
      "  Baixando B3SA3.SA...\n"
     ]
    },
    {
     "name": "stderr",
     "output_type": "stream",
     "text": [
      "[*********************100%***********************]  1 of 1 completed\n",
      "C:\\Users\\Gustavo\\AppData\\Local\\Temp\\ipykernel_4500\\3608632239.py:65: FutureWarning: YF.download() has changed argument auto_adjust default to True\n",
      "  data = yf.download(ticker, period=PERIODO_DADOS, interval=intervalo_yf)\n"
     ]
    },
    {
     "name": "stdout",
     "output_type": "stream",
     "text": [
      "  Baixando BBAS3.SA...\n"
     ]
    },
    {
     "name": "stderr",
     "output_type": "stream",
     "text": [
      "[*********************100%***********************]  1 of 1 completed\n",
      "C:\\Users\\Gustavo\\AppData\\Local\\Temp\\ipykernel_4500\\3608632239.py:65: FutureWarning: YF.download() has changed argument auto_adjust default to True\n",
      "  data = yf.download(ticker, period=PERIODO_DADOS, interval=intervalo_yf)\n"
     ]
    },
    {
     "name": "stdout",
     "output_type": "stream",
     "text": [
      "  Baixando BBSE3.SA...\n"
     ]
    },
    {
     "name": "stderr",
     "output_type": "stream",
     "text": [
      "[*********************100%***********************]  1 of 1 completed\n",
      "C:\\Users\\Gustavo\\AppData\\Local\\Temp\\ipykernel_4500\\3608632239.py:65: FutureWarning: YF.download() has changed argument auto_adjust default to True\n",
      "  data = yf.download(ticker, period=PERIODO_DADOS, interval=intervalo_yf)\n"
     ]
    },
    {
     "name": "stdout",
     "output_type": "stream",
     "text": [
      "  Baixando BEEF3.SA...\n"
     ]
    },
    {
     "name": "stderr",
     "output_type": "stream",
     "text": [
      "[*********************100%***********************]  1 of 1 completed\n",
      "C:\\Users\\Gustavo\\AppData\\Local\\Temp\\ipykernel_4500\\3608632239.py:65: FutureWarning: YF.download() has changed argument auto_adjust default to True\n",
      "  data = yf.download(ticker, period=PERIODO_DADOS, interval=intervalo_yf)\n"
     ]
    },
    {
     "name": "stdout",
     "output_type": "stream",
     "text": [
      "  Baixando BIOM3.SA...\n"
     ]
    },
    {
     "name": "stderr",
     "output_type": "stream",
     "text": [
      "[*********************100%***********************]  1 of 1 completed\n",
      "C:\\Users\\Gustavo\\AppData\\Local\\Temp\\ipykernel_4500\\3608632239.py:65: FutureWarning: YF.download() has changed argument auto_adjust default to True\n",
      "  data = yf.download(ticker, period=PERIODO_DADOS, interval=intervalo_yf)\n"
     ]
    },
    {
     "name": "stdout",
     "output_type": "stream",
     "text": [
      "  Baixando BLAU3.SA...\n"
     ]
    },
    {
     "name": "stderr",
     "output_type": "stream",
     "text": [
      "[*********************100%***********************]  1 of 1 completed\n",
      "C:\\Users\\Gustavo\\AppData\\Local\\Temp\\ipykernel_4500\\3608632239.py:65: FutureWarning: YF.download() has changed argument auto_adjust default to True\n",
      "  data = yf.download(ticker, period=PERIODO_DADOS, interval=intervalo_yf)\n"
     ]
    },
    {
     "name": "stdout",
     "output_type": "stream",
     "text": [
      "  Baixando BMGB4.SA...\n"
     ]
    },
    {
     "name": "stderr",
     "output_type": "stream",
     "text": [
      "[*********************100%***********************]  1 of 1 completed\n",
      "C:\\Users\\Gustavo\\AppData\\Local\\Temp\\ipykernel_4500\\3608632239.py:65: FutureWarning: YF.download() has changed argument auto_adjust default to True\n",
      "  data = yf.download(ticker, period=PERIODO_DADOS, interval=intervalo_yf)\n"
     ]
    },
    {
     "name": "stdout",
     "output_type": "stream",
     "text": [
      "  Baixando BPAC11.SA...\n"
     ]
    },
    {
     "name": "stderr",
     "output_type": "stream",
     "text": [
      "[*********************100%***********************]  1 of 1 completed\n",
      "C:\\Users\\Gustavo\\AppData\\Local\\Temp\\ipykernel_4500\\3608632239.py:65: FutureWarning: YF.download() has changed argument auto_adjust default to True\n",
      "  data = yf.download(ticker, period=PERIODO_DADOS, interval=intervalo_yf)\n"
     ]
    },
    {
     "name": "stdout",
     "output_type": "stream",
     "text": [
      "  Baixando BPAN4.SA...\n"
     ]
    },
    {
     "name": "stderr",
     "output_type": "stream",
     "text": [
      "[*********************100%***********************]  1 of 1 completed\n",
      "C:\\Users\\Gustavo\\AppData\\Local\\Temp\\ipykernel_4500\\3608632239.py:65: FutureWarning: YF.download() has changed argument auto_adjust default to True\n",
      "  data = yf.download(ticker, period=PERIODO_DADOS, interval=intervalo_yf)\n"
     ]
    },
    {
     "name": "stdout",
     "output_type": "stream",
     "text": [
      "  Baixando BRAP4.SA...\n"
     ]
    },
    {
     "name": "stderr",
     "output_type": "stream",
     "text": [
      "[*********************100%***********************]  1 of 1 completed\n",
      "C:\\Users\\Gustavo\\AppData\\Local\\Temp\\ipykernel_4500\\3608632239.py:65: FutureWarning: YF.download() has changed argument auto_adjust default to True\n",
      "  data = yf.download(ticker, period=PERIODO_DADOS, interval=intervalo_yf)\n"
     ]
    },
    {
     "name": "stdout",
     "output_type": "stream",
     "text": [
      "  Baixando BRAV3.SA...\n"
     ]
    },
    {
     "name": "stderr",
     "output_type": "stream",
     "text": [
      "[*********************100%***********************]  1 of 1 completed\n",
      "C:\\Users\\Gustavo\\AppData\\Local\\Temp\\ipykernel_4500\\3608632239.py:65: FutureWarning: YF.download() has changed argument auto_adjust default to True\n",
      "  data = yf.download(ticker, period=PERIODO_DADOS, interval=intervalo_yf)\n"
     ]
    },
    {
     "name": "stdout",
     "output_type": "stream",
     "text": [
      "  Baixando BRFS3.SA...\n"
     ]
    },
    {
     "name": "stderr",
     "output_type": "stream",
     "text": [
      "[*********************100%***********************]  1 of 1 completed\n",
      "C:\\Users\\Gustavo\\AppData\\Local\\Temp\\ipykernel_4500\\3608632239.py:65: FutureWarning: YF.download() has changed argument auto_adjust default to True\n",
      "  data = yf.download(ticker, period=PERIODO_DADOS, interval=intervalo_yf)\n"
     ]
    },
    {
     "name": "stdout",
     "output_type": "stream",
     "text": [
      "  Baixando BRKM5.SA...\n"
     ]
    },
    {
     "name": "stderr",
     "output_type": "stream",
     "text": [
      "[*********************100%***********************]  1 of 1 completed\n",
      "C:\\Users\\Gustavo\\AppData\\Local\\Temp\\ipykernel_4500\\3608632239.py:65: FutureWarning: YF.download() has changed argument auto_adjust default to True\n",
      "  data = yf.download(ticker, period=PERIODO_DADOS, interval=intervalo_yf)\n"
     ]
    },
    {
     "name": "stdout",
     "output_type": "stream",
     "text": [
      "  Baixando BRST3.SA...\n"
     ]
    },
    {
     "name": "stderr",
     "output_type": "stream",
     "text": [
      "[*********************100%***********************]  1 of 1 completed\n",
      "C:\\Users\\Gustavo\\AppData\\Local\\Temp\\ipykernel_4500\\3608632239.py:65: FutureWarning: YF.download() has changed argument auto_adjust default to True\n",
      "  data = yf.download(ticker, period=PERIODO_DADOS, interval=intervalo_yf)\n"
     ]
    },
    {
     "name": "stdout",
     "output_type": "stream",
     "text": [
      "  Baixando CAML3.SA...\n"
     ]
    },
    {
     "name": "stderr",
     "output_type": "stream",
     "text": [
      "[*********************100%***********************]  1 of 1 completed\n",
      "C:\\Users\\Gustavo\\AppData\\Local\\Temp\\ipykernel_4500\\3608632239.py:65: FutureWarning: YF.download() has changed argument auto_adjust default to True\n",
      "  data = yf.download(ticker, period=PERIODO_DADOS, interval=intervalo_yf)\n"
     ]
    },
    {
     "name": "stdout",
     "output_type": "stream",
     "text": [
      "  Baixando CASH3.SA...\n"
     ]
    },
    {
     "name": "stderr",
     "output_type": "stream",
     "text": [
      "[*********************100%***********************]  1 of 1 completed\n",
      "C:\\Users\\Gustavo\\AppData\\Local\\Temp\\ipykernel_4500\\3608632239.py:65: FutureWarning: YF.download() has changed argument auto_adjust default to True\n",
      "  data = yf.download(ticker, period=PERIODO_DADOS, interval=intervalo_yf)\n"
     ]
    },
    {
     "name": "stdout",
     "output_type": "stream",
     "text": [
      "  Baixando CBAV3.SA...\n"
     ]
    },
    {
     "name": "stderr",
     "output_type": "stream",
     "text": [
      "[*********************100%***********************]  1 of 1 completed\n",
      "C:\\Users\\Gustavo\\AppData\\Local\\Temp\\ipykernel_4500\\3608632239.py:65: FutureWarning: YF.download() has changed argument auto_adjust default to True\n",
      "  data = yf.download(ticker, period=PERIODO_DADOS, interval=intervalo_yf)\n"
     ]
    },
    {
     "name": "stdout",
     "output_type": "stream",
     "text": [
      "  Baixando CMIG4.SA...\n"
     ]
    },
    {
     "name": "stderr",
     "output_type": "stream",
     "text": [
      "[*********************100%***********************]  1 of 1 completed\n",
      "C:\\Users\\Gustavo\\AppData\\Local\\Temp\\ipykernel_4500\\3608632239.py:65: FutureWarning: YF.download() has changed argument auto_adjust default to True\n",
      "  data = yf.download(ticker, period=PERIODO_DADOS, interval=intervalo_yf)\n"
     ]
    },
    {
     "name": "stdout",
     "output_type": "stream",
     "text": [
      "  Baixando CMIN3.SA...\n"
     ]
    },
    {
     "name": "stderr",
     "output_type": "stream",
     "text": [
      "[*********************100%***********************]  1 of 1 completed\n",
      "C:\\Users\\Gustavo\\AppData\\Local\\Temp\\ipykernel_4500\\3608632239.py:65: FutureWarning: YF.download() has changed argument auto_adjust default to True\n",
      "  data = yf.download(ticker, period=PERIODO_DADOS, interval=intervalo_yf)\n"
     ]
    },
    {
     "name": "stdout",
     "output_type": "stream",
     "text": [
      "  Baixando COGN3.SA...\n"
     ]
    },
    {
     "name": "stderr",
     "output_type": "stream",
     "text": [
      "[*********************100%***********************]  1 of 1 completed\n",
      "C:\\Users\\Gustavo\\AppData\\Local\\Temp\\ipykernel_4500\\3608632239.py:65: FutureWarning: YF.download() has changed argument auto_adjust default to True\n",
      "  data = yf.download(ticker, period=PERIODO_DADOS, interval=intervalo_yf)\n"
     ]
    },
    {
     "name": "stdout",
     "output_type": "stream",
     "text": [
      "  Baixando CPLE6.SA...\n"
     ]
    },
    {
     "name": "stderr",
     "output_type": "stream",
     "text": [
      "[*********************100%***********************]  1 of 1 completed\n",
      "C:\\Users\\Gustavo\\AppData\\Local\\Temp\\ipykernel_4500\\3608632239.py:65: FutureWarning: YF.download() has changed argument auto_adjust default to True\n",
      "  data = yf.download(ticker, period=PERIODO_DADOS, interval=intervalo_yf)\n"
     ]
    },
    {
     "name": "stdout",
     "output_type": "stream",
     "text": [
      "  Baixando CSAN3.SA...\n"
     ]
    },
    {
     "name": "stderr",
     "output_type": "stream",
     "text": [
      "[*********************100%***********************]  1 of 1 completed\n",
      "C:\\Users\\Gustavo\\AppData\\Local\\Temp\\ipykernel_4500\\3608632239.py:65: FutureWarning: YF.download() has changed argument auto_adjust default to True\n",
      "  data = yf.download(ticker, period=PERIODO_DADOS, interval=intervalo_yf)\n"
     ]
    },
    {
     "name": "stdout",
     "output_type": "stream",
     "text": [
      "  Baixando CSED3.SA...\n"
     ]
    },
    {
     "name": "stderr",
     "output_type": "stream",
     "text": [
      "[*********************100%***********************]  1 of 1 completed\n",
      "C:\\Users\\Gustavo\\AppData\\Local\\Temp\\ipykernel_4500\\3608632239.py:65: FutureWarning: YF.download() has changed argument auto_adjust default to True\n",
      "  data = yf.download(ticker, period=PERIODO_DADOS, interval=intervalo_yf)\n"
     ]
    },
    {
     "name": "stdout",
     "output_type": "stream",
     "text": [
      "  Baixando CSNA3.SA...\n"
     ]
    },
    {
     "name": "stderr",
     "output_type": "stream",
     "text": [
      "[*********************100%***********************]  1 of 1 completed\n",
      "C:\\Users\\Gustavo\\AppData\\Local\\Temp\\ipykernel_4500\\3608632239.py:65: FutureWarning: YF.download() has changed argument auto_adjust default to True\n",
      "  data = yf.download(ticker, period=PERIODO_DADOS, interval=intervalo_yf)\n"
     ]
    },
    {
     "name": "stdout",
     "output_type": "stream",
     "text": [
      "  Baixando CVCB3.SA...\n"
     ]
    },
    {
     "name": "stderr",
     "output_type": "stream",
     "text": [
      "[*********************100%***********************]  1 of 1 completed\n",
      "C:\\Users\\Gustavo\\AppData\\Local\\Temp\\ipykernel_4500\\3608632239.py:65: FutureWarning: YF.download() has changed argument auto_adjust default to True\n",
      "  data = yf.download(ticker, period=PERIODO_DADOS, interval=intervalo_yf)\n"
     ]
    },
    {
     "name": "stdout",
     "output_type": "stream",
     "text": [
      "  Baixando CYRE3.SA...\n"
     ]
    },
    {
     "name": "stderr",
     "output_type": "stream",
     "text": [
      "[*********************100%***********************]  1 of 1 completed\n",
      "C:\\Users\\Gustavo\\AppData\\Local\\Temp\\ipykernel_4500\\3608632239.py:65: FutureWarning: YF.download() has changed argument auto_adjust default to True\n",
      "  data = yf.download(ticker, period=PERIODO_DADOS, interval=intervalo_yf)\n"
     ]
    },
    {
     "name": "stdout",
     "output_type": "stream",
     "text": [
      "  Baixando DASA3.SA...\n"
     ]
    },
    {
     "name": "stderr",
     "output_type": "stream",
     "text": [
      "[*********************100%***********************]  1 of 1 completed\n",
      "C:\\Users\\Gustavo\\AppData\\Local\\Temp\\ipykernel_4500\\3608632239.py:65: FutureWarning: YF.download() has changed argument auto_adjust default to True\n",
      "  data = yf.download(ticker, period=PERIODO_DADOS, interval=intervalo_yf)\n"
     ]
    },
    {
     "name": "stdout",
     "output_type": "stream",
     "text": [
      "  Baixando DXCO3.SA...\n"
     ]
    },
    {
     "name": "stderr",
     "output_type": "stream",
     "text": [
      "[*********************100%***********************]  1 of 1 completed\n",
      "C:\\Users\\Gustavo\\AppData\\Local\\Temp\\ipykernel_4500\\3608632239.py:65: FutureWarning: YF.download() has changed argument auto_adjust default to True\n",
      "  data = yf.download(ticker, period=PERIODO_DADOS, interval=intervalo_yf)\n"
     ]
    },
    {
     "name": "stdout",
     "output_type": "stream",
     "text": [
      "  Baixando ECOR3.SA...\n"
     ]
    },
    {
     "name": "stderr",
     "output_type": "stream",
     "text": [
      "[*********************100%***********************]  1 of 1 completed\n",
      "C:\\Users\\Gustavo\\AppData\\Local\\Temp\\ipykernel_4500\\3608632239.py:65: FutureWarning: YF.download() has changed argument auto_adjust default to True\n",
      "  data = yf.download(ticker, period=PERIODO_DADOS, interval=intervalo_yf)\n"
     ]
    },
    {
     "name": "stdout",
     "output_type": "stream",
     "text": [
      "  Baixando ELET3.SA...\n"
     ]
    },
    {
     "name": "stderr",
     "output_type": "stream",
     "text": [
      "[*********************100%***********************]  1 of 1 completed\n",
      "C:\\Users\\Gustavo\\AppData\\Local\\Temp\\ipykernel_4500\\3608632239.py:65: FutureWarning: YF.download() has changed argument auto_adjust default to True\n",
      "  data = yf.download(ticker, period=PERIODO_DADOS, interval=intervalo_yf)\n"
     ]
    },
    {
     "name": "stdout",
     "output_type": "stream",
     "text": [
      "  Baixando EMBR3.SA...\n"
     ]
    },
    {
     "name": "stderr",
     "output_type": "stream",
     "text": [
      "[*********************100%***********************]  1 of 1 completed\n",
      "C:\\Users\\Gustavo\\AppData\\Local\\Temp\\ipykernel_4500\\3608632239.py:65: FutureWarning: YF.download() has changed argument auto_adjust default to True\n",
      "  data = yf.download(ticker, period=PERIODO_DADOS, interval=intervalo_yf)\n"
     ]
    },
    {
     "name": "stdout",
     "output_type": "stream",
     "text": [
      "  Baixando ENEV3.SA...\n"
     ]
    },
    {
     "name": "stderr",
     "output_type": "stream",
     "text": [
      "[*********************100%***********************]  1 of 1 completed\n",
      "C:\\Users\\Gustavo\\AppData\\Local\\Temp\\ipykernel_4500\\3608632239.py:65: FutureWarning: YF.download() has changed argument auto_adjust default to True\n",
      "  data = yf.download(ticker, period=PERIODO_DADOS, interval=intervalo_yf)\n"
     ]
    },
    {
     "name": "stdout",
     "output_type": "stream",
     "text": [
      "  Baixando ENJU3.SA...\n"
     ]
    },
    {
     "name": "stderr",
     "output_type": "stream",
     "text": [
      "[*********************100%***********************]  1 of 1 completed\n",
      "C:\\Users\\Gustavo\\AppData\\Local\\Temp\\ipykernel_4500\\3608632239.py:65: FutureWarning: YF.download() has changed argument auto_adjust default to True\n",
      "  data = yf.download(ticker, period=PERIODO_DADOS, interval=intervalo_yf)\n"
     ]
    },
    {
     "name": "stdout",
     "output_type": "stream",
     "text": [
      "  Baixando EQTL3.SA...\n"
     ]
    },
    {
     "name": "stderr",
     "output_type": "stream",
     "text": [
      "[*********************100%***********************]  1 of 1 completed\n",
      "C:\\Users\\Gustavo\\AppData\\Local\\Temp\\ipykernel_4500\\3608632239.py:65: FutureWarning: YF.download() has changed argument auto_adjust default to True\n",
      "  data = yf.download(ticker, period=PERIODO_DADOS, interval=intervalo_yf)\n"
     ]
    },
    {
     "name": "stdout",
     "output_type": "stream",
     "text": [
      "  Baixando EVEN3.SA...\n"
     ]
    },
    {
     "name": "stderr",
     "output_type": "stream",
     "text": [
      "[*********************100%***********************]  1 of 1 completed\n",
      "C:\\Users\\Gustavo\\AppData\\Local\\Temp\\ipykernel_4500\\3608632239.py:65: FutureWarning: YF.download() has changed argument auto_adjust default to True\n",
      "  data = yf.download(ticker, period=PERIODO_DADOS, interval=intervalo_yf)\n"
     ]
    },
    {
     "name": "stdout",
     "output_type": "stream",
     "text": [
      "  Baixando EZTC3.SA...\n"
     ]
    },
    {
     "name": "stderr",
     "output_type": "stream",
     "text": [
      "[*********************100%***********************]  1 of 1 completed\n",
      "C:\\Users\\Gustavo\\AppData\\Local\\Temp\\ipykernel_4500\\3608632239.py:65: FutureWarning: YF.download() has changed argument auto_adjust default to True\n",
      "  data = yf.download(ticker, period=PERIODO_DADOS, interval=intervalo_yf)\n"
     ]
    },
    {
     "name": "stdout",
     "output_type": "stream",
     "text": [
      "  Baixando FIQE3.SA...\n"
     ]
    },
    {
     "name": "stderr",
     "output_type": "stream",
     "text": [
      "[*********************100%***********************]  1 of 1 completed\n",
      "C:\\Users\\Gustavo\\AppData\\Local\\Temp\\ipykernel_4500\\3608632239.py:65: FutureWarning: YF.download() has changed argument auto_adjust default to True\n",
      "  data = yf.download(ticker, period=PERIODO_DADOS, interval=intervalo_yf)\n"
     ]
    },
    {
     "name": "stdout",
     "output_type": "stream",
     "text": [
      "  Baixando FLRY3.SA...\n"
     ]
    },
    {
     "name": "stderr",
     "output_type": "stream",
     "text": [
      "[*********************100%***********************]  1 of 1 completed\n",
      "C:\\Users\\Gustavo\\AppData\\Local\\Temp\\ipykernel_4500\\3608632239.py:65: FutureWarning: YF.download() has changed argument auto_adjust default to True\n",
      "  data = yf.download(ticker, period=PERIODO_DADOS, interval=intervalo_yf)\n"
     ]
    },
    {
     "name": "stdout",
     "output_type": "stream",
     "text": [
      "  Baixando GGBR4.SA...\n"
     ]
    },
    {
     "name": "stderr",
     "output_type": "stream",
     "text": [
      "[*********************100%***********************]  1 of 1 completed\n",
      "C:\\Users\\Gustavo\\AppData\\Local\\Temp\\ipykernel_4500\\3608632239.py:65: FutureWarning: YF.download() has changed argument auto_adjust default to True\n",
      "  data = yf.download(ticker, period=PERIODO_DADOS, interval=intervalo_yf)\n"
     ]
    },
    {
     "name": "stdout",
     "output_type": "stream",
     "text": [
      "  Baixando GFSA3.SA...\n"
     ]
    },
    {
     "name": "stderr",
     "output_type": "stream",
     "text": [
      "[*********************100%***********************]  1 of 1 completed\n",
      "C:\\Users\\Gustavo\\AppData\\Local\\Temp\\ipykernel_4500\\3608632239.py:65: FutureWarning: YF.download() has changed argument auto_adjust default to True\n",
      "  data = yf.download(ticker, period=PERIODO_DADOS, interval=intervalo_yf)\n"
     ]
    },
    {
     "name": "stdout",
     "output_type": "stream",
     "text": [
      "  Baixando GMAT3.SA...\n"
     ]
    },
    {
     "name": "stderr",
     "output_type": "stream",
     "text": [
      "[*********************100%***********************]  1 of 1 completed\n",
      "C:\\Users\\Gustavo\\AppData\\Local\\Temp\\ipykernel_4500\\3608632239.py:65: FutureWarning: YF.download() has changed argument auto_adjust default to True\n",
      "  data = yf.download(ticker, period=PERIODO_DADOS, interval=intervalo_yf)\n"
     ]
    },
    {
     "name": "stdout",
     "output_type": "stream",
     "text": [
      "  Baixando GOAU4.SA...\n"
     ]
    },
    {
     "name": "stderr",
     "output_type": "stream",
     "text": [
      "[*********************100%***********************]  1 of 1 completed\n",
      "C:\\Users\\Gustavo\\AppData\\Local\\Temp\\ipykernel_4500\\3608632239.py:65: FutureWarning: YF.download() has changed argument auto_adjust default to True\n",
      "  data = yf.download(ticker, period=PERIODO_DADOS, interval=intervalo_yf)\n"
     ]
    },
    {
     "name": "stdout",
     "output_type": "stream",
     "text": [
      "  Baixando HAPV3.SA...\n"
     ]
    },
    {
     "name": "stderr",
     "output_type": "stream",
     "text": [
      "[*********************100%***********************]  1 of 1 completed\n",
      "C:\\Users\\Gustavo\\AppData\\Local\\Temp\\ipykernel_4500\\3608632239.py:65: FutureWarning: YF.download() has changed argument auto_adjust default to True\n",
      "  data = yf.download(ticker, period=PERIODO_DADOS, interval=intervalo_yf)\n"
     ]
    },
    {
     "name": "stdout",
     "output_type": "stream",
     "text": [
      "  Baixando HBOR3.SA...\n"
     ]
    },
    {
     "name": "stderr",
     "output_type": "stream",
     "text": [
      "[*********************100%***********************]  1 of 1 completed\n",
      "C:\\Users\\Gustavo\\AppData\\Local\\Temp\\ipykernel_4500\\3608632239.py:65: FutureWarning: YF.download() has changed argument auto_adjust default to True\n",
      "  data = yf.download(ticker, period=PERIODO_DADOS, interval=intervalo_yf)\n"
     ]
    },
    {
     "name": "stdout",
     "output_type": "stream",
     "text": [
      "  Baixando HBRE3.SA...\n"
     ]
    },
    {
     "name": "stderr",
     "output_type": "stream",
     "text": [
      "[*********************100%***********************]  1 of 1 completed\n",
      "C:\\Users\\Gustavo\\AppData\\Local\\Temp\\ipykernel_4500\\3608632239.py:65: FutureWarning: YF.download() has changed argument auto_adjust default to True\n",
      "  data = yf.download(ticker, period=PERIODO_DADOS, interval=intervalo_yf)\n"
     ]
    },
    {
     "name": "stdout",
     "output_type": "stream",
     "text": [
      "  Baixando HBSA3.SA...\n"
     ]
    },
    {
     "name": "stderr",
     "output_type": "stream",
     "text": [
      "[*********************100%***********************]  1 of 1 completed\n",
      "C:\\Users\\Gustavo\\AppData\\Local\\Temp\\ipykernel_4500\\3608632239.py:65: FutureWarning: YF.download() has changed argument auto_adjust default to True\n",
      "  data = yf.download(ticker, period=PERIODO_DADOS, interval=intervalo_yf)\n"
     ]
    },
    {
     "name": "stdout",
     "output_type": "stream",
     "text": [
      "  Baixando HYPE3.SA...\n"
     ]
    },
    {
     "name": "stderr",
     "output_type": "stream",
     "text": [
      "[*********************100%***********************]  1 of 1 completed\n",
      "C:\\Users\\Gustavo\\AppData\\Local\\Temp\\ipykernel_4500\\3608632239.py:65: FutureWarning: YF.download() has changed argument auto_adjust default to True\n",
      "  data = yf.download(ticker, period=PERIODO_DADOS, interval=intervalo_yf)\n"
     ]
    },
    {
     "name": "stdout",
     "output_type": "stream",
     "text": [
      "  Baixando INBR32.SA...\n"
     ]
    },
    {
     "name": "stderr",
     "output_type": "stream",
     "text": [
      "[*********************100%***********************]  1 of 1 completed\n",
      "C:\\Users\\Gustavo\\AppData\\Local\\Temp\\ipykernel_4500\\3608632239.py:65: FutureWarning: YF.download() has changed argument auto_adjust default to True\n",
      "  data = yf.download(ticker, period=PERIODO_DADOS, interval=intervalo_yf)\n"
     ]
    },
    {
     "name": "stdout",
     "output_type": "stream",
     "text": [
      "  Baixando IRBR3.SA...\n"
     ]
    },
    {
     "name": "stderr",
     "output_type": "stream",
     "text": [
      "[*********************100%***********************]  1 of 1 completed\n",
      "C:\\Users\\Gustavo\\AppData\\Local\\Temp\\ipykernel_4500\\3608632239.py:65: FutureWarning: YF.download() has changed argument auto_adjust default to True\n",
      "  data = yf.download(ticker, period=PERIODO_DADOS, interval=intervalo_yf)\n"
     ]
    },
    {
     "name": "stdout",
     "output_type": "stream",
     "text": [
      "  Baixando ITSA4.SA...\n"
     ]
    },
    {
     "name": "stderr",
     "output_type": "stream",
     "text": [
      "[*********************100%***********************]  1 of 1 completed\n",
      "C:\\Users\\Gustavo\\AppData\\Local\\Temp\\ipykernel_4500\\3608632239.py:65: FutureWarning: YF.download() has changed argument auto_adjust default to True\n",
      "  data = yf.download(ticker, period=PERIODO_DADOS, interval=intervalo_yf)\n"
     ]
    },
    {
     "name": "stdout",
     "output_type": "stream",
     "text": [
      "  Baixando ITUB4.SA...\n"
     ]
    },
    {
     "name": "stderr",
     "output_type": "stream",
     "text": [
      "[*********************100%***********************]  1 of 1 completed\n",
      "C:\\Users\\Gustavo\\AppData\\Local\\Temp\\ipykernel_4500\\3608632239.py:65: FutureWarning: YF.download() has changed argument auto_adjust default to True\n",
      "  data = yf.download(ticker, period=PERIODO_DADOS, interval=intervalo_yf)\n"
     ]
    },
    {
     "name": "stdout",
     "output_type": "stream",
     "text": [
      "  Baixando JHSF3.SA...\n"
     ]
    },
    {
     "name": "stderr",
     "output_type": "stream",
     "text": [
      "[*********************100%***********************]  1 of 1 completed\n",
      "C:\\Users\\Gustavo\\AppData\\Local\\Temp\\ipykernel_4500\\3608632239.py:65: FutureWarning: YF.download() has changed argument auto_adjust default to True\n",
      "  data = yf.download(ticker, period=PERIODO_DADOS, interval=intervalo_yf)\n"
     ]
    },
    {
     "name": "stdout",
     "output_type": "stream",
     "text": [
      "  Baixando JSLG3.SA...\n"
     ]
    },
    {
     "name": "stderr",
     "output_type": "stream",
     "text": [
      "[*********************100%***********************]  1 of 1 completed\n",
      "C:\\Users\\Gustavo\\AppData\\Local\\Temp\\ipykernel_4500\\3608632239.py:65: FutureWarning: YF.download() has changed argument auto_adjust default to True\n",
      "  data = yf.download(ticker, period=PERIODO_DADOS, interval=intervalo_yf)\n"
     ]
    },
    {
     "name": "stdout",
     "output_type": "stream",
     "text": [
      "  Baixando KLBN11.SA...\n"
     ]
    },
    {
     "name": "stderr",
     "output_type": "stream",
     "text": [
      "[*********************100%***********************]  1 of 1 completed\n",
      "C:\\Users\\Gustavo\\AppData\\Local\\Temp\\ipykernel_4500\\3608632239.py:65: FutureWarning: YF.download() has changed argument auto_adjust default to True\n",
      "  data = yf.download(ticker, period=PERIODO_DADOS, interval=intervalo_yf)\n"
     ]
    },
    {
     "name": "stdout",
     "output_type": "stream",
     "text": [
      "  Baixando LIGT3.SA...\n"
     ]
    },
    {
     "name": "stderr",
     "output_type": "stream",
     "text": [
      "[*********************100%***********************]  1 of 1 completed\n",
      "C:\\Users\\Gustavo\\AppData\\Local\\Temp\\ipykernel_4500\\3608632239.py:65: FutureWarning: YF.download() has changed argument auto_adjust default to True\n",
      "  data = yf.download(ticker, period=PERIODO_DADOS, interval=intervalo_yf)\n"
     ]
    },
    {
     "name": "stdout",
     "output_type": "stream",
     "text": [
      "  Baixando LREN3.SA...\n"
     ]
    },
    {
     "name": "stderr",
     "output_type": "stream",
     "text": [
      "[*********************100%***********************]  1 of 1 completed\n",
      "C:\\Users\\Gustavo\\AppData\\Local\\Temp\\ipykernel_4500\\3608632239.py:65: FutureWarning: YF.download() has changed argument auto_adjust default to True\n",
      "  data = yf.download(ticker, period=PERIODO_DADOS, interval=intervalo_yf)\n"
     ]
    },
    {
     "name": "stdout",
     "output_type": "stream",
     "text": [
      "  Baixando LWSA3.SA...\n"
     ]
    },
    {
     "name": "stderr",
     "output_type": "stream",
     "text": [
      "[*********************100%***********************]  1 of 1 completed\n",
      "C:\\Users\\Gustavo\\AppData\\Local\\Temp\\ipykernel_4500\\3608632239.py:65: FutureWarning: YF.download() has changed argument auto_adjust default to True\n",
      "  data = yf.download(ticker, period=PERIODO_DADOS, interval=intervalo_yf)\n"
     ]
    },
    {
     "name": "stdout",
     "output_type": "stream",
     "text": [
      "  Baixando MBRF3.SA...\n"
     ]
    },
    {
     "name": "stderr",
     "output_type": "stream",
     "text": [
      "[*********************100%***********************]  1 of 1 completed\n",
      "C:\\Users\\Gustavo\\AppData\\Local\\Temp\\ipykernel_4500\\3608632239.py:65: FutureWarning: YF.download() has changed argument auto_adjust default to True\n",
      "  data = yf.download(ticker, period=PERIODO_DADOS, interval=intervalo_yf)\n"
     ]
    },
    {
     "name": "stdout",
     "output_type": "stream",
     "text": [
      "  Baixando MEAL3.SA...\n"
     ]
    },
    {
     "name": "stderr",
     "output_type": "stream",
     "text": [
      "[*********************100%***********************]  1 of 1 completed\n",
      "C:\\Users\\Gustavo\\AppData\\Local\\Temp\\ipykernel_4500\\3608632239.py:65: FutureWarning: YF.download() has changed argument auto_adjust default to True\n",
      "  data = yf.download(ticker, period=PERIODO_DADOS, interval=intervalo_yf)\n"
     ]
    },
    {
     "name": "stdout",
     "output_type": "stream",
     "text": [
      "  Baixando MELK3.SA...\n"
     ]
    },
    {
     "name": "stderr",
     "output_type": "stream",
     "text": [
      "[*********************100%***********************]  1 of 1 completed\n",
      "C:\\Users\\Gustavo\\AppData\\Local\\Temp\\ipykernel_4500\\3608632239.py:65: FutureWarning: YF.download() has changed argument auto_adjust default to True\n",
      "  data = yf.download(ticker, period=PERIODO_DADOS, interval=intervalo_yf)\n"
     ]
    },
    {
     "name": "stdout",
     "output_type": "stream",
     "text": [
      "  Baixando MGLU3.SA...\n"
     ]
    },
    {
     "name": "stderr",
     "output_type": "stream",
     "text": [
      "[*********************100%***********************]  1 of 1 completed\n",
      "C:\\Users\\Gustavo\\AppData\\Local\\Temp\\ipykernel_4500\\3608632239.py:65: FutureWarning: YF.download() has changed argument auto_adjust default to True\n",
      "  data = yf.download(ticker, period=PERIODO_DADOS, interval=intervalo_yf)\n"
     ]
    },
    {
     "name": "stdout",
     "output_type": "stream",
     "text": [
      "  Baixando MOTV3.SA...\n"
     ]
    },
    {
     "name": "stderr",
     "output_type": "stream",
     "text": [
      "[*********************100%***********************]  1 of 1 completed\n",
      "C:\\Users\\Gustavo\\AppData\\Local\\Temp\\ipykernel_4500\\3608632239.py:65: FutureWarning: YF.download() has changed argument auto_adjust default to True\n",
      "  data = yf.download(ticker, period=PERIODO_DADOS, interval=intervalo_yf)\n"
     ]
    },
    {
     "name": "stdout",
     "output_type": "stream",
     "text": [
      "  Baixando MRVE3.SA...\n"
     ]
    },
    {
     "name": "stderr",
     "output_type": "stream",
     "text": [
      "[*********************100%***********************]  1 of 1 completed\n",
      "C:\\Users\\Gustavo\\AppData\\Local\\Temp\\ipykernel_4500\\3608632239.py:65: FutureWarning: YF.download() has changed argument auto_adjust default to True\n",
      "  data = yf.download(ticker, period=PERIODO_DADOS, interval=intervalo_yf)\n"
     ]
    },
    {
     "name": "stdout",
     "output_type": "stream",
     "text": [
      "  Baixando MTRE3.SA...\n"
     ]
    },
    {
     "name": "stderr",
     "output_type": "stream",
     "text": [
      "[*********************100%***********************]  1 of 1 completed\n",
      "C:\\Users\\Gustavo\\AppData\\Local\\Temp\\ipykernel_4500\\3608632239.py:65: FutureWarning: YF.download() has changed argument auto_adjust default to True\n",
      "  data = yf.download(ticker, period=PERIODO_DADOS, interval=intervalo_yf)\n"
     ]
    },
    {
     "name": "stdout",
     "output_type": "stream",
     "text": [
      "  Baixando NATU3.SA...\n"
     ]
    },
    {
     "name": "stderr",
     "output_type": "stream",
     "text": [
      "[*********************100%***********************]  1 of 1 completed\n",
      "C:\\Users\\Gustavo\\AppData\\Local\\Temp\\ipykernel_4500\\3608632239.py:65: FutureWarning: YF.download() has changed argument auto_adjust default to True\n",
      "  data = yf.download(ticker, period=PERIODO_DADOS, interval=intervalo_yf)\n"
     ]
    },
    {
     "name": "stdout",
     "output_type": "stream",
     "text": [
      "  Baixando NEOE3.SA...\n"
     ]
    },
    {
     "name": "stderr",
     "output_type": "stream",
     "text": [
      "[*********************100%***********************]  1 of 1 completed\n",
      "C:\\Users\\Gustavo\\AppData\\Local\\Temp\\ipykernel_4500\\3608632239.py:65: FutureWarning: YF.download() has changed argument auto_adjust default to True\n",
      "  data = yf.download(ticker, period=PERIODO_DADOS, interval=intervalo_yf)\n"
     ]
    },
    {
     "name": "stdout",
     "output_type": "stream",
     "text": [
      "  Baixando ONCO3.SA...\n"
     ]
    },
    {
     "name": "stderr",
     "output_type": "stream",
     "text": [
      "[*********************100%***********************]  1 of 1 completed\n",
      "C:\\Users\\Gustavo\\AppData\\Local\\Temp\\ipykernel_4500\\3608632239.py:65: FutureWarning: YF.download() has changed argument auto_adjust default to True\n",
      "  data = yf.download(ticker, period=PERIODO_DADOS, interval=intervalo_yf)\n"
     ]
    },
    {
     "name": "stdout",
     "output_type": "stream",
     "text": [
      "  Baixando PCAR3.SA...\n"
     ]
    },
    {
     "name": "stderr",
     "output_type": "stream",
     "text": [
      "[*********************100%***********************]  1 of 1 completed\n",
      "C:\\Users\\Gustavo\\AppData\\Local\\Temp\\ipykernel_4500\\3608632239.py:65: FutureWarning: YF.download() has changed argument auto_adjust default to True\n",
      "  data = yf.download(ticker, period=PERIODO_DADOS, interval=intervalo_yf)\n"
     ]
    },
    {
     "name": "stdout",
     "output_type": "stream",
     "text": [
      "  Baixando PETR4.SA...\n"
     ]
    },
    {
     "name": "stderr",
     "output_type": "stream",
     "text": [
      "[*********************100%***********************]  1 of 1 completed\n",
      "C:\\Users\\Gustavo\\AppData\\Local\\Temp\\ipykernel_4500\\3608632239.py:65: FutureWarning: YF.download() has changed argument auto_adjust default to True\n",
      "  data = yf.download(ticker, period=PERIODO_DADOS, interval=intervalo_yf)\n"
     ]
    },
    {
     "name": "stdout",
     "output_type": "stream",
     "text": [
      "  Baixando PETZ3.SA...\n"
     ]
    },
    {
     "name": "stderr",
     "output_type": "stream",
     "text": [
      "[*********************100%***********************]  1 of 1 completed\n",
      "C:\\Users\\Gustavo\\AppData\\Local\\Temp\\ipykernel_4500\\3608632239.py:65: FutureWarning: YF.download() has changed argument auto_adjust default to True\n",
      "  data = yf.download(ticker, period=PERIODO_DADOS, interval=intervalo_yf)\n"
     ]
    },
    {
     "name": "stdout",
     "output_type": "stream",
     "text": [
      "  Baixando PFRM3.SA...\n"
     ]
    },
    {
     "name": "stderr",
     "output_type": "stream",
     "text": [
      "[*********************100%***********************]  1 of 1 completed\n",
      "C:\\Users\\Gustavo\\AppData\\Local\\Temp\\ipykernel_4500\\3608632239.py:65: FutureWarning: YF.download() has changed argument auto_adjust default to True\n",
      "  data = yf.download(ticker, period=PERIODO_DADOS, interval=intervalo_yf)\n"
     ]
    },
    {
     "name": "stdout",
     "output_type": "stream",
     "text": [
      "  Baixando PGMN3.SA...\n"
     ]
    },
    {
     "name": "stderr",
     "output_type": "stream",
     "text": [
      "[*********************100%***********************]  1 of 1 completed\n",
      "C:\\Users\\Gustavo\\AppData\\Local\\Temp\\ipykernel_4500\\3608632239.py:65: FutureWarning: YF.download() has changed argument auto_adjust default to True\n",
      "  data = yf.download(ticker, period=PERIODO_DADOS, interval=intervalo_yf)\n"
     ]
    },
    {
     "name": "stdout",
     "output_type": "stream",
     "text": [
      "  Baixando PRIO3.SA...\n"
     ]
    },
    {
     "name": "stderr",
     "output_type": "stream",
     "text": [
      "[*********************100%***********************]  1 of 1 completed\n",
      "C:\\Users\\Gustavo\\AppData\\Local\\Temp\\ipykernel_4500\\3608632239.py:65: FutureWarning: YF.download() has changed argument auto_adjust default to True\n",
      "  data = yf.download(ticker, period=PERIODO_DADOS, interval=intervalo_yf)\n"
     ]
    },
    {
     "name": "stdout",
     "output_type": "stream",
     "text": [
      "  Baixando PSSA3.SA...\n"
     ]
    },
    {
     "name": "stderr",
     "output_type": "stream",
     "text": [
      "[*********************100%***********************]  1 of 1 completed\n",
      "C:\\Users\\Gustavo\\AppData\\Local\\Temp\\ipykernel_4500\\3608632239.py:65: FutureWarning: YF.download() has changed argument auto_adjust default to True\n",
      "  data = yf.download(ticker, period=PERIODO_DADOS, interval=intervalo_yf)\n"
     ]
    },
    {
     "name": "stdout",
     "output_type": "stream",
     "text": [
      "  Baixando QUAL3.SA...\n"
     ]
    },
    {
     "name": "stderr",
     "output_type": "stream",
     "text": [
      "[*********************100%***********************]  1 of 1 completed\n",
      "C:\\Users\\Gustavo\\AppData\\Local\\Temp\\ipykernel_4500\\3608632239.py:65: FutureWarning: YF.download() has changed argument auto_adjust default to True\n",
      "  data = yf.download(ticker, period=PERIODO_DADOS, interval=intervalo_yf)\n"
     ]
    },
    {
     "name": "stdout",
     "output_type": "stream",
     "text": [
      "  Baixando RADL3.SA...\n"
     ]
    },
    {
     "name": "stderr",
     "output_type": "stream",
     "text": [
      "[*********************100%***********************]  1 of 1 completed\n",
      "C:\\Users\\Gustavo\\AppData\\Local\\Temp\\ipykernel_4500\\3608632239.py:65: FutureWarning: YF.download() has changed argument auto_adjust default to True\n",
      "  data = yf.download(ticker, period=PERIODO_DADOS, interval=intervalo_yf)\n"
     ]
    },
    {
     "name": "stdout",
     "output_type": "stream",
     "text": [
      "  Baixando RAIL3.SA...\n"
     ]
    },
    {
     "name": "stderr",
     "output_type": "stream",
     "text": [
      "[*********************100%***********************]  1 of 1 completed\n",
      "C:\\Users\\Gustavo\\AppData\\Local\\Temp\\ipykernel_4500\\3608632239.py:65: FutureWarning: YF.download() has changed argument auto_adjust default to True\n",
      "  data = yf.download(ticker, period=PERIODO_DADOS, interval=intervalo_yf)\n"
     ]
    },
    {
     "name": "stdout",
     "output_type": "stream",
     "text": [
      "  Baixando RAIZ4.SA...\n"
     ]
    },
    {
     "name": "stderr",
     "output_type": "stream",
     "text": [
      "[*********************100%***********************]  1 of 1 completed\n",
      "C:\\Users\\Gustavo\\AppData\\Local\\Temp\\ipykernel_4500\\3608632239.py:65: FutureWarning: YF.download() has changed argument auto_adjust default to True\n",
      "  data = yf.download(ticker, period=PERIODO_DADOS, interval=intervalo_yf)\n"
     ]
    },
    {
     "name": "stdout",
     "output_type": "stream",
     "text": [
      "  Baixando RDOR3.SA...\n"
     ]
    },
    {
     "name": "stderr",
     "output_type": "stream",
     "text": [
      "[*********************100%***********************]  1 of 1 completed\n",
      "C:\\Users\\Gustavo\\AppData\\Local\\Temp\\ipykernel_4500\\3608632239.py:65: FutureWarning: YF.download() has changed argument auto_adjust default to True\n",
      "  data = yf.download(ticker, period=PERIODO_DADOS, interval=intervalo_yf)\n"
     ]
    },
    {
     "name": "stdout",
     "output_type": "stream",
     "text": [
      "  Baixando RENT3.SA...\n"
     ]
    },
    {
     "name": "stderr",
     "output_type": "stream",
     "text": [
      "[*********************100%***********************]  1 of 1 completed\n",
      "C:\\Users\\Gustavo\\AppData\\Local\\Temp\\ipykernel_4500\\3608632239.py:65: FutureWarning: YF.download() has changed argument auto_adjust default to True\n",
      "  data = yf.download(ticker, period=PERIODO_DADOS, interval=intervalo_yf)\n"
     ]
    },
    {
     "name": "stdout",
     "output_type": "stream",
     "text": [
      "  Baixando ROMI3.SA...\n"
     ]
    },
    {
     "name": "stderr",
     "output_type": "stream",
     "text": [
      "[*********************100%***********************]  1 of 1 completed\n",
      "C:\\Users\\Gustavo\\AppData\\Local\\Temp\\ipykernel_4500\\3608632239.py:65: FutureWarning: YF.download() has changed argument auto_adjust default to True\n",
      "  data = yf.download(ticker, period=PERIODO_DADOS, interval=intervalo_yf)\n"
     ]
    },
    {
     "name": "stdout",
     "output_type": "stream",
     "text": [
      "  Baixando SANB11.SA...\n"
     ]
    },
    {
     "name": "stderr",
     "output_type": "stream",
     "text": [
      "[*********************100%***********************]  1 of 1 completed\n",
      "C:\\Users\\Gustavo\\AppData\\Local\\Temp\\ipykernel_4500\\3608632239.py:65: FutureWarning: YF.download() has changed argument auto_adjust default to True\n",
      "  data = yf.download(ticker, period=PERIODO_DADOS, interval=intervalo_yf)\n"
     ]
    },
    {
     "name": "stdout",
     "output_type": "stream",
     "text": [
      "  Baixando SBSP3.SA...\n"
     ]
    },
    {
     "name": "stderr",
     "output_type": "stream",
     "text": [
      "[*********************100%***********************]  1 of 1 completed\n",
      "C:\\Users\\Gustavo\\AppData\\Local\\Temp\\ipykernel_4500\\3608632239.py:65: FutureWarning: YF.download() has changed argument auto_adjust default to True\n",
      "  data = yf.download(ticker, period=PERIODO_DADOS, interval=intervalo_yf)\n"
     ]
    },
    {
     "name": "stdout",
     "output_type": "stream",
     "text": [
      "  Baixando SLCE3.SA...\n"
     ]
    },
    {
     "name": "stderr",
     "output_type": "stream",
     "text": [
      "[*********************100%***********************]  1 of 1 completed\n",
      "C:\\Users\\Gustavo\\AppData\\Local\\Temp\\ipykernel_4500\\3608632239.py:65: FutureWarning: YF.download() has changed argument auto_adjust default to True\n",
      "  data = yf.download(ticker, period=PERIODO_DADOS, interval=intervalo_yf)\n"
     ]
    },
    {
     "name": "stdout",
     "output_type": "stream",
     "text": [
      "  Baixando SUZB3.SA...\n"
     ]
    },
    {
     "name": "stderr",
     "output_type": "stream",
     "text": [
      "[*********************100%***********************]  1 of 1 completed\n",
      "C:\\Users\\Gustavo\\AppData\\Local\\Temp\\ipykernel_4500\\3608632239.py:65: FutureWarning: YF.download() has changed argument auto_adjust default to True\n",
      "  data = yf.download(ticker, period=PERIODO_DADOS, interval=intervalo_yf)\n"
     ]
    },
    {
     "name": "stdout",
     "output_type": "stream",
     "text": [
      "  Baixando TIMS3.SA...\n"
     ]
    },
    {
     "name": "stderr",
     "output_type": "stream",
     "text": [
      "[*********************100%***********************]  1 of 1 completed\n",
      "C:\\Users\\Gustavo\\AppData\\Local\\Temp\\ipykernel_4500\\3608632239.py:65: FutureWarning: YF.download() has changed argument auto_adjust default to True\n",
      "  data = yf.download(ticker, period=PERIODO_DADOS, interval=intervalo_yf)\n"
     ]
    },
    {
     "name": "stdout",
     "output_type": "stream",
     "text": [
      "  Baixando TOTS3.SA...\n"
     ]
    },
    {
     "name": "stderr",
     "output_type": "stream",
     "text": [
      "[*********************100%***********************]  1 of 1 completed\n",
      "C:\\Users\\Gustavo\\AppData\\Local\\Temp\\ipykernel_4500\\3608632239.py:65: FutureWarning: YF.download() has changed argument auto_adjust default to True\n",
      "  data = yf.download(ticker, period=PERIODO_DADOS, interval=intervalo_yf)\n"
     ]
    },
    {
     "name": "stdout",
     "output_type": "stream",
     "text": [
      "  Baixando TUPY3.SA...\n"
     ]
    },
    {
     "name": "stderr",
     "output_type": "stream",
     "text": [
      "[*********************100%***********************]  1 of 1 completed\n",
      "C:\\Users\\Gustavo\\AppData\\Local\\Temp\\ipykernel_4500\\3608632239.py:65: FutureWarning: YF.download() has changed argument auto_adjust default to True\n",
      "  data = yf.download(ticker, period=PERIODO_DADOS, interval=intervalo_yf)\n"
     ]
    },
    {
     "name": "stdout",
     "output_type": "stream",
     "text": [
      "  Baixando UGPA3.SA...\n"
     ]
    },
    {
     "name": "stderr",
     "output_type": "stream",
     "text": [
      "[*********************100%***********************]  1 of 1 completed\n",
      "C:\\Users\\Gustavo\\AppData\\Local\\Temp\\ipykernel_4500\\3608632239.py:65: FutureWarning: YF.download() has changed argument auto_adjust default to True\n",
      "  data = yf.download(ticker, period=PERIODO_DADOS, interval=intervalo_yf)\n"
     ]
    },
    {
     "name": "stdout",
     "output_type": "stream",
     "text": [
      "  Baixando USIM5.SA...\n"
     ]
    },
    {
     "name": "stderr",
     "output_type": "stream",
     "text": [
      "[*********************100%***********************]  1 of 1 completed\n",
      "C:\\Users\\Gustavo\\AppData\\Local\\Temp\\ipykernel_4500\\3608632239.py:65: FutureWarning: YF.download() has changed argument auto_adjust default to True\n",
      "  data = yf.download(ticker, period=PERIODO_DADOS, interval=intervalo_yf)\n"
     ]
    },
    {
     "name": "stdout",
     "output_type": "stream",
     "text": [
      "  Baixando VALE3.SA...\n"
     ]
    },
    {
     "name": "stderr",
     "output_type": "stream",
     "text": [
      "[*********************100%***********************]  1 of 1 completed\n",
      "C:\\Users\\Gustavo\\AppData\\Local\\Temp\\ipykernel_4500\\3608632239.py:65: FutureWarning: YF.download() has changed argument auto_adjust default to True\n",
      "  data = yf.download(ticker, period=PERIODO_DADOS, interval=intervalo_yf)\n"
     ]
    },
    {
     "name": "stdout",
     "output_type": "stream",
     "text": [
      "  Baixando VAMO3.SA...\n"
     ]
    },
    {
     "name": "stderr",
     "output_type": "stream",
     "text": [
      "[*********************100%***********************]  1 of 1 completed\n",
      "C:\\Users\\Gustavo\\AppData\\Local\\Temp\\ipykernel_4500\\3608632239.py:65: FutureWarning: YF.download() has changed argument auto_adjust default to True\n",
      "  data = yf.download(ticker, period=PERIODO_DADOS, interval=intervalo_yf)\n"
     ]
    },
    {
     "name": "stdout",
     "output_type": "stream",
     "text": [
      "  Baixando VBBR3.SA...\n"
     ]
    },
    {
     "name": "stderr",
     "output_type": "stream",
     "text": [
      "[*********************100%***********************]  1 of 1 completed\n",
      "C:\\Users\\Gustavo\\AppData\\Local\\Temp\\ipykernel_4500\\3608632239.py:65: FutureWarning: YF.download() has changed argument auto_adjust default to True\n",
      "  data = yf.download(ticker, period=PERIODO_DADOS, interval=intervalo_yf)\n"
     ]
    },
    {
     "name": "stdout",
     "output_type": "stream",
     "text": [
      "  Baixando VIVA3.SA...\n"
     ]
    },
    {
     "name": "stderr",
     "output_type": "stream",
     "text": [
      "[*********************100%***********************]  1 of 1 completed\n",
      "C:\\Users\\Gustavo\\AppData\\Local\\Temp\\ipykernel_4500\\3608632239.py:65: FutureWarning: YF.download() has changed argument auto_adjust default to True\n",
      "  data = yf.download(ticker, period=PERIODO_DADOS, interval=intervalo_yf)\n"
     ]
    },
    {
     "name": "stdout",
     "output_type": "stream",
     "text": [
      "  Baixando VIVT3.SA...\n"
     ]
    },
    {
     "name": "stderr",
     "output_type": "stream",
     "text": [
      "[*********************100%***********************]  1 of 1 completed\n",
      "C:\\Users\\Gustavo\\AppData\\Local\\Temp\\ipykernel_4500\\3608632239.py:65: FutureWarning: YF.download() has changed argument auto_adjust default to True\n",
      "  data = yf.download(ticker, period=PERIODO_DADOS, interval=intervalo_yf)\n"
     ]
    },
    {
     "name": "stdout",
     "output_type": "stream",
     "text": [
      "  Baixando WEGE3.SA...\n"
     ]
    },
    {
     "name": "stderr",
     "output_type": "stream",
     "text": [
      "[*********************100%***********************]  1 of 1 completed\n",
      "C:\\Users\\Gustavo\\AppData\\Local\\Temp\\ipykernel_4500\\3608632239.py:65: FutureWarning: YF.download() has changed argument auto_adjust default to True\n",
      "  data = yf.download(ticker, period=PERIODO_DADOS, interval=intervalo_yf)\n"
     ]
    },
    {
     "name": "stdout",
     "output_type": "stream",
     "text": [
      "  Baixando YDUQ3.SA...\n"
     ]
    },
    {
     "name": "stderr",
     "output_type": "stream",
     "text": [
      "[*********************100%***********************]  1 of 1 completed\n"
     ]
    },
    {
     "name": "stdout",
     "output_type": "stream",
     "text": [
      "  Salvando dados na tabela SQL: 'candles_semanais'...\n",
      "  Tabela 'candles_semanais' salva com sucesso!\n",
      "\n",
      "Buscando dados para: candles_mensais (Intervalo: 1mo)\n",
      "  Baixando ABEV3.SA...\n"
     ]
    },
    {
     "name": "stderr",
     "output_type": "stream",
     "text": [
      "C:\\Users\\Gustavo\\AppData\\Local\\Temp\\ipykernel_4500\\3608632239.py:65: FutureWarning: YF.download() has changed argument auto_adjust default to True\n",
      "  data = yf.download(ticker, period=PERIODO_DADOS, interval=intervalo_yf)\n",
      "[*********************100%***********************]  1 of 1 completed\n",
      "C:\\Users\\Gustavo\\AppData\\Local\\Temp\\ipykernel_4500\\3608632239.py:65: FutureWarning: YF.download() has changed argument auto_adjust default to True\n",
      "  data = yf.download(ticker, period=PERIODO_DADOS, interval=intervalo_yf)\n"
     ]
    },
    {
     "name": "stdout",
     "output_type": "stream",
     "text": [
      "  Baixando ALPK3.SA...\n"
     ]
    },
    {
     "name": "stderr",
     "output_type": "stream",
     "text": [
      "[*********************100%***********************]  1 of 1 completed\n",
      "C:\\Users\\Gustavo\\AppData\\Local\\Temp\\ipykernel_4500\\3608632239.py:65: FutureWarning: YF.download() has changed argument auto_adjust default to True\n",
      "  data = yf.download(ticker, period=PERIODO_DADOS, interval=intervalo_yf)\n"
     ]
    },
    {
     "name": "stdout",
     "output_type": "stream",
     "text": [
      "  Baixando AMAR3.SA...\n"
     ]
    },
    {
     "name": "stderr",
     "output_type": "stream",
     "text": [
      "[*********************100%***********************]  1 of 1 completed\n",
      "C:\\Users\\Gustavo\\AppData\\Local\\Temp\\ipykernel_4500\\3608632239.py:65: FutureWarning: YF.download() has changed argument auto_adjust default to True\n",
      "  data = yf.download(ticker, period=PERIODO_DADOS, interval=intervalo_yf)\n"
     ]
    },
    {
     "name": "stdout",
     "output_type": "stream",
     "text": [
      "  Baixando AMBP3.SA...\n"
     ]
    },
    {
     "name": "stderr",
     "output_type": "stream",
     "text": [
      "[*********************100%***********************]  1 of 1 completed\n",
      "C:\\Users\\Gustavo\\AppData\\Local\\Temp\\ipykernel_4500\\3608632239.py:65: FutureWarning: YF.download() has changed argument auto_adjust default to True\n",
      "  data = yf.download(ticker, period=PERIODO_DADOS, interval=intervalo_yf)\n"
     ]
    },
    {
     "name": "stdout",
     "output_type": "stream",
     "text": [
      "  Baixando ANIM3.SA...\n"
     ]
    },
    {
     "name": "stderr",
     "output_type": "stream",
     "text": [
      "[*********************100%***********************]  1 of 1 completed\n",
      "C:\\Users\\Gustavo\\AppData\\Local\\Temp\\ipykernel_4500\\3608632239.py:65: FutureWarning: YF.download() has changed argument auto_adjust default to True\n",
      "  data = yf.download(ticker, period=PERIODO_DADOS, interval=intervalo_yf)\n"
     ]
    },
    {
     "name": "stdout",
     "output_type": "stream",
     "text": [
      "  Baixando ASAI3.SA...\n"
     ]
    },
    {
     "name": "stderr",
     "output_type": "stream",
     "text": [
      "[*********************100%***********************]  1 of 1 completed\n",
      "C:\\Users\\Gustavo\\AppData\\Local\\Temp\\ipykernel_4500\\3608632239.py:65: FutureWarning: YF.download() has changed argument auto_adjust default to True\n",
      "  data = yf.download(ticker, period=PERIODO_DADOS, interval=intervalo_yf)\n"
     ]
    },
    {
     "name": "stdout",
     "output_type": "stream",
     "text": [
      "  Baixando AURE3.SA...\n"
     ]
    },
    {
     "name": "stderr",
     "output_type": "stream",
     "text": [
      "[*********************100%***********************]  1 of 1 completed\n",
      "C:\\Users\\Gustavo\\AppData\\Local\\Temp\\ipykernel_4500\\3608632239.py:65: FutureWarning: YF.download() has changed argument auto_adjust default to True\n",
      "  data = yf.download(ticker, period=PERIODO_DADOS, interval=intervalo_yf)\n"
     ]
    },
    {
     "name": "stdout",
     "output_type": "stream",
     "text": [
      "  Baixando AZEV3.SA...\n"
     ]
    },
    {
     "name": "stderr",
     "output_type": "stream",
     "text": [
      "[*********************100%***********************]  1 of 1 completed\n",
      "C:\\Users\\Gustavo\\AppData\\Local\\Temp\\ipykernel_4500\\3608632239.py:65: FutureWarning: YF.download() has changed argument auto_adjust default to True\n",
      "  data = yf.download(ticker, period=PERIODO_DADOS, interval=intervalo_yf)\n"
     ]
    },
    {
     "name": "stdout",
     "output_type": "stream",
     "text": [
      "  Baixando AZTE3.SA...\n"
     ]
    },
    {
     "name": "stderr",
     "output_type": "stream",
     "text": [
      "[*********************100%***********************]  1 of 1 completed\n",
      "C:\\Users\\Gustavo\\AppData\\Local\\Temp\\ipykernel_4500\\3608632239.py:65: FutureWarning: YF.download() has changed argument auto_adjust default to True\n",
      "  data = yf.download(ticker, period=PERIODO_DADOS, interval=intervalo_yf)\n"
     ]
    },
    {
     "name": "stdout",
     "output_type": "stream",
     "text": [
      "  Baixando AZUL4.SA...\n"
     ]
    },
    {
     "name": "stderr",
     "output_type": "stream",
     "text": [
      "[*********************100%***********************]  1 of 1 completed\n",
      "C:\\Users\\Gustavo\\AppData\\Local\\Temp\\ipykernel_4500\\3608632239.py:65: FutureWarning: YF.download() has changed argument auto_adjust default to True\n",
      "  data = yf.download(ticker, period=PERIODO_DADOS, interval=intervalo_yf)\n"
     ]
    },
    {
     "name": "stdout",
     "output_type": "stream",
     "text": [
      "  Baixando AZZA3.SA...\n"
     ]
    },
    {
     "name": "stderr",
     "output_type": "stream",
     "text": [
      "[*********************100%***********************]  1 of 1 completed\n",
      "C:\\Users\\Gustavo\\AppData\\Local\\Temp\\ipykernel_4500\\3608632239.py:65: FutureWarning: YF.download() has changed argument auto_adjust default to True\n",
      "  data = yf.download(ticker, period=PERIODO_DADOS, interval=intervalo_yf)\n"
     ]
    },
    {
     "name": "stdout",
     "output_type": "stream",
     "text": [
      "  Baixando B3SA3.SA...\n"
     ]
    },
    {
     "name": "stderr",
     "output_type": "stream",
     "text": [
      "[*********************100%***********************]  1 of 1 completed\n",
      "C:\\Users\\Gustavo\\AppData\\Local\\Temp\\ipykernel_4500\\3608632239.py:65: FutureWarning: YF.download() has changed argument auto_adjust default to True\n",
      "  data = yf.download(ticker, period=PERIODO_DADOS, interval=intervalo_yf)\n"
     ]
    },
    {
     "name": "stdout",
     "output_type": "stream",
     "text": [
      "  Baixando BBAS3.SA...\n"
     ]
    },
    {
     "name": "stderr",
     "output_type": "stream",
     "text": [
      "[*********************100%***********************]  1 of 1 completed\n",
      "C:\\Users\\Gustavo\\AppData\\Local\\Temp\\ipykernel_4500\\3608632239.py:65: FutureWarning: YF.download() has changed argument auto_adjust default to True\n",
      "  data = yf.download(ticker, period=PERIODO_DADOS, interval=intervalo_yf)\n"
     ]
    },
    {
     "name": "stdout",
     "output_type": "stream",
     "text": [
      "  Baixando BBSE3.SA...\n"
     ]
    },
    {
     "name": "stderr",
     "output_type": "stream",
     "text": [
      "[*********************100%***********************]  1 of 1 completed\n",
      "C:\\Users\\Gustavo\\AppData\\Local\\Temp\\ipykernel_4500\\3608632239.py:65: FutureWarning: YF.download() has changed argument auto_adjust default to True\n",
      "  data = yf.download(ticker, period=PERIODO_DADOS, interval=intervalo_yf)\n"
     ]
    },
    {
     "name": "stdout",
     "output_type": "stream",
     "text": [
      "  Baixando BEEF3.SA...\n"
     ]
    },
    {
     "name": "stderr",
     "output_type": "stream",
     "text": [
      "[*********************100%***********************]  1 of 1 completed\n",
      "C:\\Users\\Gustavo\\AppData\\Local\\Temp\\ipykernel_4500\\3608632239.py:65: FutureWarning: YF.download() has changed argument auto_adjust default to True\n",
      "  data = yf.download(ticker, period=PERIODO_DADOS, interval=intervalo_yf)\n"
     ]
    },
    {
     "name": "stdout",
     "output_type": "stream",
     "text": [
      "  Baixando BIOM3.SA...\n"
     ]
    },
    {
     "name": "stderr",
     "output_type": "stream",
     "text": [
      "[*********************100%***********************]  1 of 1 completed\n",
      "C:\\Users\\Gustavo\\AppData\\Local\\Temp\\ipykernel_4500\\3608632239.py:65: FutureWarning: YF.download() has changed argument auto_adjust default to True\n",
      "  data = yf.download(ticker, period=PERIODO_DADOS, interval=intervalo_yf)\n"
     ]
    },
    {
     "name": "stdout",
     "output_type": "stream",
     "text": [
      "  Baixando BLAU3.SA...\n"
     ]
    },
    {
     "name": "stderr",
     "output_type": "stream",
     "text": [
      "[*********************100%***********************]  1 of 1 completed\n",
      "C:\\Users\\Gustavo\\AppData\\Local\\Temp\\ipykernel_4500\\3608632239.py:65: FutureWarning: YF.download() has changed argument auto_adjust default to True\n",
      "  data = yf.download(ticker, period=PERIODO_DADOS, interval=intervalo_yf)\n"
     ]
    },
    {
     "name": "stdout",
     "output_type": "stream",
     "text": [
      "  Baixando BMGB4.SA...\n"
     ]
    },
    {
     "name": "stderr",
     "output_type": "stream",
     "text": [
      "[*********************100%***********************]  1 of 1 completed\n",
      "C:\\Users\\Gustavo\\AppData\\Local\\Temp\\ipykernel_4500\\3608632239.py:65: FutureWarning: YF.download() has changed argument auto_adjust default to True\n",
      "  data = yf.download(ticker, period=PERIODO_DADOS, interval=intervalo_yf)\n"
     ]
    },
    {
     "name": "stdout",
     "output_type": "stream",
     "text": [
      "  Baixando BPAC11.SA...\n"
     ]
    },
    {
     "name": "stderr",
     "output_type": "stream",
     "text": [
      "[*********************100%***********************]  1 of 1 completed\n",
      "C:\\Users\\Gustavo\\AppData\\Local\\Temp\\ipykernel_4500\\3608632239.py:65: FutureWarning: YF.download() has changed argument auto_adjust default to True\n",
      "  data = yf.download(ticker, period=PERIODO_DADOS, interval=intervalo_yf)\n"
     ]
    },
    {
     "name": "stdout",
     "output_type": "stream",
     "text": [
      "  Baixando BPAN4.SA...\n"
     ]
    },
    {
     "name": "stderr",
     "output_type": "stream",
     "text": [
      "[*********************100%***********************]  1 of 1 completed\n",
      "C:\\Users\\Gustavo\\AppData\\Local\\Temp\\ipykernel_4500\\3608632239.py:65: FutureWarning: YF.download() has changed argument auto_adjust default to True\n",
      "  data = yf.download(ticker, period=PERIODO_DADOS, interval=intervalo_yf)\n"
     ]
    },
    {
     "name": "stdout",
     "output_type": "stream",
     "text": [
      "  Baixando BRAP4.SA...\n"
     ]
    },
    {
     "name": "stderr",
     "output_type": "stream",
     "text": [
      "[*********************100%***********************]  1 of 1 completed\n",
      "C:\\Users\\Gustavo\\AppData\\Local\\Temp\\ipykernel_4500\\3608632239.py:65: FutureWarning: YF.download() has changed argument auto_adjust default to True\n",
      "  data = yf.download(ticker, period=PERIODO_DADOS, interval=intervalo_yf)\n"
     ]
    },
    {
     "name": "stdout",
     "output_type": "stream",
     "text": [
      "  Baixando BRAV3.SA...\n"
     ]
    },
    {
     "name": "stderr",
     "output_type": "stream",
     "text": [
      "[*********************100%***********************]  1 of 1 completed\n",
      "C:\\Users\\Gustavo\\AppData\\Local\\Temp\\ipykernel_4500\\3608632239.py:65: FutureWarning: YF.download() has changed argument auto_adjust default to True\n",
      "  data = yf.download(ticker, period=PERIODO_DADOS, interval=intervalo_yf)\n"
     ]
    },
    {
     "name": "stdout",
     "output_type": "stream",
     "text": [
      "  Baixando BRFS3.SA...\n"
     ]
    },
    {
     "name": "stderr",
     "output_type": "stream",
     "text": [
      "[*********************100%***********************]  1 of 1 completed\n",
      "C:\\Users\\Gustavo\\AppData\\Local\\Temp\\ipykernel_4500\\3608632239.py:65: FutureWarning: YF.download() has changed argument auto_adjust default to True\n",
      "  data = yf.download(ticker, period=PERIODO_DADOS, interval=intervalo_yf)\n"
     ]
    },
    {
     "name": "stdout",
     "output_type": "stream",
     "text": [
      "  Baixando BRKM5.SA...\n"
     ]
    },
    {
     "name": "stderr",
     "output_type": "stream",
     "text": [
      "[*********************100%***********************]  1 of 1 completed\n",
      "C:\\Users\\Gustavo\\AppData\\Local\\Temp\\ipykernel_4500\\3608632239.py:65: FutureWarning: YF.download() has changed argument auto_adjust default to True\n",
      "  data = yf.download(ticker, period=PERIODO_DADOS, interval=intervalo_yf)\n"
     ]
    },
    {
     "name": "stdout",
     "output_type": "stream",
     "text": [
      "  Baixando BRST3.SA...\n"
     ]
    },
    {
     "name": "stderr",
     "output_type": "stream",
     "text": [
      "[*********************100%***********************]  1 of 1 completed\n",
      "C:\\Users\\Gustavo\\AppData\\Local\\Temp\\ipykernel_4500\\3608632239.py:65: FutureWarning: YF.download() has changed argument auto_adjust default to True\n",
      "  data = yf.download(ticker, period=PERIODO_DADOS, interval=intervalo_yf)\n"
     ]
    },
    {
     "name": "stdout",
     "output_type": "stream",
     "text": [
      "  Baixando CAML3.SA...\n"
     ]
    },
    {
     "name": "stderr",
     "output_type": "stream",
     "text": [
      "[*********************100%***********************]  1 of 1 completed\n",
      "C:\\Users\\Gustavo\\AppData\\Local\\Temp\\ipykernel_4500\\3608632239.py:65: FutureWarning: YF.download() has changed argument auto_adjust default to True\n",
      "  data = yf.download(ticker, period=PERIODO_DADOS, interval=intervalo_yf)\n"
     ]
    },
    {
     "name": "stdout",
     "output_type": "stream",
     "text": [
      "  Baixando CASH3.SA...\n"
     ]
    },
    {
     "name": "stderr",
     "output_type": "stream",
     "text": [
      "[*********************100%***********************]  1 of 1 completed\n",
      "C:\\Users\\Gustavo\\AppData\\Local\\Temp\\ipykernel_4500\\3608632239.py:65: FutureWarning: YF.download() has changed argument auto_adjust default to True\n",
      "  data = yf.download(ticker, period=PERIODO_DADOS, interval=intervalo_yf)\n"
     ]
    },
    {
     "name": "stdout",
     "output_type": "stream",
     "text": [
      "  Baixando CBAV3.SA...\n"
     ]
    },
    {
     "name": "stderr",
     "output_type": "stream",
     "text": [
      "[*********************100%***********************]  1 of 1 completed\n",
      "C:\\Users\\Gustavo\\AppData\\Local\\Temp\\ipykernel_4500\\3608632239.py:65: FutureWarning: YF.download() has changed argument auto_adjust default to True\n",
      "  data = yf.download(ticker, period=PERIODO_DADOS, interval=intervalo_yf)\n"
     ]
    },
    {
     "name": "stdout",
     "output_type": "stream",
     "text": [
      "  Baixando CMIG4.SA...\n"
     ]
    },
    {
     "name": "stderr",
     "output_type": "stream",
     "text": [
      "[*********************100%***********************]  1 of 1 completed\n",
      "C:\\Users\\Gustavo\\AppData\\Local\\Temp\\ipykernel_4500\\3608632239.py:65: FutureWarning: YF.download() has changed argument auto_adjust default to True\n",
      "  data = yf.download(ticker, period=PERIODO_DADOS, interval=intervalo_yf)\n"
     ]
    },
    {
     "name": "stdout",
     "output_type": "stream",
     "text": [
      "  Baixando CMIN3.SA...\n"
     ]
    },
    {
     "name": "stderr",
     "output_type": "stream",
     "text": [
      "[*********************100%***********************]  1 of 1 completed\n",
      "C:\\Users\\Gustavo\\AppData\\Local\\Temp\\ipykernel_4500\\3608632239.py:65: FutureWarning: YF.download() has changed argument auto_adjust default to True\n",
      "  data = yf.download(ticker, period=PERIODO_DADOS, interval=intervalo_yf)\n"
     ]
    },
    {
     "name": "stdout",
     "output_type": "stream",
     "text": [
      "  Baixando COGN3.SA...\n"
     ]
    },
    {
     "name": "stderr",
     "output_type": "stream",
     "text": [
      "[*********************100%***********************]  1 of 1 completed\n",
      "C:\\Users\\Gustavo\\AppData\\Local\\Temp\\ipykernel_4500\\3608632239.py:65: FutureWarning: YF.download() has changed argument auto_adjust default to True\n",
      "  data = yf.download(ticker, period=PERIODO_DADOS, interval=intervalo_yf)\n"
     ]
    },
    {
     "name": "stdout",
     "output_type": "stream",
     "text": [
      "  Baixando CPLE6.SA...\n"
     ]
    },
    {
     "name": "stderr",
     "output_type": "stream",
     "text": [
      "[*********************100%***********************]  1 of 1 completed\n",
      "C:\\Users\\Gustavo\\AppData\\Local\\Temp\\ipykernel_4500\\3608632239.py:65: FutureWarning: YF.download() has changed argument auto_adjust default to True\n",
      "  data = yf.download(ticker, period=PERIODO_DADOS, interval=intervalo_yf)\n"
     ]
    },
    {
     "name": "stdout",
     "output_type": "stream",
     "text": [
      "  Baixando CSAN3.SA...\n"
     ]
    },
    {
     "name": "stderr",
     "output_type": "stream",
     "text": [
      "[*********************100%***********************]  1 of 1 completed\n",
      "C:\\Users\\Gustavo\\AppData\\Local\\Temp\\ipykernel_4500\\3608632239.py:65: FutureWarning: YF.download() has changed argument auto_adjust default to True\n",
      "  data = yf.download(ticker, period=PERIODO_DADOS, interval=intervalo_yf)\n"
     ]
    },
    {
     "name": "stdout",
     "output_type": "stream",
     "text": [
      "  Baixando CSED3.SA...\n"
     ]
    },
    {
     "name": "stderr",
     "output_type": "stream",
     "text": [
      "[*********************100%***********************]  1 of 1 completed\n",
      "C:\\Users\\Gustavo\\AppData\\Local\\Temp\\ipykernel_4500\\3608632239.py:65: FutureWarning: YF.download() has changed argument auto_adjust default to True\n",
      "  data = yf.download(ticker, period=PERIODO_DADOS, interval=intervalo_yf)\n"
     ]
    },
    {
     "name": "stdout",
     "output_type": "stream",
     "text": [
      "  Baixando CSNA3.SA...\n"
     ]
    },
    {
     "name": "stderr",
     "output_type": "stream",
     "text": [
      "[*********************100%***********************]  1 of 1 completed\n",
      "C:\\Users\\Gustavo\\AppData\\Local\\Temp\\ipykernel_4500\\3608632239.py:65: FutureWarning: YF.download() has changed argument auto_adjust default to True\n",
      "  data = yf.download(ticker, period=PERIODO_DADOS, interval=intervalo_yf)\n"
     ]
    },
    {
     "name": "stdout",
     "output_type": "stream",
     "text": [
      "  Baixando CVCB3.SA...\n"
     ]
    },
    {
     "name": "stderr",
     "output_type": "stream",
     "text": [
      "[*********************100%***********************]  1 of 1 completed\n",
      "C:\\Users\\Gustavo\\AppData\\Local\\Temp\\ipykernel_4500\\3608632239.py:65: FutureWarning: YF.download() has changed argument auto_adjust default to True\n",
      "  data = yf.download(ticker, period=PERIODO_DADOS, interval=intervalo_yf)\n"
     ]
    },
    {
     "name": "stdout",
     "output_type": "stream",
     "text": [
      "  Baixando CYRE3.SA...\n"
     ]
    },
    {
     "name": "stderr",
     "output_type": "stream",
     "text": [
      "[*********************100%***********************]  1 of 1 completed\n",
      "C:\\Users\\Gustavo\\AppData\\Local\\Temp\\ipykernel_4500\\3608632239.py:65: FutureWarning: YF.download() has changed argument auto_adjust default to True\n",
      "  data = yf.download(ticker, period=PERIODO_DADOS, interval=intervalo_yf)\n"
     ]
    },
    {
     "name": "stdout",
     "output_type": "stream",
     "text": [
      "  Baixando DASA3.SA...\n"
     ]
    },
    {
     "name": "stderr",
     "output_type": "stream",
     "text": [
      "[*********************100%***********************]  1 of 1 completed\n",
      "C:\\Users\\Gustavo\\AppData\\Local\\Temp\\ipykernel_4500\\3608632239.py:65: FutureWarning: YF.download() has changed argument auto_adjust default to True\n",
      "  data = yf.download(ticker, period=PERIODO_DADOS, interval=intervalo_yf)\n"
     ]
    },
    {
     "name": "stdout",
     "output_type": "stream",
     "text": [
      "  Baixando DXCO3.SA...\n"
     ]
    },
    {
     "name": "stderr",
     "output_type": "stream",
     "text": [
      "[*********************100%***********************]  1 of 1 completed\n",
      "C:\\Users\\Gustavo\\AppData\\Local\\Temp\\ipykernel_4500\\3608632239.py:65: FutureWarning: YF.download() has changed argument auto_adjust default to True\n",
      "  data = yf.download(ticker, period=PERIODO_DADOS, interval=intervalo_yf)\n"
     ]
    },
    {
     "name": "stdout",
     "output_type": "stream",
     "text": [
      "  Baixando ECOR3.SA...\n"
     ]
    },
    {
     "name": "stderr",
     "output_type": "stream",
     "text": [
      "[*********************100%***********************]  1 of 1 completed\n",
      "C:\\Users\\Gustavo\\AppData\\Local\\Temp\\ipykernel_4500\\3608632239.py:65: FutureWarning: YF.download() has changed argument auto_adjust default to True\n",
      "  data = yf.download(ticker, period=PERIODO_DADOS, interval=intervalo_yf)\n"
     ]
    },
    {
     "name": "stdout",
     "output_type": "stream",
     "text": [
      "  Baixando ELET3.SA...\n"
     ]
    },
    {
     "name": "stderr",
     "output_type": "stream",
     "text": [
      "[*********************100%***********************]  1 of 1 completed\n",
      "C:\\Users\\Gustavo\\AppData\\Local\\Temp\\ipykernel_4500\\3608632239.py:65: FutureWarning: YF.download() has changed argument auto_adjust default to True\n",
      "  data = yf.download(ticker, period=PERIODO_DADOS, interval=intervalo_yf)\n"
     ]
    },
    {
     "name": "stdout",
     "output_type": "stream",
     "text": [
      "  Baixando EMBR3.SA...\n"
     ]
    },
    {
     "name": "stderr",
     "output_type": "stream",
     "text": [
      "[*********************100%***********************]  1 of 1 completed\n",
      "C:\\Users\\Gustavo\\AppData\\Local\\Temp\\ipykernel_4500\\3608632239.py:65: FutureWarning: YF.download() has changed argument auto_adjust default to True\n",
      "  data = yf.download(ticker, period=PERIODO_DADOS, interval=intervalo_yf)\n"
     ]
    },
    {
     "name": "stdout",
     "output_type": "stream",
     "text": [
      "  Baixando ENEV3.SA...\n"
     ]
    },
    {
     "name": "stderr",
     "output_type": "stream",
     "text": [
      "[*********************100%***********************]  1 of 1 completed\n",
      "C:\\Users\\Gustavo\\AppData\\Local\\Temp\\ipykernel_4500\\3608632239.py:65: FutureWarning: YF.download() has changed argument auto_adjust default to True\n",
      "  data = yf.download(ticker, period=PERIODO_DADOS, interval=intervalo_yf)\n"
     ]
    },
    {
     "name": "stdout",
     "output_type": "stream",
     "text": [
      "  Baixando ENJU3.SA...\n"
     ]
    },
    {
     "name": "stderr",
     "output_type": "stream",
     "text": [
      "[*********************100%***********************]  1 of 1 completed\n",
      "C:\\Users\\Gustavo\\AppData\\Local\\Temp\\ipykernel_4500\\3608632239.py:65: FutureWarning: YF.download() has changed argument auto_adjust default to True\n",
      "  data = yf.download(ticker, period=PERIODO_DADOS, interval=intervalo_yf)\n"
     ]
    },
    {
     "name": "stdout",
     "output_type": "stream",
     "text": [
      "  Baixando EQTL3.SA...\n"
     ]
    },
    {
     "name": "stderr",
     "output_type": "stream",
     "text": [
      "[*********************100%***********************]  1 of 1 completed\n",
      "C:\\Users\\Gustavo\\AppData\\Local\\Temp\\ipykernel_4500\\3608632239.py:65: FutureWarning: YF.download() has changed argument auto_adjust default to True\n",
      "  data = yf.download(ticker, period=PERIODO_DADOS, interval=intervalo_yf)\n"
     ]
    },
    {
     "name": "stdout",
     "output_type": "stream",
     "text": [
      "  Baixando EVEN3.SA...\n"
     ]
    },
    {
     "name": "stderr",
     "output_type": "stream",
     "text": [
      "[*********************100%***********************]  1 of 1 completed\n",
      "C:\\Users\\Gustavo\\AppData\\Local\\Temp\\ipykernel_4500\\3608632239.py:65: FutureWarning: YF.download() has changed argument auto_adjust default to True\n",
      "  data = yf.download(ticker, period=PERIODO_DADOS, interval=intervalo_yf)\n"
     ]
    },
    {
     "name": "stdout",
     "output_type": "stream",
     "text": [
      "  Baixando EZTC3.SA...\n"
     ]
    },
    {
     "name": "stderr",
     "output_type": "stream",
     "text": [
      "[*********************100%***********************]  1 of 1 completed\n",
      "C:\\Users\\Gustavo\\AppData\\Local\\Temp\\ipykernel_4500\\3608632239.py:65: FutureWarning: YF.download() has changed argument auto_adjust default to True\n",
      "  data = yf.download(ticker, period=PERIODO_DADOS, interval=intervalo_yf)\n"
     ]
    },
    {
     "name": "stdout",
     "output_type": "stream",
     "text": [
      "  Baixando FIQE3.SA...\n"
     ]
    },
    {
     "name": "stderr",
     "output_type": "stream",
     "text": [
      "[*********************100%***********************]  1 of 1 completed\n",
      "C:\\Users\\Gustavo\\AppData\\Local\\Temp\\ipykernel_4500\\3608632239.py:65: FutureWarning: YF.download() has changed argument auto_adjust default to True\n",
      "  data = yf.download(ticker, period=PERIODO_DADOS, interval=intervalo_yf)\n"
     ]
    },
    {
     "name": "stdout",
     "output_type": "stream",
     "text": [
      "  Baixando FLRY3.SA...\n"
     ]
    },
    {
     "name": "stderr",
     "output_type": "stream",
     "text": [
      "[*********************100%***********************]  1 of 1 completed\n",
      "C:\\Users\\Gustavo\\AppData\\Local\\Temp\\ipykernel_4500\\3608632239.py:65: FutureWarning: YF.download() has changed argument auto_adjust default to True\n",
      "  data = yf.download(ticker, period=PERIODO_DADOS, interval=intervalo_yf)\n"
     ]
    },
    {
     "name": "stdout",
     "output_type": "stream",
     "text": [
      "  Baixando GGBR4.SA...\n"
     ]
    },
    {
     "name": "stderr",
     "output_type": "stream",
     "text": [
      "[*********************100%***********************]  1 of 1 completed\n",
      "C:\\Users\\Gustavo\\AppData\\Local\\Temp\\ipykernel_4500\\3608632239.py:65: FutureWarning: YF.download() has changed argument auto_adjust default to True\n",
      "  data = yf.download(ticker, period=PERIODO_DADOS, interval=intervalo_yf)\n"
     ]
    },
    {
     "name": "stdout",
     "output_type": "stream",
     "text": [
      "  Baixando GFSA3.SA...\n"
     ]
    },
    {
     "name": "stderr",
     "output_type": "stream",
     "text": [
      "[*********************100%***********************]  1 of 1 completed\n",
      "C:\\Users\\Gustavo\\AppData\\Local\\Temp\\ipykernel_4500\\3608632239.py:65: FutureWarning: YF.download() has changed argument auto_adjust default to True\n",
      "  data = yf.download(ticker, period=PERIODO_DADOS, interval=intervalo_yf)\n"
     ]
    },
    {
     "name": "stdout",
     "output_type": "stream",
     "text": [
      "  Baixando GMAT3.SA...\n"
     ]
    },
    {
     "name": "stderr",
     "output_type": "stream",
     "text": [
      "[*********************100%***********************]  1 of 1 completed\n",
      "C:\\Users\\Gustavo\\AppData\\Local\\Temp\\ipykernel_4500\\3608632239.py:65: FutureWarning: YF.download() has changed argument auto_adjust default to True\n",
      "  data = yf.download(ticker, period=PERIODO_DADOS, interval=intervalo_yf)\n"
     ]
    },
    {
     "name": "stdout",
     "output_type": "stream",
     "text": [
      "  Baixando GOAU4.SA...\n"
     ]
    },
    {
     "name": "stderr",
     "output_type": "stream",
     "text": [
      "[*********************100%***********************]  1 of 1 completed\n",
      "C:\\Users\\Gustavo\\AppData\\Local\\Temp\\ipykernel_4500\\3608632239.py:65: FutureWarning: YF.download() has changed argument auto_adjust default to True\n",
      "  data = yf.download(ticker, period=PERIODO_DADOS, interval=intervalo_yf)\n"
     ]
    },
    {
     "name": "stdout",
     "output_type": "stream",
     "text": [
      "  Baixando HAPV3.SA...\n"
     ]
    },
    {
     "name": "stderr",
     "output_type": "stream",
     "text": [
      "[*********************100%***********************]  1 of 1 completed\n",
      "C:\\Users\\Gustavo\\AppData\\Local\\Temp\\ipykernel_4500\\3608632239.py:65: FutureWarning: YF.download() has changed argument auto_adjust default to True\n",
      "  data = yf.download(ticker, period=PERIODO_DADOS, interval=intervalo_yf)\n"
     ]
    },
    {
     "name": "stdout",
     "output_type": "stream",
     "text": [
      "  Baixando HBOR3.SA...\n"
     ]
    },
    {
     "name": "stderr",
     "output_type": "stream",
     "text": [
      "[*********************100%***********************]  1 of 1 completed\n",
      "C:\\Users\\Gustavo\\AppData\\Local\\Temp\\ipykernel_4500\\3608632239.py:65: FutureWarning: YF.download() has changed argument auto_adjust default to True\n",
      "  data = yf.download(ticker, period=PERIODO_DADOS, interval=intervalo_yf)\n"
     ]
    },
    {
     "name": "stdout",
     "output_type": "stream",
     "text": [
      "  Baixando HBRE3.SA...\n"
     ]
    },
    {
     "name": "stderr",
     "output_type": "stream",
     "text": [
      "[*********************100%***********************]  1 of 1 completed\n",
      "C:\\Users\\Gustavo\\AppData\\Local\\Temp\\ipykernel_4500\\3608632239.py:65: FutureWarning: YF.download() has changed argument auto_adjust default to True\n",
      "  data = yf.download(ticker, period=PERIODO_DADOS, interval=intervalo_yf)\n"
     ]
    },
    {
     "name": "stdout",
     "output_type": "stream",
     "text": [
      "  Baixando HBSA3.SA...\n"
     ]
    },
    {
     "name": "stderr",
     "output_type": "stream",
     "text": [
      "[*********************100%***********************]  1 of 1 completed\n",
      "C:\\Users\\Gustavo\\AppData\\Local\\Temp\\ipykernel_4500\\3608632239.py:65: FutureWarning: YF.download() has changed argument auto_adjust default to True\n",
      "  data = yf.download(ticker, period=PERIODO_DADOS, interval=intervalo_yf)\n"
     ]
    },
    {
     "name": "stdout",
     "output_type": "stream",
     "text": [
      "  Baixando HYPE3.SA...\n"
     ]
    },
    {
     "name": "stderr",
     "output_type": "stream",
     "text": [
      "[*********************100%***********************]  1 of 1 completed\n",
      "C:\\Users\\Gustavo\\AppData\\Local\\Temp\\ipykernel_4500\\3608632239.py:65: FutureWarning: YF.download() has changed argument auto_adjust default to True\n",
      "  data = yf.download(ticker, period=PERIODO_DADOS, interval=intervalo_yf)\n"
     ]
    },
    {
     "name": "stdout",
     "output_type": "stream",
     "text": [
      "  Baixando INBR32.SA...\n"
     ]
    },
    {
     "name": "stderr",
     "output_type": "stream",
     "text": [
      "[*********************100%***********************]  1 of 1 completed\n",
      "C:\\Users\\Gustavo\\AppData\\Local\\Temp\\ipykernel_4500\\3608632239.py:65: FutureWarning: YF.download() has changed argument auto_adjust default to True\n",
      "  data = yf.download(ticker, period=PERIODO_DADOS, interval=intervalo_yf)\n"
     ]
    },
    {
     "name": "stdout",
     "output_type": "stream",
     "text": [
      "  Baixando IRBR3.SA...\n"
     ]
    },
    {
     "name": "stderr",
     "output_type": "stream",
     "text": [
      "[*********************100%***********************]  1 of 1 completed\n",
      "C:\\Users\\Gustavo\\AppData\\Local\\Temp\\ipykernel_4500\\3608632239.py:65: FutureWarning: YF.download() has changed argument auto_adjust default to True\n",
      "  data = yf.download(ticker, period=PERIODO_DADOS, interval=intervalo_yf)\n"
     ]
    },
    {
     "name": "stdout",
     "output_type": "stream",
     "text": [
      "  Baixando ITSA4.SA...\n"
     ]
    },
    {
     "name": "stderr",
     "output_type": "stream",
     "text": [
      "[*********************100%***********************]  1 of 1 completed\n",
      "C:\\Users\\Gustavo\\AppData\\Local\\Temp\\ipykernel_4500\\3608632239.py:65: FutureWarning: YF.download() has changed argument auto_adjust default to True\n",
      "  data = yf.download(ticker, period=PERIODO_DADOS, interval=intervalo_yf)\n"
     ]
    },
    {
     "name": "stdout",
     "output_type": "stream",
     "text": [
      "  Baixando ITUB4.SA...\n"
     ]
    },
    {
     "name": "stderr",
     "output_type": "stream",
     "text": [
      "[*********************100%***********************]  1 of 1 completed\n",
      "C:\\Users\\Gustavo\\AppData\\Local\\Temp\\ipykernel_4500\\3608632239.py:65: FutureWarning: YF.download() has changed argument auto_adjust default to True\n",
      "  data = yf.download(ticker, period=PERIODO_DADOS, interval=intervalo_yf)\n"
     ]
    },
    {
     "name": "stdout",
     "output_type": "stream",
     "text": [
      "  Baixando JHSF3.SA...\n"
     ]
    },
    {
     "name": "stderr",
     "output_type": "stream",
     "text": [
      "[*********************100%***********************]  1 of 1 completed\n",
      "C:\\Users\\Gustavo\\AppData\\Local\\Temp\\ipykernel_4500\\3608632239.py:65: FutureWarning: YF.download() has changed argument auto_adjust default to True\n",
      "  data = yf.download(ticker, period=PERIODO_DADOS, interval=intervalo_yf)\n"
     ]
    },
    {
     "name": "stdout",
     "output_type": "stream",
     "text": [
      "  Baixando JSLG3.SA...\n"
     ]
    },
    {
     "name": "stderr",
     "output_type": "stream",
     "text": [
      "[*********************100%***********************]  1 of 1 completed\n",
      "C:\\Users\\Gustavo\\AppData\\Local\\Temp\\ipykernel_4500\\3608632239.py:65: FutureWarning: YF.download() has changed argument auto_adjust default to True\n",
      "  data = yf.download(ticker, period=PERIODO_DADOS, interval=intervalo_yf)\n"
     ]
    },
    {
     "name": "stdout",
     "output_type": "stream",
     "text": [
      "  Baixando KLBN11.SA...\n"
     ]
    },
    {
     "name": "stderr",
     "output_type": "stream",
     "text": [
      "[*********************100%***********************]  1 of 1 completed\n",
      "C:\\Users\\Gustavo\\AppData\\Local\\Temp\\ipykernel_4500\\3608632239.py:65: FutureWarning: YF.download() has changed argument auto_adjust default to True\n",
      "  data = yf.download(ticker, period=PERIODO_DADOS, interval=intervalo_yf)\n"
     ]
    },
    {
     "name": "stdout",
     "output_type": "stream",
     "text": [
      "  Baixando LIGT3.SA...\n"
     ]
    },
    {
     "name": "stderr",
     "output_type": "stream",
     "text": [
      "[*********************100%***********************]  1 of 1 completed\n",
      "C:\\Users\\Gustavo\\AppData\\Local\\Temp\\ipykernel_4500\\3608632239.py:65: FutureWarning: YF.download() has changed argument auto_adjust default to True\n",
      "  data = yf.download(ticker, period=PERIODO_DADOS, interval=intervalo_yf)\n"
     ]
    },
    {
     "name": "stdout",
     "output_type": "stream",
     "text": [
      "  Baixando LREN3.SA...\n"
     ]
    },
    {
     "name": "stderr",
     "output_type": "stream",
     "text": [
      "[*********************100%***********************]  1 of 1 completed\n",
      "C:\\Users\\Gustavo\\AppData\\Local\\Temp\\ipykernel_4500\\3608632239.py:65: FutureWarning: YF.download() has changed argument auto_adjust default to True\n",
      "  data = yf.download(ticker, period=PERIODO_DADOS, interval=intervalo_yf)\n"
     ]
    },
    {
     "name": "stdout",
     "output_type": "stream",
     "text": [
      "  Baixando LWSA3.SA...\n"
     ]
    },
    {
     "name": "stderr",
     "output_type": "stream",
     "text": [
      "[*********************100%***********************]  1 of 1 completed\n",
      "C:\\Users\\Gustavo\\AppData\\Local\\Temp\\ipykernel_4500\\3608632239.py:65: FutureWarning: YF.download() has changed argument auto_adjust default to True\n",
      "  data = yf.download(ticker, period=PERIODO_DADOS, interval=intervalo_yf)\n"
     ]
    },
    {
     "name": "stdout",
     "output_type": "stream",
     "text": [
      "  Baixando MBRF3.SA...\n"
     ]
    },
    {
     "name": "stderr",
     "output_type": "stream",
     "text": [
      "[*********************100%***********************]  1 of 1 completed\n",
      "C:\\Users\\Gustavo\\AppData\\Local\\Temp\\ipykernel_4500\\3608632239.py:65: FutureWarning: YF.download() has changed argument auto_adjust default to True\n",
      "  data = yf.download(ticker, period=PERIODO_DADOS, interval=intervalo_yf)\n"
     ]
    },
    {
     "name": "stdout",
     "output_type": "stream",
     "text": [
      "  Baixando MEAL3.SA...\n"
     ]
    },
    {
     "name": "stderr",
     "output_type": "stream",
     "text": [
      "[*********************100%***********************]  1 of 1 completed\n",
      "C:\\Users\\Gustavo\\AppData\\Local\\Temp\\ipykernel_4500\\3608632239.py:65: FutureWarning: YF.download() has changed argument auto_adjust default to True\n",
      "  data = yf.download(ticker, period=PERIODO_DADOS, interval=intervalo_yf)\n"
     ]
    },
    {
     "name": "stdout",
     "output_type": "stream",
     "text": [
      "  Baixando MELK3.SA...\n"
     ]
    },
    {
     "name": "stderr",
     "output_type": "stream",
     "text": [
      "[*********************100%***********************]  1 of 1 completed\n",
      "C:\\Users\\Gustavo\\AppData\\Local\\Temp\\ipykernel_4500\\3608632239.py:65: FutureWarning: YF.download() has changed argument auto_adjust default to True\n",
      "  data = yf.download(ticker, period=PERIODO_DADOS, interval=intervalo_yf)\n"
     ]
    },
    {
     "name": "stdout",
     "output_type": "stream",
     "text": [
      "  Baixando MGLU3.SA...\n"
     ]
    },
    {
     "name": "stderr",
     "output_type": "stream",
     "text": [
      "[*********************100%***********************]  1 of 1 completed\n",
      "C:\\Users\\Gustavo\\AppData\\Local\\Temp\\ipykernel_4500\\3608632239.py:65: FutureWarning: YF.download() has changed argument auto_adjust default to True\n",
      "  data = yf.download(ticker, period=PERIODO_DADOS, interval=intervalo_yf)\n"
     ]
    },
    {
     "name": "stdout",
     "output_type": "stream",
     "text": [
      "  Baixando MOTV3.SA...\n"
     ]
    },
    {
     "name": "stderr",
     "output_type": "stream",
     "text": [
      "[*********************100%***********************]  1 of 1 completed\n",
      "C:\\Users\\Gustavo\\AppData\\Local\\Temp\\ipykernel_4500\\3608632239.py:65: FutureWarning: YF.download() has changed argument auto_adjust default to True\n",
      "  data = yf.download(ticker, period=PERIODO_DADOS, interval=intervalo_yf)\n"
     ]
    },
    {
     "name": "stdout",
     "output_type": "stream",
     "text": [
      "  Baixando MRVE3.SA...\n"
     ]
    },
    {
     "name": "stderr",
     "output_type": "stream",
     "text": [
      "[*********************100%***********************]  1 of 1 completed\n",
      "C:\\Users\\Gustavo\\AppData\\Local\\Temp\\ipykernel_4500\\3608632239.py:65: FutureWarning: YF.download() has changed argument auto_adjust default to True\n",
      "  data = yf.download(ticker, period=PERIODO_DADOS, interval=intervalo_yf)\n"
     ]
    },
    {
     "name": "stdout",
     "output_type": "stream",
     "text": [
      "  Baixando MTRE3.SA...\n"
     ]
    },
    {
     "name": "stderr",
     "output_type": "stream",
     "text": [
      "[*********************100%***********************]  1 of 1 completed\n",
      "C:\\Users\\Gustavo\\AppData\\Local\\Temp\\ipykernel_4500\\3608632239.py:65: FutureWarning: YF.download() has changed argument auto_adjust default to True\n",
      "  data = yf.download(ticker, period=PERIODO_DADOS, interval=intervalo_yf)\n"
     ]
    },
    {
     "name": "stdout",
     "output_type": "stream",
     "text": [
      "  Baixando NATU3.SA...\n"
     ]
    },
    {
     "name": "stderr",
     "output_type": "stream",
     "text": [
      "[*********************100%***********************]  1 of 1 completed\n",
      "C:\\Users\\Gustavo\\AppData\\Local\\Temp\\ipykernel_4500\\3608632239.py:65: FutureWarning: YF.download() has changed argument auto_adjust default to True\n",
      "  data = yf.download(ticker, period=PERIODO_DADOS, interval=intervalo_yf)\n"
     ]
    },
    {
     "name": "stdout",
     "output_type": "stream",
     "text": [
      "  Baixando NEOE3.SA...\n"
     ]
    },
    {
     "name": "stderr",
     "output_type": "stream",
     "text": [
      "[*********************100%***********************]  1 of 1 completed\n",
      "C:\\Users\\Gustavo\\AppData\\Local\\Temp\\ipykernel_4500\\3608632239.py:65: FutureWarning: YF.download() has changed argument auto_adjust default to True\n",
      "  data = yf.download(ticker, period=PERIODO_DADOS, interval=intervalo_yf)\n"
     ]
    },
    {
     "name": "stdout",
     "output_type": "stream",
     "text": [
      "  Baixando ONCO3.SA...\n"
     ]
    },
    {
     "name": "stderr",
     "output_type": "stream",
     "text": [
      "[*********************100%***********************]  1 of 1 completed\n",
      "C:\\Users\\Gustavo\\AppData\\Local\\Temp\\ipykernel_4500\\3608632239.py:65: FutureWarning: YF.download() has changed argument auto_adjust default to True\n",
      "  data = yf.download(ticker, period=PERIODO_DADOS, interval=intervalo_yf)\n"
     ]
    },
    {
     "name": "stdout",
     "output_type": "stream",
     "text": [
      "  Baixando PCAR3.SA...\n"
     ]
    },
    {
     "name": "stderr",
     "output_type": "stream",
     "text": [
      "[*********************100%***********************]  1 of 1 completed\n",
      "C:\\Users\\Gustavo\\AppData\\Local\\Temp\\ipykernel_4500\\3608632239.py:65: FutureWarning: YF.download() has changed argument auto_adjust default to True\n",
      "  data = yf.download(ticker, period=PERIODO_DADOS, interval=intervalo_yf)\n"
     ]
    },
    {
     "name": "stdout",
     "output_type": "stream",
     "text": [
      "  Baixando PETR4.SA...\n"
     ]
    },
    {
     "name": "stderr",
     "output_type": "stream",
     "text": [
      "[*********************100%***********************]  1 of 1 completed\n",
      "C:\\Users\\Gustavo\\AppData\\Local\\Temp\\ipykernel_4500\\3608632239.py:65: FutureWarning: YF.download() has changed argument auto_adjust default to True\n",
      "  data = yf.download(ticker, period=PERIODO_DADOS, interval=intervalo_yf)\n"
     ]
    },
    {
     "name": "stdout",
     "output_type": "stream",
     "text": [
      "  Baixando PETZ3.SA...\n"
     ]
    },
    {
     "name": "stderr",
     "output_type": "stream",
     "text": [
      "[*********************100%***********************]  1 of 1 completed\n",
      "C:\\Users\\Gustavo\\AppData\\Local\\Temp\\ipykernel_4500\\3608632239.py:65: FutureWarning: YF.download() has changed argument auto_adjust default to True\n",
      "  data = yf.download(ticker, period=PERIODO_DADOS, interval=intervalo_yf)\n"
     ]
    },
    {
     "name": "stdout",
     "output_type": "stream",
     "text": [
      "  Baixando PFRM3.SA...\n"
     ]
    },
    {
     "name": "stderr",
     "output_type": "stream",
     "text": [
      "[*********************100%***********************]  1 of 1 completed\n",
      "C:\\Users\\Gustavo\\AppData\\Local\\Temp\\ipykernel_4500\\3608632239.py:65: FutureWarning: YF.download() has changed argument auto_adjust default to True\n",
      "  data = yf.download(ticker, period=PERIODO_DADOS, interval=intervalo_yf)\n"
     ]
    },
    {
     "name": "stdout",
     "output_type": "stream",
     "text": [
      "  Baixando PGMN3.SA...\n"
     ]
    },
    {
     "name": "stderr",
     "output_type": "stream",
     "text": [
      "[*********************100%***********************]  1 of 1 completed\n",
      "C:\\Users\\Gustavo\\AppData\\Local\\Temp\\ipykernel_4500\\3608632239.py:65: FutureWarning: YF.download() has changed argument auto_adjust default to True\n",
      "  data = yf.download(ticker, period=PERIODO_DADOS, interval=intervalo_yf)\n"
     ]
    },
    {
     "name": "stdout",
     "output_type": "stream",
     "text": [
      "  Baixando PRIO3.SA...\n"
     ]
    },
    {
     "name": "stderr",
     "output_type": "stream",
     "text": [
      "[*********************100%***********************]  1 of 1 completed\n",
      "C:\\Users\\Gustavo\\AppData\\Local\\Temp\\ipykernel_4500\\3608632239.py:65: FutureWarning: YF.download() has changed argument auto_adjust default to True\n",
      "  data = yf.download(ticker, period=PERIODO_DADOS, interval=intervalo_yf)\n"
     ]
    },
    {
     "name": "stdout",
     "output_type": "stream",
     "text": [
      "  Baixando PSSA3.SA...\n"
     ]
    },
    {
     "name": "stderr",
     "output_type": "stream",
     "text": [
      "[*********************100%***********************]  1 of 1 completed\n",
      "C:\\Users\\Gustavo\\AppData\\Local\\Temp\\ipykernel_4500\\3608632239.py:65: FutureWarning: YF.download() has changed argument auto_adjust default to True\n",
      "  data = yf.download(ticker, period=PERIODO_DADOS, interval=intervalo_yf)\n"
     ]
    },
    {
     "name": "stdout",
     "output_type": "stream",
     "text": [
      "  Baixando QUAL3.SA...\n"
     ]
    },
    {
     "name": "stderr",
     "output_type": "stream",
     "text": [
      "[*********************100%***********************]  1 of 1 completed\n",
      "C:\\Users\\Gustavo\\AppData\\Local\\Temp\\ipykernel_4500\\3608632239.py:65: FutureWarning: YF.download() has changed argument auto_adjust default to True\n",
      "  data = yf.download(ticker, period=PERIODO_DADOS, interval=intervalo_yf)\n"
     ]
    },
    {
     "name": "stdout",
     "output_type": "stream",
     "text": [
      "  Baixando RADL3.SA...\n"
     ]
    },
    {
     "name": "stderr",
     "output_type": "stream",
     "text": [
      "[*********************100%***********************]  1 of 1 completed\n",
      "C:\\Users\\Gustavo\\AppData\\Local\\Temp\\ipykernel_4500\\3608632239.py:65: FutureWarning: YF.download() has changed argument auto_adjust default to True\n",
      "  data = yf.download(ticker, period=PERIODO_DADOS, interval=intervalo_yf)\n"
     ]
    },
    {
     "name": "stdout",
     "output_type": "stream",
     "text": [
      "  Baixando RAIL3.SA...\n"
     ]
    },
    {
     "name": "stderr",
     "output_type": "stream",
     "text": [
      "[*********************100%***********************]  1 of 1 completed\n",
      "C:\\Users\\Gustavo\\AppData\\Local\\Temp\\ipykernel_4500\\3608632239.py:65: FutureWarning: YF.download() has changed argument auto_adjust default to True\n",
      "  data = yf.download(ticker, period=PERIODO_DADOS, interval=intervalo_yf)\n"
     ]
    },
    {
     "name": "stdout",
     "output_type": "stream",
     "text": [
      "  Baixando RAIZ4.SA...\n"
     ]
    },
    {
     "name": "stderr",
     "output_type": "stream",
     "text": [
      "[*********************100%***********************]  1 of 1 completed\n",
      "C:\\Users\\Gustavo\\AppData\\Local\\Temp\\ipykernel_4500\\3608632239.py:65: FutureWarning: YF.download() has changed argument auto_adjust default to True\n",
      "  data = yf.download(ticker, period=PERIODO_DADOS, interval=intervalo_yf)\n"
     ]
    },
    {
     "name": "stdout",
     "output_type": "stream",
     "text": [
      "  Baixando RDOR3.SA...\n"
     ]
    },
    {
     "name": "stderr",
     "output_type": "stream",
     "text": [
      "[*********************100%***********************]  1 of 1 completed\n",
      "C:\\Users\\Gustavo\\AppData\\Local\\Temp\\ipykernel_4500\\3608632239.py:65: FutureWarning: YF.download() has changed argument auto_adjust default to True\n",
      "  data = yf.download(ticker, period=PERIODO_DADOS, interval=intervalo_yf)\n"
     ]
    },
    {
     "name": "stdout",
     "output_type": "stream",
     "text": [
      "  Baixando RENT3.SA...\n"
     ]
    },
    {
     "name": "stderr",
     "output_type": "stream",
     "text": [
      "[*********************100%***********************]  1 of 1 completed\n",
      "C:\\Users\\Gustavo\\AppData\\Local\\Temp\\ipykernel_4500\\3608632239.py:65: FutureWarning: YF.download() has changed argument auto_adjust default to True\n",
      "  data = yf.download(ticker, period=PERIODO_DADOS, interval=intervalo_yf)\n"
     ]
    },
    {
     "name": "stdout",
     "output_type": "stream",
     "text": [
      "  Baixando ROMI3.SA...\n"
     ]
    },
    {
     "name": "stderr",
     "output_type": "stream",
     "text": [
      "[*********************100%***********************]  1 of 1 completed\n",
      "C:\\Users\\Gustavo\\AppData\\Local\\Temp\\ipykernel_4500\\3608632239.py:65: FutureWarning: YF.download() has changed argument auto_adjust default to True\n",
      "  data = yf.download(ticker, period=PERIODO_DADOS, interval=intervalo_yf)\n"
     ]
    },
    {
     "name": "stdout",
     "output_type": "stream",
     "text": [
      "  Baixando SANB11.SA...\n"
     ]
    },
    {
     "name": "stderr",
     "output_type": "stream",
     "text": [
      "[*********************100%***********************]  1 of 1 completed\n",
      "C:\\Users\\Gustavo\\AppData\\Local\\Temp\\ipykernel_4500\\3608632239.py:65: FutureWarning: YF.download() has changed argument auto_adjust default to True\n",
      "  data = yf.download(ticker, period=PERIODO_DADOS, interval=intervalo_yf)\n"
     ]
    },
    {
     "name": "stdout",
     "output_type": "stream",
     "text": [
      "  Baixando SBSP3.SA...\n"
     ]
    },
    {
     "name": "stderr",
     "output_type": "stream",
     "text": [
      "[*********************100%***********************]  1 of 1 completed\n",
      "C:\\Users\\Gustavo\\AppData\\Local\\Temp\\ipykernel_4500\\3608632239.py:65: FutureWarning: YF.download() has changed argument auto_adjust default to True\n",
      "  data = yf.download(ticker, period=PERIODO_DADOS, interval=intervalo_yf)\n"
     ]
    },
    {
     "name": "stdout",
     "output_type": "stream",
     "text": [
      "  Baixando SLCE3.SA...\n"
     ]
    },
    {
     "name": "stderr",
     "output_type": "stream",
     "text": [
      "[*********************100%***********************]  1 of 1 completed\n",
      "C:\\Users\\Gustavo\\AppData\\Local\\Temp\\ipykernel_4500\\3608632239.py:65: FutureWarning: YF.download() has changed argument auto_adjust default to True\n",
      "  data = yf.download(ticker, period=PERIODO_DADOS, interval=intervalo_yf)\n"
     ]
    },
    {
     "name": "stdout",
     "output_type": "stream",
     "text": [
      "  Baixando SUZB3.SA...\n"
     ]
    },
    {
     "name": "stderr",
     "output_type": "stream",
     "text": [
      "[*********************100%***********************]  1 of 1 completed\n",
      "C:\\Users\\Gustavo\\AppData\\Local\\Temp\\ipykernel_4500\\3608632239.py:65: FutureWarning: YF.download() has changed argument auto_adjust default to True\n",
      "  data = yf.download(ticker, period=PERIODO_DADOS, interval=intervalo_yf)\n"
     ]
    },
    {
     "name": "stdout",
     "output_type": "stream",
     "text": [
      "  Baixando TIMS3.SA...\n"
     ]
    },
    {
     "name": "stderr",
     "output_type": "stream",
     "text": [
      "[*********************100%***********************]  1 of 1 completed\n",
      "C:\\Users\\Gustavo\\AppData\\Local\\Temp\\ipykernel_4500\\3608632239.py:65: FutureWarning: YF.download() has changed argument auto_adjust default to True\n",
      "  data = yf.download(ticker, period=PERIODO_DADOS, interval=intervalo_yf)\n"
     ]
    },
    {
     "name": "stdout",
     "output_type": "stream",
     "text": [
      "  Baixando TOTS3.SA...\n"
     ]
    },
    {
     "name": "stderr",
     "output_type": "stream",
     "text": [
      "[*********************100%***********************]  1 of 1 completed\n",
      "C:\\Users\\Gustavo\\AppData\\Local\\Temp\\ipykernel_4500\\3608632239.py:65: FutureWarning: YF.download() has changed argument auto_adjust default to True\n",
      "  data = yf.download(ticker, period=PERIODO_DADOS, interval=intervalo_yf)\n"
     ]
    },
    {
     "name": "stdout",
     "output_type": "stream",
     "text": [
      "  Baixando TUPY3.SA...\n"
     ]
    },
    {
     "name": "stderr",
     "output_type": "stream",
     "text": [
      "[*********************100%***********************]  1 of 1 completed\n",
      "C:\\Users\\Gustavo\\AppData\\Local\\Temp\\ipykernel_4500\\3608632239.py:65: FutureWarning: YF.download() has changed argument auto_adjust default to True\n",
      "  data = yf.download(ticker, period=PERIODO_DADOS, interval=intervalo_yf)\n"
     ]
    },
    {
     "name": "stdout",
     "output_type": "stream",
     "text": [
      "  Baixando UGPA3.SA...\n"
     ]
    },
    {
     "name": "stderr",
     "output_type": "stream",
     "text": [
      "[*********************100%***********************]  1 of 1 completed\n",
      "C:\\Users\\Gustavo\\AppData\\Local\\Temp\\ipykernel_4500\\3608632239.py:65: FutureWarning: YF.download() has changed argument auto_adjust default to True\n",
      "  data = yf.download(ticker, period=PERIODO_DADOS, interval=intervalo_yf)\n"
     ]
    },
    {
     "name": "stdout",
     "output_type": "stream",
     "text": [
      "  Baixando USIM5.SA...\n"
     ]
    },
    {
     "name": "stderr",
     "output_type": "stream",
     "text": [
      "[*********************100%***********************]  1 of 1 completed\n",
      "C:\\Users\\Gustavo\\AppData\\Local\\Temp\\ipykernel_4500\\3608632239.py:65: FutureWarning: YF.download() has changed argument auto_adjust default to True\n",
      "  data = yf.download(ticker, period=PERIODO_DADOS, interval=intervalo_yf)\n"
     ]
    },
    {
     "name": "stdout",
     "output_type": "stream",
     "text": [
      "  Baixando VALE3.SA...\n"
     ]
    },
    {
     "name": "stderr",
     "output_type": "stream",
     "text": [
      "[*********************100%***********************]  1 of 1 completed\n",
      "C:\\Users\\Gustavo\\AppData\\Local\\Temp\\ipykernel_4500\\3608632239.py:65: FutureWarning: YF.download() has changed argument auto_adjust default to True\n",
      "  data = yf.download(ticker, period=PERIODO_DADOS, interval=intervalo_yf)\n"
     ]
    },
    {
     "name": "stdout",
     "output_type": "stream",
     "text": [
      "  Baixando VAMO3.SA...\n"
     ]
    },
    {
     "name": "stderr",
     "output_type": "stream",
     "text": [
      "[*********************100%***********************]  1 of 1 completed\n",
      "C:\\Users\\Gustavo\\AppData\\Local\\Temp\\ipykernel_4500\\3608632239.py:65: FutureWarning: YF.download() has changed argument auto_adjust default to True\n",
      "  data = yf.download(ticker, period=PERIODO_DADOS, interval=intervalo_yf)\n"
     ]
    },
    {
     "name": "stdout",
     "output_type": "stream",
     "text": [
      "  Baixando VBBR3.SA...\n"
     ]
    },
    {
     "name": "stderr",
     "output_type": "stream",
     "text": [
      "[*********************100%***********************]  1 of 1 completed\n",
      "C:\\Users\\Gustavo\\AppData\\Local\\Temp\\ipykernel_4500\\3608632239.py:65: FutureWarning: YF.download() has changed argument auto_adjust default to True\n",
      "  data = yf.download(ticker, period=PERIODO_DADOS, interval=intervalo_yf)\n"
     ]
    },
    {
     "name": "stdout",
     "output_type": "stream",
     "text": [
      "  Baixando VIVA3.SA...\n"
     ]
    },
    {
     "name": "stderr",
     "output_type": "stream",
     "text": [
      "[*********************100%***********************]  1 of 1 completed\n",
      "C:\\Users\\Gustavo\\AppData\\Local\\Temp\\ipykernel_4500\\3608632239.py:65: FutureWarning: YF.download() has changed argument auto_adjust default to True\n",
      "  data = yf.download(ticker, period=PERIODO_DADOS, interval=intervalo_yf)\n"
     ]
    },
    {
     "name": "stdout",
     "output_type": "stream",
     "text": [
      "  Baixando VIVT3.SA...\n"
     ]
    },
    {
     "name": "stderr",
     "output_type": "stream",
     "text": [
      "[*********************100%***********************]  1 of 1 completed\n",
      "C:\\Users\\Gustavo\\AppData\\Local\\Temp\\ipykernel_4500\\3608632239.py:65: FutureWarning: YF.download() has changed argument auto_adjust default to True\n",
      "  data = yf.download(ticker, period=PERIODO_DADOS, interval=intervalo_yf)\n"
     ]
    },
    {
     "name": "stdout",
     "output_type": "stream",
     "text": [
      "  Baixando WEGE3.SA...\n"
     ]
    },
    {
     "name": "stderr",
     "output_type": "stream",
     "text": [
      "[*********************100%***********************]  1 of 1 completed\n",
      "C:\\Users\\Gustavo\\AppData\\Local\\Temp\\ipykernel_4500\\3608632239.py:65: FutureWarning: YF.download() has changed argument auto_adjust default to True\n",
      "  data = yf.download(ticker, period=PERIODO_DADOS, interval=intervalo_yf)\n"
     ]
    },
    {
     "name": "stdout",
     "output_type": "stream",
     "text": [
      "  Baixando YDUQ3.SA...\n"
     ]
    },
    {
     "name": "stderr",
     "output_type": "stream",
     "text": [
      "[*********************100%***********************]  1 of 1 completed\n"
     ]
    },
    {
     "name": "stdout",
     "output_type": "stream",
     "text": [
      "  Salvando dados na tabela SQL: 'candles_mensais'...\n",
      "  Tabela 'candles_mensais' salva com sucesso!\n",
      "\n",
      "Processo concluído! Todos os dados foram salvos em 'dados_acoes.db'.\n",
      "Conexão com o banco de dados fechada.\n"
     ]
    }
   ],
   "source": [
    "import yfinance as yf\n",
    "import pandas as pd\n",
    "import sqlite3\n",
    "import os\n",
    "import pandas as pd\n",
    "import pandas_ta as ta\n",
    "from sqlalchemy import create_engine\n",
    "\n",
    "\n",
    "# --- 1. ÁREA DE CONFIGURAÇÃO (FÁCIL DE EDITAR) ---\n",
    "\n",
    "TICKERS = [\n",
    "    'ABEV3.SA', 'ALPK3.SA', 'AMAR3.SA', 'AMBP3.SA', 'ANIM3.SA',\n",
    "    'ASAI3.SA', 'AURE3.SA', 'AZEV3.SA', 'AZTE3.SA', 'AZUL4.SA',\n",
    "    'AZZA3.SA', 'B3SA3.SA', 'BBAS3.SA', 'BBSE3.SA', 'BEEF3.SA',\n",
    "    'BIOM3.SA', 'BLAU3.SA', 'BMGB4.SA', 'BPAC11.SA', 'BPAN4.SA',\n",
    "    'BRAP4.SA', 'BRAV3.SA', 'BRFS3.SA', 'BRKM5.SA', 'BRST3.SA',\n",
    "    'CAML3.SA', 'CASH3.SA', 'CBAV3.SA', 'CMIG4.SA', 'CMIN3.SA',\n",
    "    'COGN3.SA', 'CPLE6.SA', 'CSAN3.SA', 'CSED3.SA', 'CSNA3.SA',\n",
    "    'CVCB3.SA', 'CYRE3.SA', 'DASA3.SA', 'DXCO3.SA', 'ECOR3.SA',\n",
    "    'ELET3.SA', 'EMBR3.SA', 'ENEV3.SA', 'ENJU3.SA',\n",
    "    'EQTL3.SA', 'EVEN3.SA', 'EZTC3.SA', 'FIQE3.SA', 'FLRY3.SA',\n",
    "    'GGBR4.SA', 'GFSA3.SA', 'GMAT3.SA', 'GOAU4.SA', 'HAPV3.SA',\n",
    "    'HBOR3.SA', 'HBRE3.SA', 'HBSA3.SA', 'HYPE3.SA', 'INBR32.SA',\n",
    "    'IRBR3.SA', 'ITSA4.SA', 'ITUB4.SA', 'JHSF3.SA', 'JSLG3.SA',\n",
    "    'KLBN11.SA', 'LIGT3.SA', 'LREN3.SA', 'LWSA3.SA', 'MBRF3.SA',\n",
    "    'MEAL3.SA', 'MELK3.SA', 'MGLU3.SA', 'MOTV3.SA', 'MRVE3.SA',\n",
    "    'MTRE3.SA', 'NATU3.SA', 'NEOE3.SA', 'ONCO3.SA', 'PCAR3.SA',\n",
    "    'PETR4.SA', 'PETZ3.SA', 'PFRM3.SA', 'PGMN3.SA', 'PRIO3.SA',\n",
    "    'PSSA3.SA', 'QUAL3.SA', 'RADL3.SA', 'RAIL3.SA', 'RAIZ4.SA',\n",
    "    'RDOR3.SA', 'RENT3.SA', 'ROMI3.SA', 'SANB11.SA', 'SBSP3.SA',\n",
    "    'SLCE3.SA', 'SUZB3.SA', 'TIMS3.SA', 'TOTS3.SA',\n",
    "    'TUPY3.SA', 'UGPA3.SA', 'USIM5.SA', 'VALE3.SA', 'VAMO3.SA',\n",
    "    'VBBR3.SA', 'VIVA3.SA', 'VIVT3.SA', 'WEGE3.SA', 'YDUQ3.SA'\n",
    "]\n",
    "\n",
    "DATABASE_FILE = 'dados_acoes.db'\n",
    "PERIODO_DADOS = 'max'\n",
    "\n",
    "# --- FIM DA CONFIGURAÇÃO ---\n",
    "\n",
    "\n",
    "# 2. Dicionário dos intervalos\n",
    "intervalos = {\n",
    "    'candles_diarios': '1d',\n",
    "    'candles_semanais': '1wk',\n",
    "    'candles_mensais': '1mo'\n",
    "}\n",
    "\n",
    "# 3. Conexão com o banco de dados\n",
    "print(f\"Iniciando conexão com o banco de dados '{DATABASE_FILE}'...\")\n",
    "conn = sqlite3.connect(DATABASE_FILE)\n",
    "\n",
    "try:\n",
    "    # 4. Loop principal para baixar os dados\n",
    "    for tabela_sql, intervalo_yf in intervalos.items():\n",
    "        print(f\"\\nBuscando dados para: {tabela_sql} (Intervalo: {intervalo_yf})\")\n",
    "        \n",
    "        lista_dfs_por_ticker = []\n",
    "        \n",
    "        for ticker in TICKERS:\n",
    "            print(f\"  Baixando {ticker}...\")\n",
    "            \n",
    "            # Baixa os dados usando yfinance\n",
    "            data = yf.download(ticker, period=PERIODO_DADOS, interval=intervalo_yf)\n",
    "            \n",
    "            # --- INÍCIO DA CORREÇÃO ---\n",
    "            # Resolve o problema de MultiIndex (se houver)\n",
    "            if isinstance(data.columns, pd.MultiIndex):\n",
    "                data.columns = data.columns.get_level_values(0)\n",
    "            # --- FIM DA CORREÇÃO ---\n",
    "            \n",
    "            if data.empty:\n",
    "                print(f\"  Sem dados para {ticker} no intervalo {intervalo_yf}.\")\n",
    "                continue\n",
    "                \n",
    "            # Adiciona o nome do ticker como uma coluna\n",
    "            data['Ticker'] = ticker\n",
    "            \n",
    "            # Transforma o índice (Date) em uma coluna\n",
    "            data.reset_index(inplace=True)\n",
    "            \n",
    "            # Renomeia a coluna de data para ser mais clara\n",
    "            if 'Date' in data.columns:\n",
    "                data.rename(columns={'Date': 'Datetime'}, inplace=True)\n",
    "            \n",
    "            lista_dfs_por_ticker.append(data)\n",
    "            \n",
    "        # 5. Combina todos os dataframes\n",
    "        if not lista_dfs_por_ticker:\n",
    "            print(f\"Nenhum dado baixado para o intervalo {intervalo_yf}.\")\n",
    "            continue\n",
    "            \n",
    "        df_completo = pd.concat(lista_dfs_por_ticker, ignore_index=True)\n",
    "        \n",
    "        # 6. Limpa e padroniza os nomes das colunas para SQL\n",
    "        # Esta linha agora vai funcionar!\n",
    "        df_completo.columns = df_completo.columns.str.lower().str.replace(' ', '_')\n",
    "        \n",
    "        # 7. Salva o dataframe combinado na tabela SQL\n",
    "        print(f\"  Salvando dados na tabela SQL: '{tabela_sql}'...\")\n",
    "        df_completo.to_sql(\n",
    "            tabela_sql, \n",
    "            conn, \n",
    "            if_exists='replace',\n",
    "            index=False\n",
    "        )\n",
    "        \n",
    "        print(f\"  Tabela '{tabela_sql}' salva com sucesso!\")\n",
    "\n",
    "    print(f\"\\nProcesso concluído! Todos os dados foram salvos em '{DATABASE_FILE}'.\")\n",
    "\n",
    "except Exception as e:\n",
    "    print(f\"\\nOcorreu um erro: {e}\")\n",
    "\n",
    "finally:\n",
    "    # 8. Fecha a conexão com o banco de dados\n",
    "    conn.close()\n",
    "    print(\"Conexão com o banco de dados fechada.\")"
   ]
  },
  {
   "cell_type": "code",
   "execution_count": 7,
   "id": "eca143cd",
   "metadata": {},
   "outputs": [
    {
     "name": "stdout",
     "output_type": "stream",
     "text": [
      "Tabelas carregadas com sucesso do banco de dados!\n",
      "Total de registros 'candles_diarios': 411037\n",
      "Total de registros 'candles_semanais': 85971\n",
      "Total de registros 'candles_mensais': 19802\n",
      "DataFrames processados (clones) foram criados após renomeação.\n",
      "\n",
      "--- Verificação ---\n",
      "Colunas Originais (ex: diarios): ['datetime', 'close', 'high', 'low', 'open', 'volume', 'ticker']\n",
      "Colunas Processadas (ex: diarios_proc): ['datetime', 'close', 'high', 'low', 'open', 'volume', 'ticker']\n"
     ]
    }
   ],
   "source": [
    "# Define o nome do arquivo do banco de dados\n",
    "db_file = \"dados_acoes.db\"\n",
    "\n",
    "# Cria a \"engine\" de conexão do SQLAlchemy\n",
    "# O prefixo 'sqlite:///' informa que é um arquivo SQLite\n",
    "engine = create_engine(f'sqlite:///{db_file}')\n",
    "\n",
    "try:\n",
    "    # Carrega cada tabela em um DataFrame do Pandas\n",
    "    # O Pandas usará a 'engine' para ler os dados\n",
    "    candles_diarios = pd.read_sql(\"candles_diarios\", engine)\n",
    "    candles_semanais = pd.read_sql(\"candles_semanais\", engine)\n",
    "    candles_mensais = pd.read_sql(\"candles_mensais\", engine)\n",
    "\n",
    "    print(\"Tabelas carregadas com sucesso do banco de dados!\")\n",
    "    print(f\"Total de registros 'candles_diarios': {len(candles_diarios)}\")\n",
    "    print(f\"Total de registros 'candles_semanais': {len(candles_semanais)}\")\n",
    "    print(f\"Total de registros 'candles_mensais': {len(candles_mensais)}\")\n",
    "\n",
    "except Exception as e:\n",
    "    print(f\"Erro ao ler o banco de dados: {e}\")\n",
    "    print(\"Verifique se o arquivo 'dados_acoes.db' está na mesma pasta do seu Jupyter Notebook.\")\n",
    "\n",
    "\n",
    "# --- AJUSTE ESTE MAPA CUIDADOSAMENTE ---\n",
    "mapa_colunas = {\n",
    "    'Data': 'datetime',      \n",
    "    'Abertura': 'open',  \n",
    "    'Maxima': 'high',    \n",
    "    'Minima': 'low',     \n",
    "    'Fechamento': 'close', \n",
    "    'Volume': 'volume'   \n",
    "}\n",
    "\n",
    "try:\n",
    "    # Renomeia colunas, criando NOVOS dataframes \"processados\"\n",
    "    diarios_proc = candles_diarios.rename(columns=mapa_colunas)\n",
    "    semanais_proc = candles_semanais.rename(columns=mapa_colunas)\n",
    "    mensais_proc = candles_mensais.rename(columns=mapa_colunas)\n",
    "\n",
    "    print(\"DataFrames processados (clones) foram criados após renomeação.\")\n",
    "    \n",
    "    # Ordena os dataframes processados (isso também cria cópias)\n",
    "    if 'date' in diarios_proc.columns:\n",
    "        diarios_proc = diarios_proc.sort_values(by='date')\n",
    "        semanais_proc = semanais_proc.sort_values(by='date')\n",
    "        mensais_proc = mensais_proc.sort_values(by='date')\n",
    "        print(\"DataFrames processados foram ordenados por data.\")\n",
    "\n",
    "    print(\"\\n--- Verificação ---\")\n",
    "    print(f\"Colunas Originais (ex: diarios): {candles_diarios.columns.to_list()}\")\n",
    "    print(f\"Colunas Processadas (ex: diarios_proc): {diarios_proc.columns.to_list()}\")\n",
    "\n",
    "except Exception as e:\n",
    "    print(f\"Erro ao renomear colunas: {e}\")\n",
    "    print(\"Verifique se os nomes no 'mapa_colunas' (lado esquerdo) estão corretos.\")"
   ]
  },
  {
   "cell_type": "code",
   "execution_count": 8,
   "id": "4276f314",
   "metadata": {},
   "outputs": [
    {
     "name": "stdout",
     "output_type": "stream",
     "text": [
      "Função 'calcular_indicadores_tecnicos' definida.\n"
     ]
    }
   ],
   "source": [
    "def calcular_indicadores_tecnicos(df_original):\n",
    "    \"\"\"\n",
    "    Calcula um conjunto de indicadores técnicos usando pandas_ta \n",
    "    e os anexa a uma cópia do DataFrame.\n",
    "    \"\"\"\n",
    "    # Cria uma cópia para não alterar o DataFrame de entrada\n",
    "    df = df_original.copy()\n",
    "    \n",
    "    # 1. Média Móvel Exponencial (EMA) de 9 períodos\n",
    "    df.ta.ema(length=9, append=True)\n",
    "    \n",
    "    # 2. Média Móvel Simples (SMA) de 21 períodos\n",
    "    df.ta.sma(length=21, append=True)\n",
    "    \n",
    "    # 3. Média Móvel Simples (SMA) de 50 períodos\n",
    "    df.ta.sma(length=50, append=True)\n",
    "    \n",
    "    # 4. Média Móvel Simples (SMA) de 200 períodos\n",
    "    df.ta.sma(length=200, append=True)\n",
    "    \n",
    "    # 5. RSI (Índice de Força Relativa)\n",
    "    df.ta.rsi(length=14, append=True)\n",
    "    \n",
    "    # 6. MACD\n",
    "    df.ta.macd(append=True)\n",
    "    \n",
    "    # 7. Bandas de Bollinger (BBANDS)\n",
    "    df.ta.bbands(length=20, append=True)\n",
    "    \n",
    "    # 8. Oscilador Estocástico (STOCH)\n",
    "    df.ta.stoch(append=True)\n",
    "    \n",
    "    # 9. OBV (On-Balance Volume)\n",
    "    df.ta.obv(append=True)\n",
    "    \n",
    "    # 10. ATR (Average True Range)\n",
    "    df.ta.atr(length=14, append=True)\n",
    "    \n",
    "    # 11. ADX (Average Directional Index)\n",
    "    df.ta.adx(length=14, append=True)\n",
    "    \n",
    "    return df\n",
    "\n",
    "print(\"Função 'calcular_indicadores_tecnicos' definida.\")"
   ]
  },
  {
   "cell_type": "code",
   "execution_count": 9,
   "id": "cecdbc2b",
   "metadata": {},
   "outputs": [
    {
     "name": "stdout",
     "output_type": "stream",
     "text": [
      "Indicadores calculados para os 3 DataFrames (em clones separados).\n",
      "DataFrame diário salvo na tabela: 'diario_com_indicadores'\n",
      "DataFrame semanal salvo na tabela: 'semanal_com_indicadores'\n",
      "DataFrame mensal salvo na tabela: 'mensal_com_indicadores'\n",
      "\n",
      "Sucesso! Os dados calculados foram salvos em novas tabelas no arquivo 'dados_acoes.db'.\n"
     ]
    }
   ],
   "source": [
    "# Verifica se os DataFrames processados existem antes de calcular\n",
    "if 'diarios_proc' in locals():\n",
    "    # Os DataFrames com os cálculos finais\n",
    "    df_diario_calculado = calcular_indicadores_tecnicos(diarios_proc)\n",
    "    df_semanal_calculado = calcular_indicadores_tecnicos(semanais_proc)\n",
    "    df_mensal_calculado = calcular_indicadores_tecnicos(mensais_proc)\n",
    "\n",
    "    print(\"Indicadores calculados para os 3 DataFrames (em clones separados).\")\n",
    "else:\n",
    "    print(\"Os DataFrames processados ('diarios_proc', etc.) não foram criados. Verifique a Célula 4.\")\n",
    "\n",
    "try:\n",
    "    if 'df_diario_calculado' in locals():\n",
    "        # Define os nomes das novas tabelas\n",
    "        tabela_diario_final = \"diario_com_indicadores\"\n",
    "        tabela_semanal_final = \"semanal_com_indicadores\"\n",
    "        tabela_mensal_final = \"mensal_com_indicadores\"\n",
    "\n",
    "        # Salva os DataFrames no banco de dados\n",
    "        # if_exists='replace': Substitui a tabela se ela já existir de uma execução anterior\n",
    "        # index=False: Não salva o índice do Pandas como uma coluna no DB\n",
    "        \n",
    "        df_diario_calculado.to_sql(tabela_diario_final, con=engine, if_exists='replace', index=False)\n",
    "        print(f\"DataFrame diário salvo na tabela: '{tabela_diario_final}'\")\n",
    "        \n",
    "        df_semanal_calculado.to_sql(tabela_semanal_final, con=engine, if_exists='replace', index=False)\n",
    "        print(f\"DataFrame semanal salvo na tabela: '{tabela_semanal_final}'\")\n",
    "        \n",
    "        df_mensal_calculado.to_sql(tabela_mensal_final, con=engine, if_exists='replace', index=False)\n",
    "        print(f\"DataFrame mensal salvo na tabela: '{tabela_mensal_final}'\")\n",
    "        \n",
    "        print(\"\\nSucesso! Os dados calculados foram salvos em novas tabelas no arquivo 'dados_acoes.db'.\")\n",
    "        \n",
    "    else:\n",
    "        print(\"Os DataFrames calculados não foram encontrados. Pulei a etapa de salvar.\")\n",
    "        \n",
    "except Exception as e:\n",
    "    print(f\"Erro ao salvar os dados no banco de dados: {e}\")"
   ]
  },
  {
   "cell_type": "code",
   "execution_count": null,
   "id": "ef065a23",
   "metadata": {},
   "outputs": [],
   "source": []
  }
 ],
 "metadata": {
  "kernelspec": {
   "display_name": "Python 3",
   "language": "python",
   "name": "python3"
  },
  "language_info": {
   "codemirror_mode": {
    "name": "ipython",
    "version": 3
   },
   "file_extension": ".py",
   "mimetype": "text/x-python",
   "name": "python",
   "nbconvert_exporter": "python",
   "pygments_lexer": "ipython3",
   "version": "3.13.9"
  }
 },
 "nbformat": 4,
 "nbformat_minor": 5
}
