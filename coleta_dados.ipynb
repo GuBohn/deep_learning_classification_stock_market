{
 "cells": [
  {
   "cell_type": "code",
   "execution_count": 1,
   "id": "841cf9d2",
   "metadata": {},
   "outputs": [
    {
     "name": "stdout",
     "output_type": "stream",
     "text": [
      "Iniciando conexão com o banco de dados 'dados_acoes.db'...\n",
      "\n",
      "Buscando dados para: candles_diarios (Intervalo: 1d)\n",
      "  Baixando PETR4.SA...\n"
     ]
    },
    {
     "name": "stderr",
     "output_type": "stream",
     "text": [
      "C:\\Users\\Gustavo\\AppData\\Local\\Temp\\ipykernel_20712\\2292063328.py:53: FutureWarning: YF.download() has changed argument auto_adjust default to True\n",
      "  data = yf.download(ticker, period=PERIODO_DADOS, interval=intervalo_yf)\n",
      "[*********************100%***********************]  1 of 1 completed\n",
      "C:\\Users\\Gustavo\\AppData\\Local\\Temp\\ipykernel_20712\\2292063328.py:53: FutureWarning: YF.download() has changed argument auto_adjust default to True\n",
      "  data = yf.download(ticker, period=PERIODO_DADOS, interval=intervalo_yf)\n"
     ]
    },
    {
     "name": "stdout",
     "output_type": "stream",
     "text": [
      "  Baixando VALE3.SA...\n"
     ]
    },
    {
     "name": "stderr",
     "output_type": "stream",
     "text": [
      "[*********************100%***********************]  1 of 1 completed\n",
      "C:\\Users\\Gustavo\\AppData\\Local\\Temp\\ipykernel_20712\\2292063328.py:53: FutureWarning: YF.download() has changed argument auto_adjust default to True\n",
      "  data = yf.download(ticker, period=PERIODO_DADOS, interval=intervalo_yf)\n"
     ]
    },
    {
     "name": "stdout",
     "output_type": "stream",
     "text": [
      "  Baixando ITUB4.SA...\n"
     ]
    },
    {
     "name": "stderr",
     "output_type": "stream",
     "text": [
      "[*********************100%***********************]  1 of 1 completed\n",
      "C:\\Users\\Gustavo\\AppData\\Local\\Temp\\ipykernel_20712\\2292063328.py:53: FutureWarning: YF.download() has changed argument auto_adjust default to True\n",
      "  data = yf.download(ticker, period=PERIODO_DADOS, interval=intervalo_yf)\n"
     ]
    },
    {
     "name": "stdout",
     "output_type": "stream",
     "text": [
      "  Baixando BBAS3.SA...\n"
     ]
    },
    {
     "name": "stderr",
     "output_type": "stream",
     "text": [
      "[*********************100%***********************]  1 of 1 completed\n",
      "C:\\Users\\Gustavo\\AppData\\Local\\Temp\\ipykernel_20712\\2292063328.py:53: FutureWarning: YF.download() has changed argument auto_adjust default to True\n",
      "  data = yf.download(ticker, period=PERIODO_DADOS, interval=intervalo_yf)\n"
     ]
    },
    {
     "name": "stdout",
     "output_type": "stream",
     "text": [
      "  Baixando BBDC4.SA...\n"
     ]
    },
    {
     "name": "stderr",
     "output_type": "stream",
     "text": [
      "[*********************100%***********************]  1 of 1 completed\n",
      "C:\\Users\\Gustavo\\AppData\\Local\\Temp\\ipykernel_20712\\2292063328.py:53: FutureWarning: YF.download() has changed argument auto_adjust default to True\n",
      "  data = yf.download(ticker, period=PERIODO_DADOS, interval=intervalo_yf)\n"
     ]
    },
    {
     "name": "stdout",
     "output_type": "stream",
     "text": [
      "  Baixando ABEV3.SA...\n"
     ]
    },
    {
     "name": "stderr",
     "output_type": "stream",
     "text": [
      "[*********************100%***********************]  1 of 1 completed\n",
      "C:\\Users\\Gustavo\\AppData\\Local\\Temp\\ipykernel_20712\\2292063328.py:53: FutureWarning: YF.download() has changed argument auto_adjust default to True\n",
      "  data = yf.download(ticker, period=PERIODO_DADOS, interval=intervalo_yf)\n"
     ]
    },
    {
     "name": "stdout",
     "output_type": "stream",
     "text": [
      "  Baixando B3SA3.SA...\n"
     ]
    },
    {
     "name": "stderr",
     "output_type": "stream",
     "text": [
      "[*********************100%***********************]  1 of 1 completed\n",
      "C:\\Users\\Gustavo\\AppData\\Local\\Temp\\ipykernel_20712\\2292063328.py:53: FutureWarning: YF.download() has changed argument auto_adjust default to True\n",
      "  data = yf.download(ticker, period=PERIODO_DADOS, interval=intervalo_yf)\n"
     ]
    },
    {
     "name": "stdout",
     "output_type": "stream",
     "text": [
      "  Baixando ELET3.SA...\n"
     ]
    },
    {
     "name": "stderr",
     "output_type": "stream",
     "text": [
      "[*********************100%***********************]  1 of 1 completed\n",
      "C:\\Users\\Gustavo\\AppData\\Local\\Temp\\ipykernel_20712\\2292063328.py:53: FutureWarning: YF.download() has changed argument auto_adjust default to True\n",
      "  data = yf.download(ticker, period=PERIODO_DADOS, interval=intervalo_yf)\n"
     ]
    },
    {
     "name": "stdout",
     "output_type": "stream",
     "text": [
      "  Baixando WEGE3.SA...\n"
     ]
    },
    {
     "name": "stderr",
     "output_type": "stream",
     "text": [
      "[*********************100%***********************]  1 of 1 completed\n",
      "C:\\Users\\Gustavo\\AppData\\Local\\Temp\\ipykernel_20712\\2292063328.py:53: FutureWarning: YF.download() has changed argument auto_adjust default to True\n",
      "  data = yf.download(ticker, period=PERIODO_DADOS, interval=intervalo_yf)\n"
     ]
    },
    {
     "name": "stdout",
     "output_type": "stream",
     "text": [
      "  Baixando RENT3.SA...\n"
     ]
    },
    {
     "name": "stderr",
     "output_type": "stream",
     "text": [
      "[*********************100%***********************]  1 of 1 completed\n",
      "C:\\Users\\Gustavo\\AppData\\Local\\Temp\\ipykernel_20712\\2292063328.py:53: FutureWarning: YF.download() has changed argument auto_adjust default to True\n",
      "  data = yf.download(ticker, period=PERIODO_DADOS, interval=intervalo_yf)\n"
     ]
    },
    {
     "name": "stdout",
     "output_type": "stream",
     "text": [
      "  Baixando BPAC11.SA...\n"
     ]
    },
    {
     "name": "stderr",
     "output_type": "stream",
     "text": [
      "[*********************100%***********************]  1 of 1 completed\n",
      "C:\\Users\\Gustavo\\AppData\\Local\\Temp\\ipykernel_20712\\2292063328.py:53: FutureWarning: YF.download() has changed argument auto_adjust default to True\n",
      "  data = yf.download(ticker, period=PERIODO_DADOS, interval=intervalo_yf)\n"
     ]
    },
    {
     "name": "stdout",
     "output_type": "stream",
     "text": [
      "  Baixando RADL3.SA...\n"
     ]
    },
    {
     "name": "stderr",
     "output_type": "stream",
     "text": [
      "[*********************100%***********************]  1 of 1 completed\n",
      "C:\\Users\\Gustavo\\AppData\\Local\\Temp\\ipykernel_20712\\2292063328.py:53: FutureWarning: YF.download() has changed argument auto_adjust default to True\n",
      "  data = yf.download(ticker, period=PERIODO_DADOS, interval=intervalo_yf)\n"
     ]
    },
    {
     "name": "stdout",
     "output_type": "stream",
     "text": [
      "  Baixando ITSA4.SA...\n"
     ]
    },
    {
     "name": "stderr",
     "output_type": "stream",
     "text": [
      "[*********************100%***********************]  1 of 1 completed\n",
      "C:\\Users\\Gustavo\\AppData\\Local\\Temp\\ipykernel_20712\\2292063328.py:53: FutureWarning: YF.download() has changed argument auto_adjust default to True\n",
      "  data = yf.download(ticker, period=PERIODO_DADOS, interval=intervalo_yf)\n"
     ]
    },
    {
     "name": "stdout",
     "output_type": "stream",
     "text": [
      "  Baixando PRIO3.SA...\n"
     ]
    },
    {
     "name": "stderr",
     "output_type": "stream",
     "text": [
      "[*********************100%***********************]  1 of 1 completed\n",
      "C:\\Users\\Gustavo\\AppData\\Local\\Temp\\ipykernel_20712\\2292063328.py:53: FutureWarning: YF.download() has changed argument auto_adjust default to True\n",
      "  data = yf.download(ticker, period=PERIODO_DADOS, interval=intervalo_yf)\n"
     ]
    },
    {
     "name": "stdout",
     "output_type": "stream",
     "text": [
      "  Baixando MGLU3.SA...\n"
     ]
    },
    {
     "name": "stderr",
     "output_type": "stream",
     "text": [
      "[*********************100%***********************]  1 of 1 completed\n",
      "C:\\Users\\Gustavo\\AppData\\Local\\Temp\\ipykernel_20712\\2292063328.py:53: FutureWarning: YF.download() has changed argument auto_adjust default to True\n",
      "  data = yf.download(ticker, period=PERIODO_DADOS, interval=intervalo_yf)\n"
     ]
    },
    {
     "name": "stdout",
     "output_type": "stream",
     "text": [
      "  Baixando UGPA3.SA...\n"
     ]
    },
    {
     "name": "stderr",
     "output_type": "stream",
     "text": [
      "[*********************100%***********************]  1 of 1 completed\n",
      "C:\\Users\\Gustavo\\AppData\\Local\\Temp\\ipykernel_20712\\2292063328.py:53: FutureWarning: YF.download() has changed argument auto_adjust default to True\n",
      "  data = yf.download(ticker, period=PERIODO_DADOS, interval=intervalo_yf)\n"
     ]
    },
    {
     "name": "stdout",
     "output_type": "stream",
     "text": [
      "  Baixando GGBR4.SA...\n"
     ]
    },
    {
     "name": "stderr",
     "output_type": "stream",
     "text": [
      "[*********************100%***********************]  1 of 1 completed\n",
      "C:\\Users\\Gustavo\\AppData\\Local\\Temp\\ipykernel_20712\\2292063328.py:53: FutureWarning: YF.download() has changed argument auto_adjust default to True\n",
      "  data = yf.download(ticker, period=PERIODO_DADOS, interval=intervalo_yf)\n"
     ]
    },
    {
     "name": "stdout",
     "output_type": "stream",
     "text": [
      "  Baixando ASAI3.SA...\n"
     ]
    },
    {
     "name": "stderr",
     "output_type": "stream",
     "text": [
      "[*********************100%***********************]  1 of 1 completed\n",
      "C:\\Users\\Gustavo\\AppData\\Local\\Temp\\ipykernel_20712\\2292063328.py:53: FutureWarning: YF.download() has changed argument auto_adjust default to True\n",
      "  data = yf.download(ticker, period=PERIODO_DADOS, interval=intervalo_yf)\n"
     ]
    },
    {
     "name": "stdout",
     "output_type": "stream",
     "text": [
      "  Baixando SUZB3.SA...\n"
     ]
    },
    {
     "name": "stderr",
     "output_type": "stream",
     "text": [
      "[*********************100%***********************]  1 of 1 completed\n",
      "C:\\Users\\Gustavo\\AppData\\Local\\Temp\\ipykernel_20712\\2292063328.py:53: FutureWarning: YF.download() has changed argument auto_adjust default to True\n",
      "  data = yf.download(ticker, period=PERIODO_DADOS, interval=intervalo_yf)\n"
     ]
    },
    {
     "name": "stdout",
     "output_type": "stream",
     "text": [
      "  Baixando VBBR3.SA...\n"
     ]
    },
    {
     "name": "stderr",
     "output_type": "stream",
     "text": [
      "[*********************100%***********************]  1 of 1 completed\n",
      "C:\\Users\\Gustavo\\AppData\\Local\\Temp\\ipykernel_20712\\2292063328.py:53: FutureWarning: YF.download() has changed argument auto_adjust default to True\n",
      "  data = yf.download(ticker, period=PERIODO_DADOS, interval=intervalo_yf)\n"
     ]
    },
    {
     "name": "stdout",
     "output_type": "stream",
     "text": [
      "  Baixando CPLE6.SA...\n"
     ]
    },
    {
     "name": "stderr",
     "output_type": "stream",
     "text": [
      "[*********************100%***********************]  1 of 1 completed\n",
      "C:\\Users\\Gustavo\\AppData\\Local\\Temp\\ipykernel_20712\\2292063328.py:53: FutureWarning: YF.download() has changed argument auto_adjust default to True\n",
      "  data = yf.download(ticker, period=PERIODO_DADOS, interval=intervalo_yf)\n"
     ]
    },
    {
     "name": "stdout",
     "output_type": "stream",
     "text": [
      "  Baixando LREN3.SA...\n"
     ]
    },
    {
     "name": "stderr",
     "output_type": "stream",
     "text": [
      "[*********************100%***********************]  1 of 1 completed\n",
      "C:\\Users\\Gustavo\\AppData\\Local\\Temp\\ipykernel_20712\\2292063328.py:53: FutureWarning: YF.download() has changed argument auto_adjust default to True\n",
      "  data = yf.download(ticker, period=PERIODO_DADOS, interval=intervalo_yf)\n"
     ]
    },
    {
     "name": "stdout",
     "output_type": "stream",
     "text": [
      "  Baixando KLBN11.SA...\n"
     ]
    },
    {
     "name": "stderr",
     "output_type": "stream",
     "text": [
      "[*********************100%***********************]  1 of 1 completed\n",
      "C:\\Users\\Gustavo\\AppData\\Local\\Temp\\ipykernel_20712\\2292063328.py:53: FutureWarning: YF.download() has changed argument auto_adjust default to True\n",
      "  data = yf.download(ticker, period=PERIODO_DADOS, interval=intervalo_yf)\n"
     ]
    },
    {
     "name": "stdout",
     "output_type": "stream",
     "text": [
      "  Baixando RAIL3.SA...\n"
     ]
    },
    {
     "name": "stderr",
     "output_type": "stream",
     "text": [
      "[*********************100%***********************]  1 of 1 completed\n",
      "C:\\Users\\Gustavo\\AppData\\Local\\Temp\\ipykernel_20712\\2292063328.py:53: FutureWarning: YF.download() has changed argument auto_adjust default to True\n",
      "  data = yf.download(ticker, period=PERIODO_DADOS, interval=intervalo_yf)\n"
     ]
    },
    {
     "name": "stdout",
     "output_type": "stream",
     "text": [
      "  Baixando BBSE3.SA...\n"
     ]
    },
    {
     "name": "stderr",
     "output_type": "stream",
     "text": [
      "[*********************100%***********************]  1 of 1 completed\n",
      "C:\\Users\\Gustavo\\AppData\\Local\\Temp\\ipykernel_20712\\2292063328.py:53: FutureWarning: YF.download() has changed argument auto_adjust default to True\n",
      "  data = yf.download(ticker, period=PERIODO_DADOS, interval=intervalo_yf)\n"
     ]
    },
    {
     "name": "stdout",
     "output_type": "stream",
     "text": [
      "  Baixando EQTL3.SA...\n"
     ]
    },
    {
     "name": "stderr",
     "output_type": "stream",
     "text": [
      "[*********************100%***********************]  1 of 1 completed\n",
      "C:\\Users\\Gustavo\\AppData\\Local\\Temp\\ipykernel_20712\\2292063328.py:53: FutureWarning: YF.download() has changed argument auto_adjust default to True\n",
      "  data = yf.download(ticker, period=PERIODO_DADOS, interval=intervalo_yf)\n"
     ]
    },
    {
     "name": "stdout",
     "output_type": "stream",
     "text": [
      "  Baixando CMIG4.SA...\n"
     ]
    },
    {
     "name": "stderr",
     "output_type": "stream",
     "text": [
      "[*********************100%***********************]  1 of 1 completed\n",
      "C:\\Users\\Gustavo\\AppData\\Local\\Temp\\ipykernel_20712\\2292063328.py:53: FutureWarning: YF.download() has changed argument auto_adjust default to True\n",
      "  data = yf.download(ticker, period=PERIODO_DADOS, interval=intervalo_yf)\n"
     ]
    },
    {
     "name": "stdout",
     "output_type": "stream",
     "text": [
      "  Baixando RDOR3.SA...\n"
     ]
    },
    {
     "name": "stderr",
     "output_type": "stream",
     "text": [
      "[*********************100%***********************]  1 of 1 completed\n",
      "C:\\Users\\Gustavo\\AppData\\Local\\Temp\\ipykernel_20712\\2292063328.py:53: FutureWarning: YF.download() has changed argument auto_adjust default to True\n",
      "  data = yf.download(ticker, period=PERIODO_DADOS, interval=intervalo_yf)\n"
     ]
    },
    {
     "name": "stdout",
     "output_type": "stream",
     "text": [
      "  Baixando EMBR3.SA...\n"
     ]
    },
    {
     "name": "stderr",
     "output_type": "stream",
     "text": [
      "[*********************100%***********************]  1 of 1 completed\n",
      "C:\\Users\\Gustavo\\AppData\\Local\\Temp\\ipykernel_20712\\2292063328.py:53: FutureWarning: YF.download() has changed argument auto_adjust default to True\n",
      "  data = yf.download(ticker, period=PERIODO_DADOS, interval=intervalo_yf)\n"
     ]
    },
    {
     "name": "stdout",
     "output_type": "stream",
     "text": [
      "  Baixando SBSP3.SA...\n"
     ]
    },
    {
     "name": "stderr",
     "output_type": "stream",
     "text": [
      "[*********************100%***********************]  1 of 1 completed\n",
      "C:\\Users\\Gustavo\\AppData\\Local\\Temp\\ipykernel_20712\\2292063328.py:53: FutureWarning: YF.download() has changed argument auto_adjust default to True\n",
      "  data = yf.download(ticker, period=PERIODO_DADOS, interval=intervalo_yf)\n"
     ]
    },
    {
     "name": "stdout",
     "output_type": "stream",
     "text": [
      "  Baixando VAMO3.SA...\n"
     ]
    },
    {
     "name": "stderr",
     "output_type": "stream",
     "text": [
      "[*********************100%***********************]  1 of 1 completed\n",
      "C:\\Users\\Gustavo\\AppData\\Local\\Temp\\ipykernel_20712\\2292063328.py:53: FutureWarning: YF.download() has changed argument auto_adjust default to True\n",
      "  data = yf.download(ticker, period=PERIODO_DADOS, interval=intervalo_yf)\n"
     ]
    },
    {
     "name": "stdout",
     "output_type": "stream",
     "text": [
      "  Baixando BEEF3.SA...\n"
     ]
    },
    {
     "name": "stderr",
     "output_type": "stream",
     "text": [
      "[*********************100%***********************]  1 of 1 completed\n",
      "C:\\Users\\Gustavo\\AppData\\Local\\Temp\\ipykernel_20712\\2292063328.py:53: FutureWarning: YF.download() has changed argument auto_adjust default to True\n",
      "  data = yf.download(ticker, period=PERIODO_DADOS, interval=intervalo_yf)\n"
     ]
    },
    {
     "name": "stdout",
     "output_type": "stream",
     "text": [
      "  Baixando CSAN3.SA...\n"
     ]
    },
    {
     "name": "stderr",
     "output_type": "stream",
     "text": [
      "[*********************100%***********************]  1 of 1 completed\n",
      "C:\\Users\\Gustavo\\AppData\\Local\\Temp\\ipykernel_20712\\2292063328.py:53: FutureWarning: YF.download() has changed argument auto_adjust default to True\n",
      "  data = yf.download(ticker, period=PERIODO_DADOS, interval=intervalo_yf)\n"
     ]
    },
    {
     "name": "stdout",
     "output_type": "stream",
     "text": [
      "  Baixando COGN3.SA...\n"
     ]
    },
    {
     "name": "stderr",
     "output_type": "stream",
     "text": [
      "[*********************100%***********************]  1 of 1 completed\n",
      "C:\\Users\\Gustavo\\AppData\\Local\\Temp\\ipykernel_20712\\2292063328.py:53: FutureWarning: YF.download() has changed argument auto_adjust default to True\n",
      "  data = yf.download(ticker, period=PERIODO_DADOS, interval=intervalo_yf)\n"
     ]
    },
    {
     "name": "stdout",
     "output_type": "stream",
     "text": [
      "  Baixando TOTS3.SA...\n"
     ]
    },
    {
     "name": "stderr",
     "output_type": "stream",
     "text": [
      "[*********************100%***********************]  1 of 1 completed\n",
      "C:\\Users\\Gustavo\\AppData\\Local\\Temp\\ipykernel_20712\\2292063328.py:53: FutureWarning: YF.download() has changed argument auto_adjust default to True\n",
      "  data = yf.download(ticker, period=PERIODO_DADOS, interval=intervalo_yf)\n"
     ]
    },
    {
     "name": "stdout",
     "output_type": "stream",
     "text": [
      "  Baixando TIMS3.SA...\n"
     ]
    },
    {
     "name": "stderr",
     "output_type": "stream",
     "text": [
      "[*********************100%***********************]  1 of 1 completed\n",
      "C:\\Users\\Gustavo\\AppData\\Local\\Temp\\ipykernel_20712\\2292063328.py:53: FutureWarning: YF.download() has changed argument auto_adjust default to True\n",
      "  data = yf.download(ticker, period=PERIODO_DADOS, interval=intervalo_yf)\n"
     ]
    },
    {
     "name": "stdout",
     "output_type": "stream",
     "text": [
      "  Baixando FLRY3.SA...\n"
     ]
    },
    {
     "name": "stderr",
     "output_type": "stream",
     "text": [
      "[*********************100%***********************]  1 of 1 completed\n",
      "C:\\Users\\Gustavo\\AppData\\Local\\Temp\\ipykernel_20712\\2292063328.py:53: FutureWarning: YF.download() has changed argument auto_adjust default to True\n",
      "  data = yf.download(ticker, period=PERIODO_DADOS, interval=intervalo_yf)\n"
     ]
    },
    {
     "name": "stdout",
     "output_type": "stream",
     "text": [
      "  Baixando PETR3.SA...\n"
     ]
    },
    {
     "name": "stderr",
     "output_type": "stream",
     "text": [
      "[*********************100%***********************]  1 of 1 completed\n",
      "C:\\Users\\Gustavo\\AppData\\Local\\Temp\\ipykernel_20712\\2292063328.py:53: FutureWarning: YF.download() has changed argument auto_adjust default to True\n",
      "  data = yf.download(ticker, period=PERIODO_DADOS, interval=intervalo_yf)\n"
     ]
    },
    {
     "name": "stdout",
     "output_type": "stream",
     "text": [
      "  Baixando USIM5.SA...\n"
     ]
    },
    {
     "name": "stderr",
     "output_type": "stream",
     "text": [
      "[*********************100%***********************]  1 of 1 completed\n",
      "C:\\Users\\Gustavo\\AppData\\Local\\Temp\\ipykernel_20712\\2292063328.py:53: FutureWarning: YF.download() has changed argument auto_adjust default to True\n",
      "  data = yf.download(ticker, period=PERIODO_DADOS, interval=intervalo_yf)\n"
     ]
    },
    {
     "name": "stdout",
     "output_type": "stream",
     "text": [
      "  Baixando BRAV3.SA...\n"
     ]
    },
    {
     "name": "stderr",
     "output_type": "stream",
     "text": [
      "[*********************100%***********************]  1 of 1 completed\n",
      "C:\\Users\\Gustavo\\AppData\\Local\\Temp\\ipykernel_20712\\2292063328.py:53: FutureWarning: YF.download() has changed argument auto_adjust default to True\n",
      "  data = yf.download(ticker, period=PERIODO_DADOS, interval=intervalo_yf)\n"
     ]
    },
    {
     "name": "stdout",
     "output_type": "stream",
     "text": [
      "  Baixando NEOE3.SA...\n"
     ]
    },
    {
     "name": "stderr",
     "output_type": "stream",
     "text": [
      "[*********************100%***********************]  1 of 1 completed\n",
      "C:\\Users\\Gustavo\\AppData\\Local\\Temp\\ipykernel_20712\\2292063328.py:53: FutureWarning: YF.download() has changed argument auto_adjust default to True\n",
      "  data = yf.download(ticker, period=PERIODO_DADOS, interval=intervalo_yf)\n"
     ]
    },
    {
     "name": "stdout",
     "output_type": "stream",
     "text": [
      "  Baixando CSNA3.SA...\n"
     ]
    },
    {
     "name": "stderr",
     "output_type": "stream",
     "text": [
      "[*********************100%***********************]  1 of 1 completed\n",
      "C:\\Users\\Gustavo\\AppData\\Local\\Temp\\ipykernel_20712\\2292063328.py:53: FutureWarning: YF.download() has changed argument auto_adjust default to True\n",
      "  data = yf.download(ticker, period=PERIODO_DADOS, interval=intervalo_yf)\n"
     ]
    },
    {
     "name": "stdout",
     "output_type": "stream",
     "text": [
      "  Baixando AURE3.SA...\n"
     ]
    },
    {
     "name": "stderr",
     "output_type": "stream",
     "text": [
      "[*********************100%***********************]  1 of 1 completed\n",
      "C:\\Users\\Gustavo\\AppData\\Local\\Temp\\ipykernel_20712\\2292063328.py:53: FutureWarning: YF.download() has changed argument auto_adjust default to True\n",
      "  data = yf.download(ticker, period=PERIODO_DADOS, interval=intervalo_yf)\n"
     ]
    },
    {
     "name": "stdout",
     "output_type": "stream",
     "text": [
      "  Baixando MRVE3.SA...\n"
     ]
    },
    {
     "name": "stderr",
     "output_type": "stream",
     "text": [
      "[*********************100%***********************]  1 of 1 completed\n",
      "C:\\Users\\Gustavo\\AppData\\Local\\Temp\\ipykernel_20712\\2292063328.py:53: FutureWarning: YF.download() has changed argument auto_adjust default to True\n",
      "  data = yf.download(ticker, period=PERIODO_DADOS, interval=intervalo_yf)\n"
     ]
    },
    {
     "name": "stdout",
     "output_type": "stream",
     "text": [
      "  Baixando AZUL4.SA...\n"
     ]
    },
    {
     "name": "stderr",
     "output_type": "stream",
     "text": [
      "[*********************100%***********************]  1 of 1 completed\n",
      "C:\\Users\\Gustavo\\AppData\\Local\\Temp\\ipykernel_20712\\2292063328.py:53: FutureWarning: YF.download() has changed argument auto_adjust default to True\n",
      "  data = yf.download(ticker, period=PERIODO_DADOS, interval=intervalo_yf)\n"
     ]
    },
    {
     "name": "stdout",
     "output_type": "stream",
     "text": [
      "  Baixando GMAT3.SA...\n"
     ]
    },
    {
     "name": "stderr",
     "output_type": "stream",
     "text": [
      "[*********************100%***********************]  1 of 1 completed\n",
      "C:\\Users\\Gustavo\\AppData\\Local\\Temp\\ipykernel_20712\\2292063328.py:53: FutureWarning: YF.download() has changed argument auto_adjust default to True\n",
      "  data = yf.download(ticker, period=PERIODO_DADOS, interval=intervalo_yf)\n"
     ]
    },
    {
     "name": "stdout",
     "output_type": "stream",
     "text": [
      "  Baixando MBRF3.SA...\n"
     ]
    },
    {
     "name": "stderr",
     "output_type": "stream",
     "text": [
      "[*********************100%***********************]  1 of 1 completed\n",
      "C:\\Users\\Gustavo\\AppData\\Local\\Temp\\ipykernel_20712\\2292063328.py:53: FutureWarning: YF.download() has changed argument auto_adjust default to True\n",
      "  data = yf.download(ticker, period=PERIODO_DADOS, interval=intervalo_yf)\n"
     ]
    },
    {
     "name": "stdout",
     "output_type": "stream",
     "text": [
      "  Baixando PCAR3.SA...\n"
     ]
    },
    {
     "name": "stderr",
     "output_type": "stream",
     "text": [
      "[*********************100%***********************]  1 of 1 completed\n",
      "C:\\Users\\Gustavo\\AppData\\Local\\Temp\\ipykernel_20712\\2292063328.py:53: FutureWarning: YF.download() has changed argument auto_adjust default to True\n",
      "  data = yf.download(ticker, period=PERIODO_DADOS, interval=intervalo_yf)\n"
     ]
    },
    {
     "name": "stdout",
     "output_type": "stream",
     "text": [
      "  Baixando VIVA3.SA...\n"
     ]
    },
    {
     "name": "stderr",
     "output_type": "stream",
     "text": [
      "[*********************100%***********************]  1 of 1 completed\n",
      "C:\\Users\\Gustavo\\AppData\\Local\\Temp\\ipykernel_20712\\2292063328.py:53: FutureWarning: YF.download() has changed argument auto_adjust default to True\n",
      "  data = yf.download(ticker, period=PERIODO_DADOS, interval=intervalo_yf)\n"
     ]
    },
    {
     "name": "stdout",
     "output_type": "stream",
     "text": [
      "  Baixando GOAU4.SA...\n"
     ]
    },
    {
     "name": "stderr",
     "output_type": "stream",
     "text": [
      "[*********************100%***********************]  1 of 1 completed\n",
      "C:\\Users\\Gustavo\\AppData\\Local\\Temp\\ipykernel_20712\\2292063328.py:53: FutureWarning: YF.download() has changed argument auto_adjust default to True\n",
      "  data = yf.download(ticker, period=PERIODO_DADOS, interval=intervalo_yf)\n"
     ]
    },
    {
     "name": "stdout",
     "output_type": "stream",
     "text": [
      "  Baixando YDUQ3.SA...\n"
     ]
    },
    {
     "name": "stderr",
     "output_type": "stream",
     "text": [
      "[*********************100%***********************]  1 of 1 completed\n",
      "C:\\Users\\Gustavo\\AppData\\Local\\Temp\\ipykernel_20712\\2292063328.py:53: FutureWarning: YF.download() has changed argument auto_adjust default to True\n",
      "  data = yf.download(ticker, period=PERIODO_DADOS, interval=intervalo_yf)\n"
     ]
    },
    {
     "name": "stdout",
     "output_type": "stream",
     "text": [
      "  Baixando CVCB3.SA...\n"
     ]
    },
    {
     "name": "stderr",
     "output_type": "stream",
     "text": [
      "[*********************100%***********************]  1 of 1 completed\n",
      "C:\\Users\\Gustavo\\AppData\\Local\\Temp\\ipykernel_20712\\2292063328.py:53: FutureWarning: YF.download() has changed argument auto_adjust default to True\n",
      "  data = yf.download(ticker, period=PERIODO_DADOS, interval=intervalo_yf)\n"
     ]
    },
    {
     "name": "stdout",
     "output_type": "stream",
     "text": [
      "  Baixando LWSA3.SA...\n"
     ]
    },
    {
     "name": "stderr",
     "output_type": "stream",
     "text": [
      "[*********************100%***********************]  1 of 1 completed\n",
      "C:\\Users\\Gustavo\\AppData\\Local\\Temp\\ipykernel_20712\\2292063328.py:53: FutureWarning: YF.download() has changed argument auto_adjust default to True\n",
      "  data = yf.download(ticker, period=PERIODO_DADOS, interval=intervalo_yf)\n"
     ]
    },
    {
     "name": "stdout",
     "output_type": "stream",
     "text": [
      "  Baixando POMO4.SA...\n"
     ]
    },
    {
     "name": "stderr",
     "output_type": "stream",
     "text": [
      "[*********************100%***********************]  1 of 1 completed\n",
      "\n",
      "1 Failed download:\n",
      "['POMO4.SA']: Timeout('Failed to perform, curl: (28) Operation timed out after 10012 milliseconds with 0 bytes received. See https://curl.se/libcurl/c/libcurl-errors.html first for more details.')\n",
      "C:\\Users\\Gustavo\\AppData\\Local\\Temp\\ipykernel_20712\\2292063328.py:53: FutureWarning: YF.download() has changed argument auto_adjust default to True\n",
      "  data = yf.download(ticker, period=PERIODO_DADOS, interval=intervalo_yf)\n"
     ]
    },
    {
     "name": "stdout",
     "output_type": "stream",
     "text": [
      "  Sem dados para POMO4.SA no intervalo 1d.\n",
      "  Baixando MOTV3.SA...\n"
     ]
    },
    {
     "name": "stderr",
     "output_type": "stream",
     "text": [
      "[*********************100%***********************]  1 of 1 completed\n",
      "C:\\Users\\Gustavo\\AppData\\Local\\Temp\\ipykernel_20712\\2292063328.py:53: FutureWarning: YF.download() has changed argument auto_adjust default to True\n",
      "  data = yf.download(ticker, period=PERIODO_DADOS, interval=intervalo_yf)\n"
     ]
    },
    {
     "name": "stdout",
     "output_type": "stream",
     "text": [
      "  Baixando ANIM3.SA...\n"
     ]
    },
    {
     "name": "stderr",
     "output_type": "stream",
     "text": [
      "[*********************100%***********************]  1 of 1 completed\n",
      "C:\\Users\\Gustavo\\AppData\\Local\\Temp\\ipykernel_20712\\2292063328.py:53: FutureWarning: YF.download() has changed argument auto_adjust default to True\n",
      "  data = yf.download(ticker, period=PERIODO_DADOS, interval=intervalo_yf)\n"
     ]
    },
    {
     "name": "stdout",
     "output_type": "stream",
     "text": [
      "  Baixando NATU3.SA...\n"
     ]
    },
    {
     "name": "stderr",
     "output_type": "stream",
     "text": [
      "[*********************100%***********************]  1 of 1 completed\n",
      "C:\\Users\\Gustavo\\AppData\\Local\\Temp\\ipykernel_20712\\2292063328.py:53: FutureWarning: YF.download() has changed argument auto_adjust default to True\n",
      "  data = yf.download(ticker, period=PERIODO_DADOS, interval=intervalo_yf)\n"
     ]
    },
    {
     "name": "stdout",
     "output_type": "stream",
     "text": [
      "  Baixando BBDC3.SA...\n"
     ]
    },
    {
     "name": "stderr",
     "output_type": "stream",
     "text": [
      "[*********************100%***********************]  1 of 1 completed\n",
      "C:\\Users\\Gustavo\\AppData\\Local\\Temp\\ipykernel_20712\\2292063328.py:53: FutureWarning: YF.download() has changed argument auto_adjust default to True\n",
      "  data = yf.download(ticker, period=PERIODO_DADOS, interval=intervalo_yf)\n"
     ]
    },
    {
     "name": "stdout",
     "output_type": "stream",
     "text": [
      "  Baixando ENEV3.SA...\n"
     ]
    },
    {
     "name": "stderr",
     "output_type": "stream",
     "text": [
      "[*********************100%***********************]  1 of 1 completed\n",
      "C:\\Users\\Gustavo\\AppData\\Local\\Temp\\ipykernel_20712\\2292063328.py:53: FutureWarning: YF.download() has changed argument auto_adjust default to True\n",
      "  data = yf.download(ticker, period=PERIODO_DADOS, interval=intervalo_yf)\n"
     ]
    },
    {
     "name": "stdout",
     "output_type": "stream",
     "text": [
      "  Baixando ONCO3.SA...\n"
     ]
    },
    {
     "name": "stderr",
     "output_type": "stream",
     "text": [
      "[*********************100%***********************]  1 of 1 completed\n",
      "C:\\Users\\Gustavo\\AppData\\Local\\Temp\\ipykernel_20712\\2292063328.py:53: FutureWarning: YF.download() has changed argument auto_adjust default to True\n",
      "  data = yf.download(ticker, period=PERIODO_DADOS, interval=intervalo_yf)\n"
     ]
    },
    {
     "name": "stdout",
     "output_type": "stream",
     "text": [
      "  Baixando CPLE3.SA...\n"
     ]
    },
    {
     "name": "stderr",
     "output_type": "stream",
     "text": [
      "[*********************100%***********************]  1 of 1 completed\n",
      "C:\\Users\\Gustavo\\AppData\\Local\\Temp\\ipykernel_20712\\2292063328.py:53: FutureWarning: YF.download() has changed argument auto_adjust default to True\n",
      "  data = yf.download(ticker, period=PERIODO_DADOS, interval=intervalo_yf)\n"
     ]
    },
    {
     "name": "stdout",
     "output_type": "stream",
     "text": [
      "  Baixando HBSA3.SA...\n"
     ]
    },
    {
     "name": "stderr",
     "output_type": "stream",
     "text": [
      "[*********************100%***********************]  1 of 1 completed\n",
      "C:\\Users\\Gustavo\\AppData\\Local\\Temp\\ipykernel_20712\\2292063328.py:53: FutureWarning: YF.download() has changed argument auto_adjust default to True\n",
      "  data = yf.download(ticker, period=PERIODO_DADOS, interval=intervalo_yf)\n"
     ]
    },
    {
     "name": "stdout",
     "output_type": "stream",
     "text": [
      "  Baixando AMBP3.SA...\n"
     ]
    },
    {
     "name": "stderr",
     "output_type": "stream",
     "text": [
      "[*********************100%***********************]  1 of 1 completed\n",
      "C:\\Users\\Gustavo\\AppData\\Local\\Temp\\ipykernel_20712\\2292063328.py:53: FutureWarning: YF.download() has changed argument auto_adjust default to True\n",
      "  data = yf.download(ticker, period=PERIODO_DADOS, interval=intervalo_yf)\n"
     ]
    },
    {
     "name": "stdout",
     "output_type": "stream",
     "text": [
      "  Baixando RAIZ4.SA...\n"
     ]
    },
    {
     "name": "stderr",
     "output_type": "stream",
     "text": [
      "[*********************100%***********************]  1 of 1 completed\n",
      "C:\\Users\\Gustavo\\AppData\\Local\\Temp\\ipykernel_20712\\2292063328.py:53: FutureWarning: YF.download() has changed argument auto_adjust default to True\n",
      "  data = yf.download(ticker, period=PERIODO_DADOS, interval=intervalo_yf)\n"
     ]
    },
    {
     "name": "stdout",
     "output_type": "stream",
     "text": [
      "  Baixando AZZA3.SA...\n"
     ]
    },
    {
     "name": "stderr",
     "output_type": "stream",
     "text": [
      "[*********************100%***********************]  1 of 1 completed\n",
      "C:\\Users\\Gustavo\\AppData\\Local\\Temp\\ipykernel_20712\\2292063328.py:53: FutureWarning: YF.download() has changed argument auto_adjust default to True\n",
      "  data = yf.download(ticker, period=PERIODO_DADOS, interval=intervalo_yf)\n"
     ]
    },
    {
     "name": "stdout",
     "output_type": "stream",
     "text": [
      "  Baixando LIGT3.SA...\n"
     ]
    },
    {
     "name": "stderr",
     "output_type": "stream",
     "text": [
      "[*********************100%***********************]  1 of 1 completed\n",
      "C:\\Users\\Gustavo\\AppData\\Local\\Temp\\ipykernel_20712\\2292063328.py:53: FutureWarning: YF.download() has changed argument auto_adjust default to True\n",
      "  data = yf.download(ticker, period=PERIODO_DADOS, interval=intervalo_yf)\n"
     ]
    },
    {
     "name": "stdout",
     "output_type": "stream",
     "text": [
      "  Baixando SULA11.SA...\n"
     ]
    },
    {
     "name": "stderr",
     "output_type": "stream",
     "text": [
      "[*********************100%***********************]  1 of 1 completed\n",
      "\n",
      "1 Failed download:\n",
      "['SULA11.SA']: YFTzMissingError('possibly delisted; no timezone found')\n",
      "C:\\Users\\Gustavo\\AppData\\Local\\Temp\\ipykernel_20712\\2292063328.py:53: FutureWarning: YF.download() has changed argument auto_adjust default to True\n",
      "  data = yf.download(ticker, period=PERIODO_DADOS, interval=intervalo_yf)\n"
     ]
    },
    {
     "name": "stdout",
     "output_type": "stream",
     "text": [
      "  Sem dados para SULA11.SA no intervalo 1d.\n",
      "  Baixando HYPE3.SA...\n"
     ]
    },
    {
     "name": "stderr",
     "output_type": "stream",
     "text": [
      "[*********************100%***********************]  1 of 1 completed\n",
      "C:\\Users\\Gustavo\\AppData\\Local\\Temp\\ipykernel_20712\\2292063328.py:53: FutureWarning: YF.download() has changed argument auto_adjust default to True\n",
      "  data = yf.download(ticker, period=PERIODO_DADOS, interval=intervalo_yf)\n"
     ]
    },
    {
     "name": "stdout",
     "output_type": "stream",
     "text": [
      "  Baixando JHSF3.SA...\n"
     ]
    },
    {
     "name": "stderr",
     "output_type": "stream",
     "text": [
      "[*********************100%***********************]  1 of 1 completed\n",
      "C:\\Users\\Gustavo\\AppData\\Local\\Temp\\ipykernel_20712\\2292063328.py:53: FutureWarning: YF.download() has changed argument auto_adjust default to True\n",
      "  data = yf.download(ticker, period=PERIODO_DADOS, interval=intervalo_yf)\n"
     ]
    },
    {
     "name": "stdout",
     "output_type": "stream",
     "text": [
      "  Baixando SMLS3.SA...\n"
     ]
    },
    {
     "name": "stderr",
     "output_type": "stream",
     "text": [
      "[*********************100%***********************]  1 of 1 completed\n",
      "\n",
      "1 Failed download:\n",
      "['SMLS3.SA']: YFTzMissingError('possibly delisted; no timezone found')\n",
      "C:\\Users\\Gustavo\\AppData\\Local\\Temp\\ipykernel_20712\\2292063328.py:53: FutureWarning: YF.download() has changed argument auto_adjust default to True\n",
      "  data = yf.download(ticker, period=PERIODO_DADOS, interval=intervalo_yf)\n"
     ]
    },
    {
     "name": "stdout",
     "output_type": "stream",
     "text": [
      "  Sem dados para SMLS3.SA no intervalo 1d.\n",
      "  Baixando CSED3.SA...\n"
     ]
    },
    {
     "name": "stderr",
     "output_type": "stream",
     "text": [
      "[*********************100%***********************]  1 of 1 completed\n",
      "C:\\Users\\Gustavo\\AppData\\Local\\Temp\\ipykernel_20712\\2292063328.py:53: FutureWarning: YF.download() has changed argument auto_adjust default to True\n",
      "  data = yf.download(ticker, period=PERIODO_DADOS, interval=intervalo_yf)\n"
     ]
    },
    {
     "name": "stdout",
     "output_type": "stream",
     "text": [
      "  Baixando TUPY3.SA...\n"
     ]
    },
    {
     "name": "stderr",
     "output_type": "stream",
     "text": [
      "[*********************100%***********************]  1 of 1 completed\n",
      "C:\\Users\\Gustavo\\AppData\\Local\\Temp\\ipykernel_20712\\2292063328.py:53: FutureWarning: YF.download() has changed argument auto_adjust default to True\n",
      "  data = yf.download(ticker, period=PERIODO_DADOS, interval=intervalo_yf)\n"
     ]
    },
    {
     "name": "stdout",
     "output_type": "stream",
     "text": [
      "  Baixando BRKM5.SA...\n"
     ]
    },
    {
     "name": "stderr",
     "output_type": "stream",
     "text": [
      "[*********************100%***********************]  1 of 1 completed\n",
      "C:\\Users\\Gustavo\\AppData\\Local\\Temp\\ipykernel_20712\\2292063328.py:53: FutureWarning: YF.download() has changed argument auto_adjust default to True\n",
      "  data = yf.download(ticker, period=PERIODO_DADOS, interval=intervalo_yf)\n"
     ]
    },
    {
     "name": "stdout",
     "output_type": "stream",
     "text": [
      "  Baixando CASH3.SA...\n"
     ]
    },
    {
     "name": "stderr",
     "output_type": "stream",
     "text": [
      "[*********************100%***********************]  1 of 1 completed\n",
      "C:\\Users\\Gustavo\\AppData\\Local\\Temp\\ipykernel_20712\\2292063328.py:53: FutureWarning: YF.download() has changed argument auto_adjust default to True\n",
      "  data = yf.download(ticker, period=PERIODO_DADOS, interval=intervalo_yf)\n"
     ]
    },
    {
     "name": "stdout",
     "output_type": "stream",
     "text": [
      "  Baixando IGTA3.SA...\n"
     ]
    },
    {
     "name": "stderr",
     "output_type": "stream",
     "text": [
      "[*********************100%***********************]  1 of 1 completed\n",
      "\n",
      "1 Failed download:\n",
      "['IGTA3.SA']: YFTzMissingError('possibly delisted; no timezone found')\n"
     ]
    },
    {
     "name": "stdout",
     "output_type": "stream",
     "text": [
      "  Sem dados para IGTA3.SA no intervalo 1d.\n",
      "  Salvando dados na tabela SQL: 'candles_diarios'...\n",
      "  Tabela 'candles_diarios' salva com sucesso!\n",
      "\n",
      "Buscando dados para: candles_semanais (Intervalo: 1wk)\n",
      "  Baixando PETR4.SA...\n"
     ]
    },
    {
     "name": "stderr",
     "output_type": "stream",
     "text": [
      "C:\\Users\\Gustavo\\AppData\\Local\\Temp\\ipykernel_20712\\2292063328.py:53: FutureWarning: YF.download() has changed argument auto_adjust default to True\n",
      "  data = yf.download(ticker, period=PERIODO_DADOS, interval=intervalo_yf)\n",
      "[*********************100%***********************]  1 of 1 completed\n",
      "C:\\Users\\Gustavo\\AppData\\Local\\Temp\\ipykernel_20712\\2292063328.py:53: FutureWarning: YF.download() has changed argument auto_adjust default to True\n",
      "  data = yf.download(ticker, period=PERIODO_DADOS, interval=intervalo_yf)\n"
     ]
    },
    {
     "name": "stdout",
     "output_type": "stream",
     "text": [
      "  Baixando VALE3.SA...\n"
     ]
    },
    {
     "name": "stderr",
     "output_type": "stream",
     "text": [
      "[*********************100%***********************]  1 of 1 completed\n",
      "C:\\Users\\Gustavo\\AppData\\Local\\Temp\\ipykernel_20712\\2292063328.py:53: FutureWarning: YF.download() has changed argument auto_adjust default to True\n",
      "  data = yf.download(ticker, period=PERIODO_DADOS, interval=intervalo_yf)\n"
     ]
    },
    {
     "name": "stdout",
     "output_type": "stream",
     "text": [
      "  Baixando ITUB4.SA...\n"
     ]
    },
    {
     "name": "stderr",
     "output_type": "stream",
     "text": [
      "[*********************100%***********************]  1 of 1 completed\n",
      "C:\\Users\\Gustavo\\AppData\\Local\\Temp\\ipykernel_20712\\2292063328.py:53: FutureWarning: YF.download() has changed argument auto_adjust default to True\n",
      "  data = yf.download(ticker, period=PERIODO_DADOS, interval=intervalo_yf)\n"
     ]
    },
    {
     "name": "stdout",
     "output_type": "stream",
     "text": [
      "  Baixando BBAS3.SA...\n"
     ]
    },
    {
     "name": "stderr",
     "output_type": "stream",
     "text": [
      "[*********************100%***********************]  1 of 1 completed\n",
      "C:\\Users\\Gustavo\\AppData\\Local\\Temp\\ipykernel_20712\\2292063328.py:53: FutureWarning: YF.download() has changed argument auto_adjust default to True\n",
      "  data = yf.download(ticker, period=PERIODO_DADOS, interval=intervalo_yf)\n"
     ]
    },
    {
     "name": "stdout",
     "output_type": "stream",
     "text": [
      "  Baixando BBDC4.SA...\n"
     ]
    },
    {
     "name": "stderr",
     "output_type": "stream",
     "text": [
      "[*********************100%***********************]  1 of 1 completed\n",
      "C:\\Users\\Gustavo\\AppData\\Local\\Temp\\ipykernel_20712\\2292063328.py:53: FutureWarning: YF.download() has changed argument auto_adjust default to True\n",
      "  data = yf.download(ticker, period=PERIODO_DADOS, interval=intervalo_yf)\n"
     ]
    },
    {
     "name": "stdout",
     "output_type": "stream",
     "text": [
      "  Baixando ABEV3.SA...\n"
     ]
    },
    {
     "name": "stderr",
     "output_type": "stream",
     "text": [
      "[*********************100%***********************]  1 of 1 completed\n",
      "C:\\Users\\Gustavo\\AppData\\Local\\Temp\\ipykernel_20712\\2292063328.py:53: FutureWarning: YF.download() has changed argument auto_adjust default to True\n",
      "  data = yf.download(ticker, period=PERIODO_DADOS, interval=intervalo_yf)\n"
     ]
    },
    {
     "name": "stdout",
     "output_type": "stream",
     "text": [
      "  Baixando B3SA3.SA...\n"
     ]
    },
    {
     "name": "stderr",
     "output_type": "stream",
     "text": [
      "[*********************100%***********************]  1 of 1 completed\n",
      "C:\\Users\\Gustavo\\AppData\\Local\\Temp\\ipykernel_20712\\2292063328.py:53: FutureWarning: YF.download() has changed argument auto_adjust default to True\n",
      "  data = yf.download(ticker, period=PERIODO_DADOS, interval=intervalo_yf)\n"
     ]
    },
    {
     "name": "stdout",
     "output_type": "stream",
     "text": [
      "  Baixando ELET3.SA...\n"
     ]
    },
    {
     "name": "stderr",
     "output_type": "stream",
     "text": [
      "[*********************100%***********************]  1 of 1 completed\n",
      "C:\\Users\\Gustavo\\AppData\\Local\\Temp\\ipykernel_20712\\2292063328.py:53: FutureWarning: YF.download() has changed argument auto_adjust default to True\n",
      "  data = yf.download(ticker, period=PERIODO_DADOS, interval=intervalo_yf)\n"
     ]
    },
    {
     "name": "stdout",
     "output_type": "stream",
     "text": [
      "  Baixando WEGE3.SA...\n"
     ]
    },
    {
     "name": "stderr",
     "output_type": "stream",
     "text": [
      "[*********************100%***********************]  1 of 1 completed\n",
      "C:\\Users\\Gustavo\\AppData\\Local\\Temp\\ipykernel_20712\\2292063328.py:53: FutureWarning: YF.download() has changed argument auto_adjust default to True\n",
      "  data = yf.download(ticker, period=PERIODO_DADOS, interval=intervalo_yf)\n"
     ]
    },
    {
     "name": "stdout",
     "output_type": "stream",
     "text": [
      "  Baixando RENT3.SA...\n"
     ]
    },
    {
     "name": "stderr",
     "output_type": "stream",
     "text": [
      "[*********************100%***********************]  1 of 1 completed\n",
      "C:\\Users\\Gustavo\\AppData\\Local\\Temp\\ipykernel_20712\\2292063328.py:53: FutureWarning: YF.download() has changed argument auto_adjust default to True\n",
      "  data = yf.download(ticker, period=PERIODO_DADOS, interval=intervalo_yf)\n"
     ]
    },
    {
     "name": "stdout",
     "output_type": "stream",
     "text": [
      "  Baixando BPAC11.SA...\n"
     ]
    },
    {
     "name": "stderr",
     "output_type": "stream",
     "text": [
      "[*********************100%***********************]  1 of 1 completed\n",
      "C:\\Users\\Gustavo\\AppData\\Local\\Temp\\ipykernel_20712\\2292063328.py:53: FutureWarning: YF.download() has changed argument auto_adjust default to True\n",
      "  data = yf.download(ticker, period=PERIODO_DADOS, interval=intervalo_yf)\n"
     ]
    },
    {
     "name": "stdout",
     "output_type": "stream",
     "text": [
      "  Baixando RADL3.SA...\n"
     ]
    },
    {
     "name": "stderr",
     "output_type": "stream",
     "text": [
      "[*********************100%***********************]  1 of 1 completed\n",
      "C:\\Users\\Gustavo\\AppData\\Local\\Temp\\ipykernel_20712\\2292063328.py:53: FutureWarning: YF.download() has changed argument auto_adjust default to True\n",
      "  data = yf.download(ticker, period=PERIODO_DADOS, interval=intervalo_yf)\n"
     ]
    },
    {
     "name": "stdout",
     "output_type": "stream",
     "text": [
      "  Baixando ITSA4.SA...\n"
     ]
    },
    {
     "name": "stderr",
     "output_type": "stream",
     "text": [
      "[*********************100%***********************]  1 of 1 completed\n",
      "C:\\Users\\Gustavo\\AppData\\Local\\Temp\\ipykernel_20712\\2292063328.py:53: FutureWarning: YF.download() has changed argument auto_adjust default to True\n",
      "  data = yf.download(ticker, period=PERIODO_DADOS, interval=intervalo_yf)\n"
     ]
    },
    {
     "name": "stdout",
     "output_type": "stream",
     "text": [
      "  Baixando PRIO3.SA...\n"
     ]
    },
    {
     "name": "stderr",
     "output_type": "stream",
     "text": [
      "[*********************100%***********************]  1 of 1 completed\n",
      "C:\\Users\\Gustavo\\AppData\\Local\\Temp\\ipykernel_20712\\2292063328.py:53: FutureWarning: YF.download() has changed argument auto_adjust default to True\n",
      "  data = yf.download(ticker, period=PERIODO_DADOS, interval=intervalo_yf)\n"
     ]
    },
    {
     "name": "stdout",
     "output_type": "stream",
     "text": [
      "  Baixando MGLU3.SA...\n"
     ]
    },
    {
     "name": "stderr",
     "output_type": "stream",
     "text": [
      "[*********************100%***********************]  1 of 1 completed\n",
      "C:\\Users\\Gustavo\\AppData\\Local\\Temp\\ipykernel_20712\\2292063328.py:53: FutureWarning: YF.download() has changed argument auto_adjust default to True\n",
      "  data = yf.download(ticker, period=PERIODO_DADOS, interval=intervalo_yf)\n"
     ]
    },
    {
     "name": "stdout",
     "output_type": "stream",
     "text": [
      "  Baixando UGPA3.SA...\n"
     ]
    },
    {
     "name": "stderr",
     "output_type": "stream",
     "text": [
      "[*********************100%***********************]  1 of 1 completed\n",
      "C:\\Users\\Gustavo\\AppData\\Local\\Temp\\ipykernel_20712\\2292063328.py:53: FutureWarning: YF.download() has changed argument auto_adjust default to True\n",
      "  data = yf.download(ticker, period=PERIODO_DADOS, interval=intervalo_yf)\n"
     ]
    },
    {
     "name": "stdout",
     "output_type": "stream",
     "text": [
      "  Baixando GGBR4.SA...\n"
     ]
    },
    {
     "name": "stderr",
     "output_type": "stream",
     "text": [
      "[*********************100%***********************]  1 of 1 completed\n",
      "C:\\Users\\Gustavo\\AppData\\Local\\Temp\\ipykernel_20712\\2292063328.py:53: FutureWarning: YF.download() has changed argument auto_adjust default to True\n",
      "  data = yf.download(ticker, period=PERIODO_DADOS, interval=intervalo_yf)\n"
     ]
    },
    {
     "name": "stdout",
     "output_type": "stream",
     "text": [
      "  Baixando ASAI3.SA...\n"
     ]
    },
    {
     "name": "stderr",
     "output_type": "stream",
     "text": [
      "[*********************100%***********************]  1 of 1 completed\n",
      "C:\\Users\\Gustavo\\AppData\\Local\\Temp\\ipykernel_20712\\2292063328.py:53: FutureWarning: YF.download() has changed argument auto_adjust default to True\n",
      "  data = yf.download(ticker, period=PERIODO_DADOS, interval=intervalo_yf)\n"
     ]
    },
    {
     "name": "stdout",
     "output_type": "stream",
     "text": [
      "  Baixando SUZB3.SA...\n"
     ]
    },
    {
     "name": "stderr",
     "output_type": "stream",
     "text": [
      "[*********************100%***********************]  1 of 1 completed\n",
      "C:\\Users\\Gustavo\\AppData\\Local\\Temp\\ipykernel_20712\\2292063328.py:53: FutureWarning: YF.download() has changed argument auto_adjust default to True\n",
      "  data = yf.download(ticker, period=PERIODO_DADOS, interval=intervalo_yf)\n"
     ]
    },
    {
     "name": "stdout",
     "output_type": "stream",
     "text": [
      "  Baixando VBBR3.SA...\n"
     ]
    },
    {
     "name": "stderr",
     "output_type": "stream",
     "text": [
      "[*********************100%***********************]  1 of 1 completed\n",
      "C:\\Users\\Gustavo\\AppData\\Local\\Temp\\ipykernel_20712\\2292063328.py:53: FutureWarning: YF.download() has changed argument auto_adjust default to True\n",
      "  data = yf.download(ticker, period=PERIODO_DADOS, interval=intervalo_yf)\n"
     ]
    },
    {
     "name": "stdout",
     "output_type": "stream",
     "text": [
      "  Baixando CPLE6.SA...\n"
     ]
    },
    {
     "name": "stderr",
     "output_type": "stream",
     "text": [
      "[*********************100%***********************]  1 of 1 completed\n",
      "C:\\Users\\Gustavo\\AppData\\Local\\Temp\\ipykernel_20712\\2292063328.py:53: FutureWarning: YF.download() has changed argument auto_adjust default to True\n",
      "  data = yf.download(ticker, period=PERIODO_DADOS, interval=intervalo_yf)\n"
     ]
    },
    {
     "name": "stdout",
     "output_type": "stream",
     "text": [
      "  Baixando LREN3.SA...\n"
     ]
    },
    {
     "name": "stderr",
     "output_type": "stream",
     "text": [
      "[*********************100%***********************]  1 of 1 completed\n",
      "C:\\Users\\Gustavo\\AppData\\Local\\Temp\\ipykernel_20712\\2292063328.py:53: FutureWarning: YF.download() has changed argument auto_adjust default to True\n",
      "  data = yf.download(ticker, period=PERIODO_DADOS, interval=intervalo_yf)\n"
     ]
    },
    {
     "name": "stdout",
     "output_type": "stream",
     "text": [
      "  Baixando KLBN11.SA...\n"
     ]
    },
    {
     "name": "stderr",
     "output_type": "stream",
     "text": [
      "[*********************100%***********************]  1 of 1 completed\n",
      "C:\\Users\\Gustavo\\AppData\\Local\\Temp\\ipykernel_20712\\2292063328.py:53: FutureWarning: YF.download() has changed argument auto_adjust default to True\n",
      "  data = yf.download(ticker, period=PERIODO_DADOS, interval=intervalo_yf)\n"
     ]
    },
    {
     "name": "stdout",
     "output_type": "stream",
     "text": [
      "  Baixando RAIL3.SA...\n"
     ]
    },
    {
     "name": "stderr",
     "output_type": "stream",
     "text": [
      "[*********************100%***********************]  1 of 1 completed\n",
      "C:\\Users\\Gustavo\\AppData\\Local\\Temp\\ipykernel_20712\\2292063328.py:53: FutureWarning: YF.download() has changed argument auto_adjust default to True\n",
      "  data = yf.download(ticker, period=PERIODO_DADOS, interval=intervalo_yf)\n"
     ]
    },
    {
     "name": "stdout",
     "output_type": "stream",
     "text": [
      "  Baixando BBSE3.SA...\n"
     ]
    },
    {
     "name": "stderr",
     "output_type": "stream",
     "text": [
      "[*********************100%***********************]  1 of 1 completed\n",
      "C:\\Users\\Gustavo\\AppData\\Local\\Temp\\ipykernel_20712\\2292063328.py:53: FutureWarning: YF.download() has changed argument auto_adjust default to True\n",
      "  data = yf.download(ticker, period=PERIODO_DADOS, interval=intervalo_yf)\n"
     ]
    },
    {
     "name": "stdout",
     "output_type": "stream",
     "text": [
      "  Baixando EQTL3.SA...\n"
     ]
    },
    {
     "name": "stderr",
     "output_type": "stream",
     "text": [
      "[*********************100%***********************]  1 of 1 completed\n",
      "C:\\Users\\Gustavo\\AppData\\Local\\Temp\\ipykernel_20712\\2292063328.py:53: FutureWarning: YF.download() has changed argument auto_adjust default to True\n",
      "  data = yf.download(ticker, period=PERIODO_DADOS, interval=intervalo_yf)\n"
     ]
    },
    {
     "name": "stdout",
     "output_type": "stream",
     "text": [
      "  Baixando CMIG4.SA...\n"
     ]
    },
    {
     "name": "stderr",
     "output_type": "stream",
     "text": [
      "[*********************100%***********************]  1 of 1 completed\n",
      "C:\\Users\\Gustavo\\AppData\\Local\\Temp\\ipykernel_20712\\2292063328.py:53: FutureWarning: YF.download() has changed argument auto_adjust default to True\n",
      "  data = yf.download(ticker, period=PERIODO_DADOS, interval=intervalo_yf)\n"
     ]
    },
    {
     "name": "stdout",
     "output_type": "stream",
     "text": [
      "  Baixando RDOR3.SA...\n"
     ]
    },
    {
     "name": "stderr",
     "output_type": "stream",
     "text": [
      "[*********************100%***********************]  1 of 1 completed\n",
      "C:\\Users\\Gustavo\\AppData\\Local\\Temp\\ipykernel_20712\\2292063328.py:53: FutureWarning: YF.download() has changed argument auto_adjust default to True\n",
      "  data = yf.download(ticker, period=PERIODO_DADOS, interval=intervalo_yf)\n"
     ]
    },
    {
     "name": "stdout",
     "output_type": "stream",
     "text": [
      "  Baixando EMBR3.SA...\n"
     ]
    },
    {
     "name": "stderr",
     "output_type": "stream",
     "text": [
      "[*********************100%***********************]  1 of 1 completed\n",
      "C:\\Users\\Gustavo\\AppData\\Local\\Temp\\ipykernel_20712\\2292063328.py:53: FutureWarning: YF.download() has changed argument auto_adjust default to True\n",
      "  data = yf.download(ticker, period=PERIODO_DADOS, interval=intervalo_yf)\n"
     ]
    },
    {
     "name": "stdout",
     "output_type": "stream",
     "text": [
      "  Baixando SBSP3.SA...\n"
     ]
    },
    {
     "name": "stderr",
     "output_type": "stream",
     "text": [
      "[*********************100%***********************]  1 of 1 completed\n",
      "C:\\Users\\Gustavo\\AppData\\Local\\Temp\\ipykernel_20712\\2292063328.py:53: FutureWarning: YF.download() has changed argument auto_adjust default to True\n",
      "  data = yf.download(ticker, period=PERIODO_DADOS, interval=intervalo_yf)\n"
     ]
    },
    {
     "name": "stdout",
     "output_type": "stream",
     "text": [
      "  Baixando VAMO3.SA...\n"
     ]
    },
    {
     "name": "stderr",
     "output_type": "stream",
     "text": [
      "[*********************100%***********************]  1 of 1 completed\n",
      "C:\\Users\\Gustavo\\AppData\\Local\\Temp\\ipykernel_20712\\2292063328.py:53: FutureWarning: YF.download() has changed argument auto_adjust default to True\n",
      "  data = yf.download(ticker, period=PERIODO_DADOS, interval=intervalo_yf)\n"
     ]
    },
    {
     "name": "stdout",
     "output_type": "stream",
     "text": [
      "  Baixando BEEF3.SA...\n"
     ]
    },
    {
     "name": "stderr",
     "output_type": "stream",
     "text": [
      "[*********************100%***********************]  1 of 1 completed\n",
      "C:\\Users\\Gustavo\\AppData\\Local\\Temp\\ipykernel_20712\\2292063328.py:53: FutureWarning: YF.download() has changed argument auto_adjust default to True\n",
      "  data = yf.download(ticker, period=PERIODO_DADOS, interval=intervalo_yf)\n"
     ]
    },
    {
     "name": "stdout",
     "output_type": "stream",
     "text": [
      "  Baixando CSAN3.SA...\n"
     ]
    },
    {
     "name": "stderr",
     "output_type": "stream",
     "text": [
      "[*********************100%***********************]  1 of 1 completed\n",
      "C:\\Users\\Gustavo\\AppData\\Local\\Temp\\ipykernel_20712\\2292063328.py:53: FutureWarning: YF.download() has changed argument auto_adjust default to True\n",
      "  data = yf.download(ticker, period=PERIODO_DADOS, interval=intervalo_yf)\n"
     ]
    },
    {
     "name": "stdout",
     "output_type": "stream",
     "text": [
      "  Baixando COGN3.SA...\n"
     ]
    },
    {
     "name": "stderr",
     "output_type": "stream",
     "text": [
      "[*********************100%***********************]  1 of 1 completed\n",
      "C:\\Users\\Gustavo\\AppData\\Local\\Temp\\ipykernel_20712\\2292063328.py:53: FutureWarning: YF.download() has changed argument auto_adjust default to True\n",
      "  data = yf.download(ticker, period=PERIODO_DADOS, interval=intervalo_yf)\n"
     ]
    },
    {
     "name": "stdout",
     "output_type": "stream",
     "text": [
      "  Baixando TOTS3.SA...\n"
     ]
    },
    {
     "name": "stderr",
     "output_type": "stream",
     "text": [
      "[*********************100%***********************]  1 of 1 completed\n",
      "C:\\Users\\Gustavo\\AppData\\Local\\Temp\\ipykernel_20712\\2292063328.py:53: FutureWarning: YF.download() has changed argument auto_adjust default to True\n",
      "  data = yf.download(ticker, period=PERIODO_DADOS, interval=intervalo_yf)\n"
     ]
    },
    {
     "name": "stdout",
     "output_type": "stream",
     "text": [
      "  Baixando TIMS3.SA...\n"
     ]
    },
    {
     "name": "stderr",
     "output_type": "stream",
     "text": [
      "[*********************100%***********************]  1 of 1 completed\n",
      "C:\\Users\\Gustavo\\AppData\\Local\\Temp\\ipykernel_20712\\2292063328.py:53: FutureWarning: YF.download() has changed argument auto_adjust default to True\n",
      "  data = yf.download(ticker, period=PERIODO_DADOS, interval=intervalo_yf)\n"
     ]
    },
    {
     "name": "stdout",
     "output_type": "stream",
     "text": [
      "  Baixando FLRY3.SA...\n"
     ]
    },
    {
     "name": "stderr",
     "output_type": "stream",
     "text": [
      "[*********************100%***********************]  1 of 1 completed\n",
      "C:\\Users\\Gustavo\\AppData\\Local\\Temp\\ipykernel_20712\\2292063328.py:53: FutureWarning: YF.download() has changed argument auto_adjust default to True\n",
      "  data = yf.download(ticker, period=PERIODO_DADOS, interval=intervalo_yf)\n"
     ]
    },
    {
     "name": "stdout",
     "output_type": "stream",
     "text": [
      "  Baixando PETR3.SA...\n"
     ]
    },
    {
     "name": "stderr",
     "output_type": "stream",
     "text": [
      "[*********************100%***********************]  1 of 1 completed\n",
      "C:\\Users\\Gustavo\\AppData\\Local\\Temp\\ipykernel_20712\\2292063328.py:53: FutureWarning: YF.download() has changed argument auto_adjust default to True\n",
      "  data = yf.download(ticker, period=PERIODO_DADOS, interval=intervalo_yf)\n"
     ]
    },
    {
     "name": "stdout",
     "output_type": "stream",
     "text": [
      "  Baixando USIM5.SA...\n"
     ]
    },
    {
     "name": "stderr",
     "output_type": "stream",
     "text": [
      "[*********************100%***********************]  1 of 1 completed\n",
      "C:\\Users\\Gustavo\\AppData\\Local\\Temp\\ipykernel_20712\\2292063328.py:53: FutureWarning: YF.download() has changed argument auto_adjust default to True\n",
      "  data = yf.download(ticker, period=PERIODO_DADOS, interval=intervalo_yf)\n"
     ]
    },
    {
     "name": "stdout",
     "output_type": "stream",
     "text": [
      "  Baixando BRAV3.SA...\n"
     ]
    },
    {
     "name": "stderr",
     "output_type": "stream",
     "text": [
      "[*********************100%***********************]  1 of 1 completed\n",
      "C:\\Users\\Gustavo\\AppData\\Local\\Temp\\ipykernel_20712\\2292063328.py:53: FutureWarning: YF.download() has changed argument auto_adjust default to True\n",
      "  data = yf.download(ticker, period=PERIODO_DADOS, interval=intervalo_yf)\n"
     ]
    },
    {
     "name": "stdout",
     "output_type": "stream",
     "text": [
      "  Baixando NEOE3.SA...\n"
     ]
    },
    {
     "name": "stderr",
     "output_type": "stream",
     "text": [
      "[*********************100%***********************]  1 of 1 completed\n",
      "C:\\Users\\Gustavo\\AppData\\Local\\Temp\\ipykernel_20712\\2292063328.py:53: FutureWarning: YF.download() has changed argument auto_adjust default to True\n",
      "  data = yf.download(ticker, period=PERIODO_DADOS, interval=intervalo_yf)\n"
     ]
    },
    {
     "name": "stdout",
     "output_type": "stream",
     "text": [
      "  Baixando CSNA3.SA...\n"
     ]
    },
    {
     "name": "stderr",
     "output_type": "stream",
     "text": [
      "[*********************100%***********************]  1 of 1 completed\n",
      "C:\\Users\\Gustavo\\AppData\\Local\\Temp\\ipykernel_20712\\2292063328.py:53: FutureWarning: YF.download() has changed argument auto_adjust default to True\n",
      "  data = yf.download(ticker, period=PERIODO_DADOS, interval=intervalo_yf)\n"
     ]
    },
    {
     "name": "stdout",
     "output_type": "stream",
     "text": [
      "  Baixando AURE3.SA...\n"
     ]
    },
    {
     "name": "stderr",
     "output_type": "stream",
     "text": [
      "[*********************100%***********************]  1 of 1 completed\n",
      "C:\\Users\\Gustavo\\AppData\\Local\\Temp\\ipykernel_20712\\2292063328.py:53: FutureWarning: YF.download() has changed argument auto_adjust default to True\n",
      "  data = yf.download(ticker, period=PERIODO_DADOS, interval=intervalo_yf)\n"
     ]
    },
    {
     "name": "stdout",
     "output_type": "stream",
     "text": [
      "  Baixando MRVE3.SA...\n"
     ]
    },
    {
     "name": "stderr",
     "output_type": "stream",
     "text": [
      "[*********************100%***********************]  1 of 1 completed\n",
      "C:\\Users\\Gustavo\\AppData\\Local\\Temp\\ipykernel_20712\\2292063328.py:53: FutureWarning: YF.download() has changed argument auto_adjust default to True\n",
      "  data = yf.download(ticker, period=PERIODO_DADOS, interval=intervalo_yf)\n"
     ]
    },
    {
     "name": "stdout",
     "output_type": "stream",
     "text": [
      "  Baixando AZUL4.SA...\n"
     ]
    },
    {
     "name": "stderr",
     "output_type": "stream",
     "text": [
      "[*********************100%***********************]  1 of 1 completed\n",
      "C:\\Users\\Gustavo\\AppData\\Local\\Temp\\ipykernel_20712\\2292063328.py:53: FutureWarning: YF.download() has changed argument auto_adjust default to True\n",
      "  data = yf.download(ticker, period=PERIODO_DADOS, interval=intervalo_yf)\n"
     ]
    },
    {
     "name": "stdout",
     "output_type": "stream",
     "text": [
      "  Baixando GMAT3.SA...\n"
     ]
    },
    {
     "name": "stderr",
     "output_type": "stream",
     "text": [
      "[*********************100%***********************]  1 of 1 completed\n",
      "C:\\Users\\Gustavo\\AppData\\Local\\Temp\\ipykernel_20712\\2292063328.py:53: FutureWarning: YF.download() has changed argument auto_adjust default to True\n",
      "  data = yf.download(ticker, period=PERIODO_DADOS, interval=intervalo_yf)\n"
     ]
    },
    {
     "name": "stdout",
     "output_type": "stream",
     "text": [
      "  Baixando MBRF3.SA...\n"
     ]
    },
    {
     "name": "stderr",
     "output_type": "stream",
     "text": [
      "[*********************100%***********************]  1 of 1 completed\n",
      "C:\\Users\\Gustavo\\AppData\\Local\\Temp\\ipykernel_20712\\2292063328.py:53: FutureWarning: YF.download() has changed argument auto_adjust default to True\n",
      "  data = yf.download(ticker, period=PERIODO_DADOS, interval=intervalo_yf)\n"
     ]
    },
    {
     "name": "stdout",
     "output_type": "stream",
     "text": [
      "  Baixando PCAR3.SA...\n"
     ]
    },
    {
     "name": "stderr",
     "output_type": "stream",
     "text": [
      "[*********************100%***********************]  1 of 1 completed\n",
      "C:\\Users\\Gustavo\\AppData\\Local\\Temp\\ipykernel_20712\\2292063328.py:53: FutureWarning: YF.download() has changed argument auto_adjust default to True\n",
      "  data = yf.download(ticker, period=PERIODO_DADOS, interval=intervalo_yf)\n"
     ]
    },
    {
     "name": "stdout",
     "output_type": "stream",
     "text": [
      "  Baixando VIVA3.SA...\n"
     ]
    },
    {
     "name": "stderr",
     "output_type": "stream",
     "text": [
      "[*********************100%***********************]  1 of 1 completed\n",
      "C:\\Users\\Gustavo\\AppData\\Local\\Temp\\ipykernel_20712\\2292063328.py:53: FutureWarning: YF.download() has changed argument auto_adjust default to True\n",
      "  data = yf.download(ticker, period=PERIODO_DADOS, interval=intervalo_yf)\n"
     ]
    },
    {
     "name": "stdout",
     "output_type": "stream",
     "text": [
      "  Baixando GOAU4.SA...\n"
     ]
    },
    {
     "name": "stderr",
     "output_type": "stream",
     "text": [
      "[*********************100%***********************]  1 of 1 completed\n",
      "C:\\Users\\Gustavo\\AppData\\Local\\Temp\\ipykernel_20712\\2292063328.py:53: FutureWarning: YF.download() has changed argument auto_adjust default to True\n",
      "  data = yf.download(ticker, period=PERIODO_DADOS, interval=intervalo_yf)\n"
     ]
    },
    {
     "name": "stdout",
     "output_type": "stream",
     "text": [
      "  Baixando YDUQ3.SA...\n"
     ]
    },
    {
     "name": "stderr",
     "output_type": "stream",
     "text": [
      "[*********************100%***********************]  1 of 1 completed\n",
      "C:\\Users\\Gustavo\\AppData\\Local\\Temp\\ipykernel_20712\\2292063328.py:53: FutureWarning: YF.download() has changed argument auto_adjust default to True\n",
      "  data = yf.download(ticker, period=PERIODO_DADOS, interval=intervalo_yf)\n"
     ]
    },
    {
     "name": "stdout",
     "output_type": "stream",
     "text": [
      "  Baixando CVCB3.SA...\n"
     ]
    },
    {
     "name": "stderr",
     "output_type": "stream",
     "text": [
      "[*********************100%***********************]  1 of 1 completed\n",
      "C:\\Users\\Gustavo\\AppData\\Local\\Temp\\ipykernel_20712\\2292063328.py:53: FutureWarning: YF.download() has changed argument auto_adjust default to True\n",
      "  data = yf.download(ticker, period=PERIODO_DADOS, interval=intervalo_yf)\n"
     ]
    },
    {
     "name": "stdout",
     "output_type": "stream",
     "text": [
      "  Baixando LWSA3.SA...\n"
     ]
    },
    {
     "name": "stderr",
     "output_type": "stream",
     "text": [
      "[*********************100%***********************]  1 of 1 completed\n",
      "C:\\Users\\Gustavo\\AppData\\Local\\Temp\\ipykernel_20712\\2292063328.py:53: FutureWarning: YF.download() has changed argument auto_adjust default to True\n",
      "  data = yf.download(ticker, period=PERIODO_DADOS, interval=intervalo_yf)\n"
     ]
    },
    {
     "name": "stdout",
     "output_type": "stream",
     "text": [
      "  Baixando POMO4.SA...\n"
     ]
    },
    {
     "name": "stderr",
     "output_type": "stream",
     "text": [
      "[*********************100%***********************]  1 of 1 completed\n",
      "C:\\Users\\Gustavo\\AppData\\Local\\Temp\\ipykernel_20712\\2292063328.py:53: FutureWarning: YF.download() has changed argument auto_adjust default to True\n",
      "  data = yf.download(ticker, period=PERIODO_DADOS, interval=intervalo_yf)\n"
     ]
    },
    {
     "name": "stdout",
     "output_type": "stream",
     "text": [
      "  Baixando MOTV3.SA...\n"
     ]
    },
    {
     "name": "stderr",
     "output_type": "stream",
     "text": [
      "[*********************100%***********************]  1 of 1 completed\n",
      "C:\\Users\\Gustavo\\AppData\\Local\\Temp\\ipykernel_20712\\2292063328.py:53: FutureWarning: YF.download() has changed argument auto_adjust default to True\n",
      "  data = yf.download(ticker, period=PERIODO_DADOS, interval=intervalo_yf)\n"
     ]
    },
    {
     "name": "stdout",
     "output_type": "stream",
     "text": [
      "  Baixando ANIM3.SA...\n"
     ]
    },
    {
     "name": "stderr",
     "output_type": "stream",
     "text": [
      "[*********************100%***********************]  1 of 1 completed\n",
      "C:\\Users\\Gustavo\\AppData\\Local\\Temp\\ipykernel_20712\\2292063328.py:53: FutureWarning: YF.download() has changed argument auto_adjust default to True\n",
      "  data = yf.download(ticker, period=PERIODO_DADOS, interval=intervalo_yf)\n"
     ]
    },
    {
     "name": "stdout",
     "output_type": "stream",
     "text": [
      "  Baixando NATU3.SA...\n"
     ]
    },
    {
     "name": "stderr",
     "output_type": "stream",
     "text": [
      "[*********************100%***********************]  1 of 1 completed\n",
      "C:\\Users\\Gustavo\\AppData\\Local\\Temp\\ipykernel_20712\\2292063328.py:53: FutureWarning: YF.download() has changed argument auto_adjust default to True\n",
      "  data = yf.download(ticker, period=PERIODO_DADOS, interval=intervalo_yf)\n"
     ]
    },
    {
     "name": "stdout",
     "output_type": "stream",
     "text": [
      "  Baixando BBDC3.SA...\n"
     ]
    },
    {
     "name": "stderr",
     "output_type": "stream",
     "text": [
      "[*********************100%***********************]  1 of 1 completed\n",
      "C:\\Users\\Gustavo\\AppData\\Local\\Temp\\ipykernel_20712\\2292063328.py:53: FutureWarning: YF.download() has changed argument auto_adjust default to True\n",
      "  data = yf.download(ticker, period=PERIODO_DADOS, interval=intervalo_yf)\n"
     ]
    },
    {
     "name": "stdout",
     "output_type": "stream",
     "text": [
      "  Baixando ENEV3.SA...\n"
     ]
    },
    {
     "name": "stderr",
     "output_type": "stream",
     "text": [
      "[*********************100%***********************]  1 of 1 completed\n",
      "C:\\Users\\Gustavo\\AppData\\Local\\Temp\\ipykernel_20712\\2292063328.py:53: FutureWarning: YF.download() has changed argument auto_adjust default to True\n",
      "  data = yf.download(ticker, period=PERIODO_DADOS, interval=intervalo_yf)\n"
     ]
    },
    {
     "name": "stdout",
     "output_type": "stream",
     "text": [
      "  Baixando ONCO3.SA...\n"
     ]
    },
    {
     "name": "stderr",
     "output_type": "stream",
     "text": [
      "[*********************100%***********************]  1 of 1 completed\n",
      "C:\\Users\\Gustavo\\AppData\\Local\\Temp\\ipykernel_20712\\2292063328.py:53: FutureWarning: YF.download() has changed argument auto_adjust default to True\n",
      "  data = yf.download(ticker, period=PERIODO_DADOS, interval=intervalo_yf)\n"
     ]
    },
    {
     "name": "stdout",
     "output_type": "stream",
     "text": [
      "  Baixando CPLE3.SA...\n"
     ]
    },
    {
     "name": "stderr",
     "output_type": "stream",
     "text": [
      "[*********************100%***********************]  1 of 1 completed\n",
      "C:\\Users\\Gustavo\\AppData\\Local\\Temp\\ipykernel_20712\\2292063328.py:53: FutureWarning: YF.download() has changed argument auto_adjust default to True\n",
      "  data = yf.download(ticker, period=PERIODO_DADOS, interval=intervalo_yf)\n"
     ]
    },
    {
     "name": "stdout",
     "output_type": "stream",
     "text": [
      "  Baixando HBSA3.SA...\n"
     ]
    },
    {
     "name": "stderr",
     "output_type": "stream",
     "text": [
      "[*********************100%***********************]  1 of 1 completed\n",
      "C:\\Users\\Gustavo\\AppData\\Local\\Temp\\ipykernel_20712\\2292063328.py:53: FutureWarning: YF.download() has changed argument auto_adjust default to True\n",
      "  data = yf.download(ticker, period=PERIODO_DADOS, interval=intervalo_yf)\n"
     ]
    },
    {
     "name": "stdout",
     "output_type": "stream",
     "text": [
      "  Baixando AMBP3.SA...\n"
     ]
    },
    {
     "name": "stderr",
     "output_type": "stream",
     "text": [
      "[*********************100%***********************]  1 of 1 completed\n",
      "C:\\Users\\Gustavo\\AppData\\Local\\Temp\\ipykernel_20712\\2292063328.py:53: FutureWarning: YF.download() has changed argument auto_adjust default to True\n",
      "  data = yf.download(ticker, period=PERIODO_DADOS, interval=intervalo_yf)\n"
     ]
    },
    {
     "name": "stdout",
     "output_type": "stream",
     "text": [
      "  Baixando RAIZ4.SA...\n"
     ]
    },
    {
     "name": "stderr",
     "output_type": "stream",
     "text": [
      "[*********************100%***********************]  1 of 1 completed\n",
      "C:\\Users\\Gustavo\\AppData\\Local\\Temp\\ipykernel_20712\\2292063328.py:53: FutureWarning: YF.download() has changed argument auto_adjust default to True\n",
      "  data = yf.download(ticker, period=PERIODO_DADOS, interval=intervalo_yf)\n"
     ]
    },
    {
     "name": "stdout",
     "output_type": "stream",
     "text": [
      "  Baixando AZZA3.SA...\n"
     ]
    },
    {
     "name": "stderr",
     "output_type": "stream",
     "text": [
      "[*********************100%***********************]  1 of 1 completed\n",
      "C:\\Users\\Gustavo\\AppData\\Local\\Temp\\ipykernel_20712\\2292063328.py:53: FutureWarning: YF.download() has changed argument auto_adjust default to True\n",
      "  data = yf.download(ticker, period=PERIODO_DADOS, interval=intervalo_yf)\n"
     ]
    },
    {
     "name": "stdout",
     "output_type": "stream",
     "text": [
      "  Baixando LIGT3.SA...\n"
     ]
    },
    {
     "name": "stderr",
     "output_type": "stream",
     "text": [
      "[*********************100%***********************]  1 of 1 completed\n",
      "C:\\Users\\Gustavo\\AppData\\Local\\Temp\\ipykernel_20712\\2292063328.py:53: FutureWarning: YF.download() has changed argument auto_adjust default to True\n",
      "  data = yf.download(ticker, period=PERIODO_DADOS, interval=intervalo_yf)\n",
      "[*********************100%***********************]  1 of 1 completed\n",
      "\n",
      "1 Failed download:\n",
      "['SULA11.SA']: YFTzMissingError('possibly delisted; no timezone found')\n",
      "C:\\Users\\Gustavo\\AppData\\Local\\Temp\\ipykernel_20712\\2292063328.py:53: FutureWarning: YF.download() has changed argument auto_adjust default to True\n",
      "  data = yf.download(ticker, period=PERIODO_DADOS, interval=intervalo_yf)\n"
     ]
    },
    {
     "name": "stdout",
     "output_type": "stream",
     "text": [
      "  Baixando SULA11.SA...\n",
      "  Sem dados para SULA11.SA no intervalo 1wk.\n",
      "  Baixando HYPE3.SA...\n"
     ]
    },
    {
     "name": "stderr",
     "output_type": "stream",
     "text": [
      "[*********************100%***********************]  1 of 1 completed\n",
      "C:\\Users\\Gustavo\\AppData\\Local\\Temp\\ipykernel_20712\\2292063328.py:53: FutureWarning: YF.download() has changed argument auto_adjust default to True\n",
      "  data = yf.download(ticker, period=PERIODO_DADOS, interval=intervalo_yf)\n"
     ]
    },
    {
     "name": "stdout",
     "output_type": "stream",
     "text": [
      "  Baixando JHSF3.SA...\n"
     ]
    },
    {
     "name": "stderr",
     "output_type": "stream",
     "text": [
      "[*********************100%***********************]  1 of 1 completed\n",
      "C:\\Users\\Gustavo\\AppData\\Local\\Temp\\ipykernel_20712\\2292063328.py:53: FutureWarning: YF.download() has changed argument auto_adjust default to True\n",
      "  data = yf.download(ticker, period=PERIODO_DADOS, interval=intervalo_yf)\n",
      "[*********************100%***********************]  1 of 1 completed\n",
      "\n",
      "1 Failed download:\n",
      "['SMLS3.SA']: YFTzMissingError('possibly delisted; no timezone found')\n",
      "C:\\Users\\Gustavo\\AppData\\Local\\Temp\\ipykernel_20712\\2292063328.py:53: FutureWarning: YF.download() has changed argument auto_adjust default to True\n",
      "  data = yf.download(ticker, period=PERIODO_DADOS, interval=intervalo_yf)\n"
     ]
    },
    {
     "name": "stdout",
     "output_type": "stream",
     "text": [
      "  Baixando SMLS3.SA...\n",
      "  Sem dados para SMLS3.SA no intervalo 1wk.\n",
      "  Baixando CSED3.SA...\n"
     ]
    },
    {
     "name": "stderr",
     "output_type": "stream",
     "text": [
      "[*********************100%***********************]  1 of 1 completed\n",
      "C:\\Users\\Gustavo\\AppData\\Local\\Temp\\ipykernel_20712\\2292063328.py:53: FutureWarning: YF.download() has changed argument auto_adjust default to True\n",
      "  data = yf.download(ticker, period=PERIODO_DADOS, interval=intervalo_yf)\n"
     ]
    },
    {
     "name": "stdout",
     "output_type": "stream",
     "text": [
      "  Baixando TUPY3.SA...\n"
     ]
    },
    {
     "name": "stderr",
     "output_type": "stream",
     "text": [
      "[*********************100%***********************]  1 of 1 completed\n",
      "C:\\Users\\Gustavo\\AppData\\Local\\Temp\\ipykernel_20712\\2292063328.py:53: FutureWarning: YF.download() has changed argument auto_adjust default to True\n",
      "  data = yf.download(ticker, period=PERIODO_DADOS, interval=intervalo_yf)\n"
     ]
    },
    {
     "name": "stdout",
     "output_type": "stream",
     "text": [
      "  Baixando BRKM5.SA...\n"
     ]
    },
    {
     "name": "stderr",
     "output_type": "stream",
     "text": [
      "[*********************100%***********************]  1 of 1 completed\n",
      "C:\\Users\\Gustavo\\AppData\\Local\\Temp\\ipykernel_20712\\2292063328.py:53: FutureWarning: YF.download() has changed argument auto_adjust default to True\n",
      "  data = yf.download(ticker, period=PERIODO_DADOS, interval=intervalo_yf)\n"
     ]
    },
    {
     "name": "stdout",
     "output_type": "stream",
     "text": [
      "  Baixando CASH3.SA...\n"
     ]
    },
    {
     "name": "stderr",
     "output_type": "stream",
     "text": [
      "[*********************100%***********************]  1 of 1 completed\n",
      "C:\\Users\\Gustavo\\AppData\\Local\\Temp\\ipykernel_20712\\2292063328.py:53: FutureWarning: YF.download() has changed argument auto_adjust default to True\n",
      "  data = yf.download(ticker, period=PERIODO_DADOS, interval=intervalo_yf)\n",
      "[*********************100%***********************]  1 of 1 completed\n",
      "\n",
      "1 Failed download:\n",
      "['IGTA3.SA']: YFTzMissingError('possibly delisted; no timezone found')\n"
     ]
    },
    {
     "name": "stdout",
     "output_type": "stream",
     "text": [
      "  Baixando IGTA3.SA...\n",
      "  Sem dados para IGTA3.SA no intervalo 1wk.\n",
      "  Salvando dados na tabela SQL: 'candles_semanais'...\n",
      "  Tabela 'candles_semanais' salva com sucesso!\n",
      "\n",
      "Buscando dados para: candles_mensais (Intervalo: 1mo)\n",
      "  Baixando PETR4.SA...\n"
     ]
    },
    {
     "name": "stderr",
     "output_type": "stream",
     "text": [
      "C:\\Users\\Gustavo\\AppData\\Local\\Temp\\ipykernel_20712\\2292063328.py:53: FutureWarning: YF.download() has changed argument auto_adjust default to True\n",
      "  data = yf.download(ticker, period=PERIODO_DADOS, interval=intervalo_yf)\n",
      "[*********************100%***********************]  1 of 1 completed\n",
      "C:\\Users\\Gustavo\\AppData\\Local\\Temp\\ipykernel_20712\\2292063328.py:53: FutureWarning: YF.download() has changed argument auto_adjust default to True\n",
      "  data = yf.download(ticker, period=PERIODO_DADOS, interval=intervalo_yf)\n"
     ]
    },
    {
     "name": "stdout",
     "output_type": "stream",
     "text": [
      "  Baixando VALE3.SA...\n"
     ]
    },
    {
     "name": "stderr",
     "output_type": "stream",
     "text": [
      "[*********************100%***********************]  1 of 1 completed\n",
      "C:\\Users\\Gustavo\\AppData\\Local\\Temp\\ipykernel_20712\\2292063328.py:53: FutureWarning: YF.download() has changed argument auto_adjust default to True\n",
      "  data = yf.download(ticker, period=PERIODO_DADOS, interval=intervalo_yf)\n"
     ]
    },
    {
     "name": "stdout",
     "output_type": "stream",
     "text": [
      "  Baixando ITUB4.SA...\n"
     ]
    },
    {
     "name": "stderr",
     "output_type": "stream",
     "text": [
      "[*********************100%***********************]  1 of 1 completed\n",
      "C:\\Users\\Gustavo\\AppData\\Local\\Temp\\ipykernel_20712\\2292063328.py:53: FutureWarning: YF.download() has changed argument auto_adjust default to True\n",
      "  data = yf.download(ticker, period=PERIODO_DADOS, interval=intervalo_yf)\n"
     ]
    },
    {
     "name": "stdout",
     "output_type": "stream",
     "text": [
      "  Baixando BBAS3.SA...\n"
     ]
    },
    {
     "name": "stderr",
     "output_type": "stream",
     "text": [
      "[*********************100%***********************]  1 of 1 completed\n",
      "C:\\Users\\Gustavo\\AppData\\Local\\Temp\\ipykernel_20712\\2292063328.py:53: FutureWarning: YF.download() has changed argument auto_adjust default to True\n",
      "  data = yf.download(ticker, period=PERIODO_DADOS, interval=intervalo_yf)\n"
     ]
    },
    {
     "name": "stdout",
     "output_type": "stream",
     "text": [
      "  Baixando BBDC4.SA...\n"
     ]
    },
    {
     "name": "stderr",
     "output_type": "stream",
     "text": [
      "[*********************100%***********************]  1 of 1 completed\n",
      "C:\\Users\\Gustavo\\AppData\\Local\\Temp\\ipykernel_20712\\2292063328.py:53: FutureWarning: YF.download() has changed argument auto_adjust default to True\n",
      "  data = yf.download(ticker, period=PERIODO_DADOS, interval=intervalo_yf)\n"
     ]
    },
    {
     "name": "stdout",
     "output_type": "stream",
     "text": [
      "  Baixando ABEV3.SA...\n"
     ]
    },
    {
     "name": "stderr",
     "output_type": "stream",
     "text": [
      "[*********************100%***********************]  1 of 1 completed\n",
      "C:\\Users\\Gustavo\\AppData\\Local\\Temp\\ipykernel_20712\\2292063328.py:53: FutureWarning: YF.download() has changed argument auto_adjust default to True\n",
      "  data = yf.download(ticker, period=PERIODO_DADOS, interval=intervalo_yf)\n"
     ]
    },
    {
     "name": "stdout",
     "output_type": "stream",
     "text": [
      "  Baixando B3SA3.SA...\n"
     ]
    },
    {
     "name": "stderr",
     "output_type": "stream",
     "text": [
      "[*********************100%***********************]  1 of 1 completed\n",
      "C:\\Users\\Gustavo\\AppData\\Local\\Temp\\ipykernel_20712\\2292063328.py:53: FutureWarning: YF.download() has changed argument auto_adjust default to True\n",
      "  data = yf.download(ticker, period=PERIODO_DADOS, interval=intervalo_yf)\n"
     ]
    },
    {
     "name": "stdout",
     "output_type": "stream",
     "text": [
      "  Baixando ELET3.SA...\n"
     ]
    },
    {
     "name": "stderr",
     "output_type": "stream",
     "text": [
      "[*********************100%***********************]  1 of 1 completed\n",
      "C:\\Users\\Gustavo\\AppData\\Local\\Temp\\ipykernel_20712\\2292063328.py:53: FutureWarning: YF.download() has changed argument auto_adjust default to True\n",
      "  data = yf.download(ticker, period=PERIODO_DADOS, interval=intervalo_yf)\n"
     ]
    },
    {
     "name": "stdout",
     "output_type": "stream",
     "text": [
      "  Baixando WEGE3.SA...\n"
     ]
    },
    {
     "name": "stderr",
     "output_type": "stream",
     "text": [
      "[*********************100%***********************]  1 of 1 completed\n",
      "C:\\Users\\Gustavo\\AppData\\Local\\Temp\\ipykernel_20712\\2292063328.py:53: FutureWarning: YF.download() has changed argument auto_adjust default to True\n",
      "  data = yf.download(ticker, period=PERIODO_DADOS, interval=intervalo_yf)\n"
     ]
    },
    {
     "name": "stdout",
     "output_type": "stream",
     "text": [
      "  Baixando RENT3.SA...\n"
     ]
    },
    {
     "name": "stderr",
     "output_type": "stream",
     "text": [
      "[*********************100%***********************]  1 of 1 completed\n",
      "C:\\Users\\Gustavo\\AppData\\Local\\Temp\\ipykernel_20712\\2292063328.py:53: FutureWarning: YF.download() has changed argument auto_adjust default to True\n",
      "  data = yf.download(ticker, period=PERIODO_DADOS, interval=intervalo_yf)\n"
     ]
    },
    {
     "name": "stdout",
     "output_type": "stream",
     "text": [
      "  Baixando BPAC11.SA...\n"
     ]
    },
    {
     "name": "stderr",
     "output_type": "stream",
     "text": [
      "[*********************100%***********************]  1 of 1 completed\n",
      "C:\\Users\\Gustavo\\AppData\\Local\\Temp\\ipykernel_20712\\2292063328.py:53: FutureWarning: YF.download() has changed argument auto_adjust default to True\n",
      "  data = yf.download(ticker, period=PERIODO_DADOS, interval=intervalo_yf)\n"
     ]
    },
    {
     "name": "stdout",
     "output_type": "stream",
     "text": [
      "  Baixando RADL3.SA...\n"
     ]
    },
    {
     "name": "stderr",
     "output_type": "stream",
     "text": [
      "[*********************100%***********************]  1 of 1 completed\n",
      "C:\\Users\\Gustavo\\AppData\\Local\\Temp\\ipykernel_20712\\2292063328.py:53: FutureWarning: YF.download() has changed argument auto_adjust default to True\n",
      "  data = yf.download(ticker, period=PERIODO_DADOS, interval=intervalo_yf)\n"
     ]
    },
    {
     "name": "stdout",
     "output_type": "stream",
     "text": [
      "  Baixando ITSA4.SA...\n"
     ]
    },
    {
     "name": "stderr",
     "output_type": "stream",
     "text": [
      "[*********************100%***********************]  1 of 1 completed\n",
      "C:\\Users\\Gustavo\\AppData\\Local\\Temp\\ipykernel_20712\\2292063328.py:53: FutureWarning: YF.download() has changed argument auto_adjust default to True\n",
      "  data = yf.download(ticker, period=PERIODO_DADOS, interval=intervalo_yf)\n"
     ]
    },
    {
     "name": "stdout",
     "output_type": "stream",
     "text": [
      "  Baixando PRIO3.SA...\n"
     ]
    },
    {
     "name": "stderr",
     "output_type": "stream",
     "text": [
      "[*********************100%***********************]  1 of 1 completed\n",
      "C:\\Users\\Gustavo\\AppData\\Local\\Temp\\ipykernel_20712\\2292063328.py:53: FutureWarning: YF.download() has changed argument auto_adjust default to True\n",
      "  data = yf.download(ticker, period=PERIODO_DADOS, interval=intervalo_yf)\n"
     ]
    },
    {
     "name": "stdout",
     "output_type": "stream",
     "text": [
      "  Baixando MGLU3.SA...\n"
     ]
    },
    {
     "name": "stderr",
     "output_type": "stream",
     "text": [
      "[*********************100%***********************]  1 of 1 completed\n",
      "C:\\Users\\Gustavo\\AppData\\Local\\Temp\\ipykernel_20712\\2292063328.py:53: FutureWarning: YF.download() has changed argument auto_adjust default to True\n",
      "  data = yf.download(ticker, period=PERIODO_DADOS, interval=intervalo_yf)\n"
     ]
    },
    {
     "name": "stdout",
     "output_type": "stream",
     "text": [
      "  Baixando UGPA3.SA...\n"
     ]
    },
    {
     "name": "stderr",
     "output_type": "stream",
     "text": [
      "[*********************100%***********************]  1 of 1 completed\n",
      "C:\\Users\\Gustavo\\AppData\\Local\\Temp\\ipykernel_20712\\2292063328.py:53: FutureWarning: YF.download() has changed argument auto_adjust default to True\n",
      "  data = yf.download(ticker, period=PERIODO_DADOS, interval=intervalo_yf)\n"
     ]
    },
    {
     "name": "stdout",
     "output_type": "stream",
     "text": [
      "  Baixando GGBR4.SA...\n"
     ]
    },
    {
     "name": "stderr",
     "output_type": "stream",
     "text": [
      "[*********************100%***********************]  1 of 1 completed\n",
      "C:\\Users\\Gustavo\\AppData\\Local\\Temp\\ipykernel_20712\\2292063328.py:53: FutureWarning: YF.download() has changed argument auto_adjust default to True\n",
      "  data = yf.download(ticker, period=PERIODO_DADOS, interval=intervalo_yf)\n"
     ]
    },
    {
     "name": "stdout",
     "output_type": "stream",
     "text": [
      "  Baixando ASAI3.SA...\n"
     ]
    },
    {
     "name": "stderr",
     "output_type": "stream",
     "text": [
      "[*********************100%***********************]  1 of 1 completed\n",
      "C:\\Users\\Gustavo\\AppData\\Local\\Temp\\ipykernel_20712\\2292063328.py:53: FutureWarning: YF.download() has changed argument auto_adjust default to True\n",
      "  data = yf.download(ticker, period=PERIODO_DADOS, interval=intervalo_yf)\n"
     ]
    },
    {
     "name": "stdout",
     "output_type": "stream",
     "text": [
      "  Baixando SUZB3.SA...\n"
     ]
    },
    {
     "name": "stderr",
     "output_type": "stream",
     "text": [
      "[*********************100%***********************]  1 of 1 completed\n",
      "C:\\Users\\Gustavo\\AppData\\Local\\Temp\\ipykernel_20712\\2292063328.py:53: FutureWarning: YF.download() has changed argument auto_adjust default to True\n",
      "  data = yf.download(ticker, period=PERIODO_DADOS, interval=intervalo_yf)\n"
     ]
    },
    {
     "name": "stdout",
     "output_type": "stream",
     "text": [
      "  Baixando VBBR3.SA...\n"
     ]
    },
    {
     "name": "stderr",
     "output_type": "stream",
     "text": [
      "[*********************100%***********************]  1 of 1 completed\n",
      "C:\\Users\\Gustavo\\AppData\\Local\\Temp\\ipykernel_20712\\2292063328.py:53: FutureWarning: YF.download() has changed argument auto_adjust default to True\n",
      "  data = yf.download(ticker, period=PERIODO_DADOS, interval=intervalo_yf)\n"
     ]
    },
    {
     "name": "stdout",
     "output_type": "stream",
     "text": [
      "  Baixando CPLE6.SA...\n"
     ]
    },
    {
     "name": "stderr",
     "output_type": "stream",
     "text": [
      "[*********************100%***********************]  1 of 1 completed\n",
      "C:\\Users\\Gustavo\\AppData\\Local\\Temp\\ipykernel_20712\\2292063328.py:53: FutureWarning: YF.download() has changed argument auto_adjust default to True\n",
      "  data = yf.download(ticker, period=PERIODO_DADOS, interval=intervalo_yf)\n"
     ]
    },
    {
     "name": "stdout",
     "output_type": "stream",
     "text": [
      "  Baixando LREN3.SA...\n"
     ]
    },
    {
     "name": "stderr",
     "output_type": "stream",
     "text": [
      "[*********************100%***********************]  1 of 1 completed\n",
      "C:\\Users\\Gustavo\\AppData\\Local\\Temp\\ipykernel_20712\\2292063328.py:53: FutureWarning: YF.download() has changed argument auto_adjust default to True\n",
      "  data = yf.download(ticker, period=PERIODO_DADOS, interval=intervalo_yf)\n"
     ]
    },
    {
     "name": "stdout",
     "output_type": "stream",
     "text": [
      "  Baixando KLBN11.SA...\n"
     ]
    },
    {
     "name": "stderr",
     "output_type": "stream",
     "text": [
      "[*********************100%***********************]  1 of 1 completed\n",
      "C:\\Users\\Gustavo\\AppData\\Local\\Temp\\ipykernel_20712\\2292063328.py:53: FutureWarning: YF.download() has changed argument auto_adjust default to True\n",
      "  data = yf.download(ticker, period=PERIODO_DADOS, interval=intervalo_yf)\n"
     ]
    },
    {
     "name": "stdout",
     "output_type": "stream",
     "text": [
      "  Baixando RAIL3.SA...\n"
     ]
    },
    {
     "name": "stderr",
     "output_type": "stream",
     "text": [
      "[*********************100%***********************]  1 of 1 completed\n",
      "C:\\Users\\Gustavo\\AppData\\Local\\Temp\\ipykernel_20712\\2292063328.py:53: FutureWarning: YF.download() has changed argument auto_adjust default to True\n",
      "  data = yf.download(ticker, period=PERIODO_DADOS, interval=intervalo_yf)\n"
     ]
    },
    {
     "name": "stdout",
     "output_type": "stream",
     "text": [
      "  Baixando BBSE3.SA...\n"
     ]
    },
    {
     "name": "stderr",
     "output_type": "stream",
     "text": [
      "[*********************100%***********************]  1 of 1 completed\n",
      "C:\\Users\\Gustavo\\AppData\\Local\\Temp\\ipykernel_20712\\2292063328.py:53: FutureWarning: YF.download() has changed argument auto_adjust default to True\n",
      "  data = yf.download(ticker, period=PERIODO_DADOS, interval=intervalo_yf)\n"
     ]
    },
    {
     "name": "stdout",
     "output_type": "stream",
     "text": [
      "  Baixando EQTL3.SA...\n"
     ]
    },
    {
     "name": "stderr",
     "output_type": "stream",
     "text": [
      "[*********************100%***********************]  1 of 1 completed\n",
      "C:\\Users\\Gustavo\\AppData\\Local\\Temp\\ipykernel_20712\\2292063328.py:53: FutureWarning: YF.download() has changed argument auto_adjust default to True\n",
      "  data = yf.download(ticker, period=PERIODO_DADOS, interval=intervalo_yf)\n"
     ]
    },
    {
     "name": "stdout",
     "output_type": "stream",
     "text": [
      "  Baixando CMIG4.SA...\n"
     ]
    },
    {
     "name": "stderr",
     "output_type": "stream",
     "text": [
      "[*********************100%***********************]  1 of 1 completed\n",
      "C:\\Users\\Gustavo\\AppData\\Local\\Temp\\ipykernel_20712\\2292063328.py:53: FutureWarning: YF.download() has changed argument auto_adjust default to True\n",
      "  data = yf.download(ticker, period=PERIODO_DADOS, interval=intervalo_yf)\n"
     ]
    },
    {
     "name": "stdout",
     "output_type": "stream",
     "text": [
      "  Baixando RDOR3.SA...\n"
     ]
    },
    {
     "name": "stderr",
     "output_type": "stream",
     "text": [
      "[*********************100%***********************]  1 of 1 completed\n",
      "C:\\Users\\Gustavo\\AppData\\Local\\Temp\\ipykernel_20712\\2292063328.py:53: FutureWarning: YF.download() has changed argument auto_adjust default to True\n",
      "  data = yf.download(ticker, period=PERIODO_DADOS, interval=intervalo_yf)\n"
     ]
    },
    {
     "name": "stdout",
     "output_type": "stream",
     "text": [
      "  Baixando EMBR3.SA...\n"
     ]
    },
    {
     "name": "stderr",
     "output_type": "stream",
     "text": [
      "[*********************100%***********************]  1 of 1 completed\n",
      "C:\\Users\\Gustavo\\AppData\\Local\\Temp\\ipykernel_20712\\2292063328.py:53: FutureWarning: YF.download() has changed argument auto_adjust default to True\n",
      "  data = yf.download(ticker, period=PERIODO_DADOS, interval=intervalo_yf)\n"
     ]
    },
    {
     "name": "stdout",
     "output_type": "stream",
     "text": [
      "  Baixando SBSP3.SA...\n"
     ]
    },
    {
     "name": "stderr",
     "output_type": "stream",
     "text": [
      "[*********************100%***********************]  1 of 1 completed\n",
      "C:\\Users\\Gustavo\\AppData\\Local\\Temp\\ipykernel_20712\\2292063328.py:53: FutureWarning: YF.download() has changed argument auto_adjust default to True\n",
      "  data = yf.download(ticker, period=PERIODO_DADOS, interval=intervalo_yf)\n"
     ]
    },
    {
     "name": "stdout",
     "output_type": "stream",
     "text": [
      "  Baixando VAMO3.SA...\n"
     ]
    },
    {
     "name": "stderr",
     "output_type": "stream",
     "text": [
      "[*********************100%***********************]  1 of 1 completed\n",
      "C:\\Users\\Gustavo\\AppData\\Local\\Temp\\ipykernel_20712\\2292063328.py:53: FutureWarning: YF.download() has changed argument auto_adjust default to True\n",
      "  data = yf.download(ticker, period=PERIODO_DADOS, interval=intervalo_yf)\n"
     ]
    },
    {
     "name": "stdout",
     "output_type": "stream",
     "text": [
      "  Baixando BEEF3.SA...\n"
     ]
    },
    {
     "name": "stderr",
     "output_type": "stream",
     "text": [
      "[*********************100%***********************]  1 of 1 completed\n",
      "C:\\Users\\Gustavo\\AppData\\Local\\Temp\\ipykernel_20712\\2292063328.py:53: FutureWarning: YF.download() has changed argument auto_adjust default to True\n",
      "  data = yf.download(ticker, period=PERIODO_DADOS, interval=intervalo_yf)\n"
     ]
    },
    {
     "name": "stdout",
     "output_type": "stream",
     "text": [
      "  Baixando CSAN3.SA...\n"
     ]
    },
    {
     "name": "stderr",
     "output_type": "stream",
     "text": [
      "[*********************100%***********************]  1 of 1 completed\n",
      "C:\\Users\\Gustavo\\AppData\\Local\\Temp\\ipykernel_20712\\2292063328.py:53: FutureWarning: YF.download() has changed argument auto_adjust default to True\n",
      "  data = yf.download(ticker, period=PERIODO_DADOS, interval=intervalo_yf)\n"
     ]
    },
    {
     "name": "stdout",
     "output_type": "stream",
     "text": [
      "  Baixando COGN3.SA...\n"
     ]
    },
    {
     "name": "stderr",
     "output_type": "stream",
     "text": [
      "[*********************100%***********************]  1 of 1 completed\n",
      "C:\\Users\\Gustavo\\AppData\\Local\\Temp\\ipykernel_20712\\2292063328.py:53: FutureWarning: YF.download() has changed argument auto_adjust default to True\n",
      "  data = yf.download(ticker, period=PERIODO_DADOS, interval=intervalo_yf)\n"
     ]
    },
    {
     "name": "stdout",
     "output_type": "stream",
     "text": [
      "  Baixando TOTS3.SA...\n"
     ]
    },
    {
     "name": "stderr",
     "output_type": "stream",
     "text": [
      "[*********************100%***********************]  1 of 1 completed\n",
      "C:\\Users\\Gustavo\\AppData\\Local\\Temp\\ipykernel_20712\\2292063328.py:53: FutureWarning: YF.download() has changed argument auto_adjust default to True\n",
      "  data = yf.download(ticker, period=PERIODO_DADOS, interval=intervalo_yf)\n"
     ]
    },
    {
     "name": "stdout",
     "output_type": "stream",
     "text": [
      "  Baixando TIMS3.SA...\n"
     ]
    },
    {
     "name": "stderr",
     "output_type": "stream",
     "text": [
      "[*********************100%***********************]  1 of 1 completed\n",
      "C:\\Users\\Gustavo\\AppData\\Local\\Temp\\ipykernel_20712\\2292063328.py:53: FutureWarning: YF.download() has changed argument auto_adjust default to True\n",
      "  data = yf.download(ticker, period=PERIODO_DADOS, interval=intervalo_yf)\n"
     ]
    },
    {
     "name": "stdout",
     "output_type": "stream",
     "text": [
      "  Baixando FLRY3.SA...\n"
     ]
    },
    {
     "name": "stderr",
     "output_type": "stream",
     "text": [
      "[*********************100%***********************]  1 of 1 completed\n",
      "C:\\Users\\Gustavo\\AppData\\Local\\Temp\\ipykernel_20712\\2292063328.py:53: FutureWarning: YF.download() has changed argument auto_adjust default to True\n",
      "  data = yf.download(ticker, period=PERIODO_DADOS, interval=intervalo_yf)\n"
     ]
    },
    {
     "name": "stdout",
     "output_type": "stream",
     "text": [
      "  Baixando PETR3.SA...\n"
     ]
    },
    {
     "name": "stderr",
     "output_type": "stream",
     "text": [
      "[*********************100%***********************]  1 of 1 completed\n",
      "C:\\Users\\Gustavo\\AppData\\Local\\Temp\\ipykernel_20712\\2292063328.py:53: FutureWarning: YF.download() has changed argument auto_adjust default to True\n",
      "  data = yf.download(ticker, period=PERIODO_DADOS, interval=intervalo_yf)\n"
     ]
    },
    {
     "name": "stdout",
     "output_type": "stream",
     "text": [
      "  Baixando USIM5.SA...\n"
     ]
    },
    {
     "name": "stderr",
     "output_type": "stream",
     "text": [
      "[*********************100%***********************]  1 of 1 completed\n",
      "C:\\Users\\Gustavo\\AppData\\Local\\Temp\\ipykernel_20712\\2292063328.py:53: FutureWarning: YF.download() has changed argument auto_adjust default to True\n",
      "  data = yf.download(ticker, period=PERIODO_DADOS, interval=intervalo_yf)\n"
     ]
    },
    {
     "name": "stdout",
     "output_type": "stream",
     "text": [
      "  Baixando BRAV3.SA...\n"
     ]
    },
    {
     "name": "stderr",
     "output_type": "stream",
     "text": [
      "[*********************100%***********************]  1 of 1 completed\n",
      "C:\\Users\\Gustavo\\AppData\\Local\\Temp\\ipykernel_20712\\2292063328.py:53: FutureWarning: YF.download() has changed argument auto_adjust default to True\n",
      "  data = yf.download(ticker, period=PERIODO_DADOS, interval=intervalo_yf)\n"
     ]
    },
    {
     "name": "stdout",
     "output_type": "stream",
     "text": [
      "  Baixando NEOE3.SA...\n"
     ]
    },
    {
     "name": "stderr",
     "output_type": "stream",
     "text": [
      "[*********************100%***********************]  1 of 1 completed\n",
      "C:\\Users\\Gustavo\\AppData\\Local\\Temp\\ipykernel_20712\\2292063328.py:53: FutureWarning: YF.download() has changed argument auto_adjust default to True\n",
      "  data = yf.download(ticker, period=PERIODO_DADOS, interval=intervalo_yf)\n"
     ]
    },
    {
     "name": "stdout",
     "output_type": "stream",
     "text": [
      "  Baixando CSNA3.SA...\n"
     ]
    },
    {
     "name": "stderr",
     "output_type": "stream",
     "text": [
      "[*********************100%***********************]  1 of 1 completed\n",
      "C:\\Users\\Gustavo\\AppData\\Local\\Temp\\ipykernel_20712\\2292063328.py:53: FutureWarning: YF.download() has changed argument auto_adjust default to True\n",
      "  data = yf.download(ticker, period=PERIODO_DADOS, interval=intervalo_yf)\n"
     ]
    },
    {
     "name": "stdout",
     "output_type": "stream",
     "text": [
      "  Baixando AURE3.SA...\n"
     ]
    },
    {
     "name": "stderr",
     "output_type": "stream",
     "text": [
      "[*********************100%***********************]  1 of 1 completed\n",
      "C:\\Users\\Gustavo\\AppData\\Local\\Temp\\ipykernel_20712\\2292063328.py:53: FutureWarning: YF.download() has changed argument auto_adjust default to True\n",
      "  data = yf.download(ticker, period=PERIODO_DADOS, interval=intervalo_yf)\n"
     ]
    },
    {
     "name": "stdout",
     "output_type": "stream",
     "text": [
      "  Baixando MRVE3.SA...\n"
     ]
    },
    {
     "name": "stderr",
     "output_type": "stream",
     "text": [
      "[*********************100%***********************]  1 of 1 completed\n",
      "C:\\Users\\Gustavo\\AppData\\Local\\Temp\\ipykernel_20712\\2292063328.py:53: FutureWarning: YF.download() has changed argument auto_adjust default to True\n",
      "  data = yf.download(ticker, period=PERIODO_DADOS, interval=intervalo_yf)\n"
     ]
    },
    {
     "name": "stdout",
     "output_type": "stream",
     "text": [
      "  Baixando AZUL4.SA...\n"
     ]
    },
    {
     "name": "stderr",
     "output_type": "stream",
     "text": [
      "[*********************100%***********************]  1 of 1 completed\n",
      "C:\\Users\\Gustavo\\AppData\\Local\\Temp\\ipykernel_20712\\2292063328.py:53: FutureWarning: YF.download() has changed argument auto_adjust default to True\n",
      "  data = yf.download(ticker, period=PERIODO_DADOS, interval=intervalo_yf)\n"
     ]
    },
    {
     "name": "stdout",
     "output_type": "stream",
     "text": [
      "  Baixando GMAT3.SA...\n"
     ]
    },
    {
     "name": "stderr",
     "output_type": "stream",
     "text": [
      "[*********************100%***********************]  1 of 1 completed\n",
      "C:\\Users\\Gustavo\\AppData\\Local\\Temp\\ipykernel_20712\\2292063328.py:53: FutureWarning: YF.download() has changed argument auto_adjust default to True\n",
      "  data = yf.download(ticker, period=PERIODO_DADOS, interval=intervalo_yf)\n"
     ]
    },
    {
     "name": "stdout",
     "output_type": "stream",
     "text": [
      "  Baixando MBRF3.SA...\n"
     ]
    },
    {
     "name": "stderr",
     "output_type": "stream",
     "text": [
      "[*********************100%***********************]  1 of 1 completed\n",
      "C:\\Users\\Gustavo\\AppData\\Local\\Temp\\ipykernel_20712\\2292063328.py:53: FutureWarning: YF.download() has changed argument auto_adjust default to True\n",
      "  data = yf.download(ticker, period=PERIODO_DADOS, interval=intervalo_yf)\n"
     ]
    },
    {
     "name": "stdout",
     "output_type": "stream",
     "text": [
      "  Baixando PCAR3.SA...\n"
     ]
    },
    {
     "name": "stderr",
     "output_type": "stream",
     "text": [
      "[*********************100%***********************]  1 of 1 completed\n",
      "C:\\Users\\Gustavo\\AppData\\Local\\Temp\\ipykernel_20712\\2292063328.py:53: FutureWarning: YF.download() has changed argument auto_adjust default to True\n",
      "  data = yf.download(ticker, period=PERIODO_DADOS, interval=intervalo_yf)\n"
     ]
    },
    {
     "name": "stdout",
     "output_type": "stream",
     "text": [
      "  Baixando VIVA3.SA...\n"
     ]
    },
    {
     "name": "stderr",
     "output_type": "stream",
     "text": [
      "[*********************100%***********************]  1 of 1 completed\n",
      "C:\\Users\\Gustavo\\AppData\\Local\\Temp\\ipykernel_20712\\2292063328.py:53: FutureWarning: YF.download() has changed argument auto_adjust default to True\n",
      "  data = yf.download(ticker, period=PERIODO_DADOS, interval=intervalo_yf)\n"
     ]
    },
    {
     "name": "stdout",
     "output_type": "stream",
     "text": [
      "  Baixando GOAU4.SA...\n"
     ]
    },
    {
     "name": "stderr",
     "output_type": "stream",
     "text": [
      "[*********************100%***********************]  1 of 1 completed\n",
      "C:\\Users\\Gustavo\\AppData\\Local\\Temp\\ipykernel_20712\\2292063328.py:53: FutureWarning: YF.download() has changed argument auto_adjust default to True\n",
      "  data = yf.download(ticker, period=PERIODO_DADOS, interval=intervalo_yf)\n"
     ]
    },
    {
     "name": "stdout",
     "output_type": "stream",
     "text": [
      "  Baixando YDUQ3.SA...\n"
     ]
    },
    {
     "name": "stderr",
     "output_type": "stream",
     "text": [
      "[*********************100%***********************]  1 of 1 completed\n",
      "C:\\Users\\Gustavo\\AppData\\Local\\Temp\\ipykernel_20712\\2292063328.py:53: FutureWarning: YF.download() has changed argument auto_adjust default to True\n",
      "  data = yf.download(ticker, period=PERIODO_DADOS, interval=intervalo_yf)\n"
     ]
    },
    {
     "name": "stdout",
     "output_type": "stream",
     "text": [
      "  Baixando CVCB3.SA...\n"
     ]
    },
    {
     "name": "stderr",
     "output_type": "stream",
     "text": [
      "[*********************100%***********************]  1 of 1 completed\n",
      "C:\\Users\\Gustavo\\AppData\\Local\\Temp\\ipykernel_20712\\2292063328.py:53: FutureWarning: YF.download() has changed argument auto_adjust default to True\n",
      "  data = yf.download(ticker, period=PERIODO_DADOS, interval=intervalo_yf)\n"
     ]
    },
    {
     "name": "stdout",
     "output_type": "stream",
     "text": [
      "  Baixando LWSA3.SA...\n"
     ]
    },
    {
     "name": "stderr",
     "output_type": "stream",
     "text": [
      "[*********************100%***********************]  1 of 1 completed\n",
      "C:\\Users\\Gustavo\\AppData\\Local\\Temp\\ipykernel_20712\\2292063328.py:53: FutureWarning: YF.download() has changed argument auto_adjust default to True\n",
      "  data = yf.download(ticker, period=PERIODO_DADOS, interval=intervalo_yf)\n"
     ]
    },
    {
     "name": "stdout",
     "output_type": "stream",
     "text": [
      "  Baixando POMO4.SA...\n"
     ]
    },
    {
     "name": "stderr",
     "output_type": "stream",
     "text": [
      "[*********************100%***********************]  1 of 1 completed\n",
      "C:\\Users\\Gustavo\\AppData\\Local\\Temp\\ipykernel_20712\\2292063328.py:53: FutureWarning: YF.download() has changed argument auto_adjust default to True\n",
      "  data = yf.download(ticker, period=PERIODO_DADOS, interval=intervalo_yf)\n"
     ]
    },
    {
     "name": "stdout",
     "output_type": "stream",
     "text": [
      "  Baixando MOTV3.SA...\n"
     ]
    },
    {
     "name": "stderr",
     "output_type": "stream",
     "text": [
      "[*********************100%***********************]  1 of 1 completed\n",
      "C:\\Users\\Gustavo\\AppData\\Local\\Temp\\ipykernel_20712\\2292063328.py:53: FutureWarning: YF.download() has changed argument auto_adjust default to True\n",
      "  data = yf.download(ticker, period=PERIODO_DADOS, interval=intervalo_yf)\n"
     ]
    },
    {
     "name": "stdout",
     "output_type": "stream",
     "text": [
      "  Baixando ANIM3.SA...\n"
     ]
    },
    {
     "name": "stderr",
     "output_type": "stream",
     "text": [
      "[*********************100%***********************]  1 of 1 completed\n",
      "C:\\Users\\Gustavo\\AppData\\Local\\Temp\\ipykernel_20712\\2292063328.py:53: FutureWarning: YF.download() has changed argument auto_adjust default to True\n",
      "  data = yf.download(ticker, period=PERIODO_DADOS, interval=intervalo_yf)\n"
     ]
    },
    {
     "name": "stdout",
     "output_type": "stream",
     "text": [
      "  Baixando NATU3.SA...\n"
     ]
    },
    {
     "name": "stderr",
     "output_type": "stream",
     "text": [
      "[*********************100%***********************]  1 of 1 completed\n",
      "C:\\Users\\Gustavo\\AppData\\Local\\Temp\\ipykernel_20712\\2292063328.py:53: FutureWarning: YF.download() has changed argument auto_adjust default to True\n",
      "  data = yf.download(ticker, period=PERIODO_DADOS, interval=intervalo_yf)\n"
     ]
    },
    {
     "name": "stdout",
     "output_type": "stream",
     "text": [
      "  Baixando BBDC3.SA...\n"
     ]
    },
    {
     "name": "stderr",
     "output_type": "stream",
     "text": [
      "[*********************100%***********************]  1 of 1 completed\n",
      "C:\\Users\\Gustavo\\AppData\\Local\\Temp\\ipykernel_20712\\2292063328.py:53: FutureWarning: YF.download() has changed argument auto_adjust default to True\n",
      "  data = yf.download(ticker, period=PERIODO_DADOS, interval=intervalo_yf)\n"
     ]
    },
    {
     "name": "stdout",
     "output_type": "stream",
     "text": [
      "  Baixando ENEV3.SA...\n"
     ]
    },
    {
     "name": "stderr",
     "output_type": "stream",
     "text": [
      "[*********************100%***********************]  1 of 1 completed\n",
      "C:\\Users\\Gustavo\\AppData\\Local\\Temp\\ipykernel_20712\\2292063328.py:53: FutureWarning: YF.download() has changed argument auto_adjust default to True\n",
      "  data = yf.download(ticker, period=PERIODO_DADOS, interval=intervalo_yf)\n"
     ]
    },
    {
     "name": "stdout",
     "output_type": "stream",
     "text": [
      "  Baixando ONCO3.SA...\n"
     ]
    },
    {
     "name": "stderr",
     "output_type": "stream",
     "text": [
      "[*********************100%***********************]  1 of 1 completed\n",
      "C:\\Users\\Gustavo\\AppData\\Local\\Temp\\ipykernel_20712\\2292063328.py:53: FutureWarning: YF.download() has changed argument auto_adjust default to True\n",
      "  data = yf.download(ticker, period=PERIODO_DADOS, interval=intervalo_yf)\n"
     ]
    },
    {
     "name": "stdout",
     "output_type": "stream",
     "text": [
      "  Baixando CPLE3.SA...\n"
     ]
    },
    {
     "name": "stderr",
     "output_type": "stream",
     "text": [
      "[*********************100%***********************]  1 of 1 completed\n",
      "C:\\Users\\Gustavo\\AppData\\Local\\Temp\\ipykernel_20712\\2292063328.py:53: FutureWarning: YF.download() has changed argument auto_adjust default to True\n",
      "  data = yf.download(ticker, period=PERIODO_DADOS, interval=intervalo_yf)\n"
     ]
    },
    {
     "name": "stdout",
     "output_type": "stream",
     "text": [
      "  Baixando HBSA3.SA...\n"
     ]
    },
    {
     "name": "stderr",
     "output_type": "stream",
     "text": [
      "[*********************100%***********************]  1 of 1 completed\n",
      "C:\\Users\\Gustavo\\AppData\\Local\\Temp\\ipykernel_20712\\2292063328.py:53: FutureWarning: YF.download() has changed argument auto_adjust default to True\n",
      "  data = yf.download(ticker, period=PERIODO_DADOS, interval=intervalo_yf)\n"
     ]
    },
    {
     "name": "stdout",
     "output_type": "stream",
     "text": [
      "  Baixando AMBP3.SA...\n"
     ]
    },
    {
     "name": "stderr",
     "output_type": "stream",
     "text": [
      "[*********************100%***********************]  1 of 1 completed\n",
      "C:\\Users\\Gustavo\\AppData\\Local\\Temp\\ipykernel_20712\\2292063328.py:53: FutureWarning: YF.download() has changed argument auto_adjust default to True\n",
      "  data = yf.download(ticker, period=PERIODO_DADOS, interval=intervalo_yf)\n"
     ]
    },
    {
     "name": "stdout",
     "output_type": "stream",
     "text": [
      "  Baixando RAIZ4.SA...\n"
     ]
    },
    {
     "name": "stderr",
     "output_type": "stream",
     "text": [
      "[*********************100%***********************]  1 of 1 completed\n",
      "C:\\Users\\Gustavo\\AppData\\Local\\Temp\\ipykernel_20712\\2292063328.py:53: FutureWarning: YF.download() has changed argument auto_adjust default to True\n",
      "  data = yf.download(ticker, period=PERIODO_DADOS, interval=intervalo_yf)\n"
     ]
    },
    {
     "name": "stdout",
     "output_type": "stream",
     "text": [
      "  Baixando AZZA3.SA...\n"
     ]
    },
    {
     "name": "stderr",
     "output_type": "stream",
     "text": [
      "[*********************100%***********************]  1 of 1 completed\n",
      "C:\\Users\\Gustavo\\AppData\\Local\\Temp\\ipykernel_20712\\2292063328.py:53: FutureWarning: YF.download() has changed argument auto_adjust default to True\n",
      "  data = yf.download(ticker, period=PERIODO_DADOS, interval=intervalo_yf)\n"
     ]
    },
    {
     "name": "stdout",
     "output_type": "stream",
     "text": [
      "  Baixando LIGT3.SA...\n"
     ]
    },
    {
     "name": "stderr",
     "output_type": "stream",
     "text": [
      "[*********************100%***********************]  1 of 1 completed\n",
      "C:\\Users\\Gustavo\\AppData\\Local\\Temp\\ipykernel_20712\\2292063328.py:53: FutureWarning: YF.download() has changed argument auto_adjust default to True\n",
      "  data = yf.download(ticker, period=PERIODO_DADOS, interval=intervalo_yf)\n",
      "[*********************100%***********************]  1 of 1 completed\n",
      "\n",
      "1 Failed download:\n",
      "['SULA11.SA']: YFTzMissingError('possibly delisted; no timezone found')\n",
      "C:\\Users\\Gustavo\\AppData\\Local\\Temp\\ipykernel_20712\\2292063328.py:53: FutureWarning: YF.download() has changed argument auto_adjust default to True\n",
      "  data = yf.download(ticker, period=PERIODO_DADOS, interval=intervalo_yf)\n"
     ]
    },
    {
     "name": "stdout",
     "output_type": "stream",
     "text": [
      "  Baixando SULA11.SA...\n",
      "  Sem dados para SULA11.SA no intervalo 1mo.\n",
      "  Baixando HYPE3.SA...\n"
     ]
    },
    {
     "name": "stderr",
     "output_type": "stream",
     "text": [
      "[*********************100%***********************]  1 of 1 completed\n",
      "C:\\Users\\Gustavo\\AppData\\Local\\Temp\\ipykernel_20712\\2292063328.py:53: FutureWarning: YF.download() has changed argument auto_adjust default to True\n",
      "  data = yf.download(ticker, period=PERIODO_DADOS, interval=intervalo_yf)\n"
     ]
    },
    {
     "name": "stdout",
     "output_type": "stream",
     "text": [
      "  Baixando JHSF3.SA...\n"
     ]
    },
    {
     "name": "stderr",
     "output_type": "stream",
     "text": [
      "[*********************100%***********************]  1 of 1 completed\n",
      "C:\\Users\\Gustavo\\AppData\\Local\\Temp\\ipykernel_20712\\2292063328.py:53: FutureWarning: YF.download() has changed argument auto_adjust default to True\n",
      "  data = yf.download(ticker, period=PERIODO_DADOS, interval=intervalo_yf)\n",
      "[*********************100%***********************]  1 of 1 completed\n",
      "\n",
      "1 Failed download:\n",
      "['SMLS3.SA']: YFTzMissingError('possibly delisted; no timezone found')\n",
      "C:\\Users\\Gustavo\\AppData\\Local\\Temp\\ipykernel_20712\\2292063328.py:53: FutureWarning: YF.download() has changed argument auto_adjust default to True\n",
      "  data = yf.download(ticker, period=PERIODO_DADOS, interval=intervalo_yf)\n"
     ]
    },
    {
     "name": "stdout",
     "output_type": "stream",
     "text": [
      "  Baixando SMLS3.SA...\n",
      "  Sem dados para SMLS3.SA no intervalo 1mo.\n",
      "  Baixando CSED3.SA...\n"
     ]
    },
    {
     "name": "stderr",
     "output_type": "stream",
     "text": [
      "[*********************100%***********************]  1 of 1 completed\n",
      "C:\\Users\\Gustavo\\AppData\\Local\\Temp\\ipykernel_20712\\2292063328.py:53: FutureWarning: YF.download() has changed argument auto_adjust default to True\n",
      "  data = yf.download(ticker, period=PERIODO_DADOS, interval=intervalo_yf)\n"
     ]
    },
    {
     "name": "stdout",
     "output_type": "stream",
     "text": [
      "  Baixando TUPY3.SA...\n"
     ]
    },
    {
     "name": "stderr",
     "output_type": "stream",
     "text": [
      "[*********************100%***********************]  1 of 1 completed\n",
      "C:\\Users\\Gustavo\\AppData\\Local\\Temp\\ipykernel_20712\\2292063328.py:53: FutureWarning: YF.download() has changed argument auto_adjust default to True\n",
      "  data = yf.download(ticker, period=PERIODO_DADOS, interval=intervalo_yf)\n"
     ]
    },
    {
     "name": "stdout",
     "output_type": "stream",
     "text": [
      "  Baixando BRKM5.SA...\n"
     ]
    },
    {
     "name": "stderr",
     "output_type": "stream",
     "text": [
      "[*********************100%***********************]  1 of 1 completed\n",
      "C:\\Users\\Gustavo\\AppData\\Local\\Temp\\ipykernel_20712\\2292063328.py:53: FutureWarning: YF.download() has changed argument auto_adjust default to True\n",
      "  data = yf.download(ticker, period=PERIODO_DADOS, interval=intervalo_yf)\n"
     ]
    },
    {
     "name": "stdout",
     "output_type": "stream",
     "text": [
      "  Baixando CASH3.SA...\n"
     ]
    },
    {
     "name": "stderr",
     "output_type": "stream",
     "text": [
      "[*********************100%***********************]  1 of 1 completed\n",
      "C:\\Users\\Gustavo\\AppData\\Local\\Temp\\ipykernel_20712\\2292063328.py:53: FutureWarning: YF.download() has changed argument auto_adjust default to True\n",
      "  data = yf.download(ticker, period=PERIODO_DADOS, interval=intervalo_yf)\n",
      "[*********************100%***********************]  1 of 1 completed\n",
      "\n",
      "1 Failed download:\n",
      "['IGTA3.SA']: YFTzMissingError('possibly delisted; no timezone found')\n"
     ]
    },
    {
     "name": "stdout",
     "output_type": "stream",
     "text": [
      "  Baixando IGTA3.SA...\n",
      "  Sem dados para IGTA3.SA no intervalo 1mo.\n",
      "  Salvando dados na tabela SQL: 'candles_mensais'...\n",
      "  Tabela 'candles_mensais' salva com sucesso!\n",
      "\n",
      "Processo concluído! Todos os dados foram salvos em 'dados_acoes.db'.\n",
      "Conexão com o banco de dados fechada.\n"
     ]
    }
   ],
   "source": [
    "import yfinance as yf\n",
    "import pandas as pd\n",
    "import sqlite3\n",
    "import os\n",
    "\n",
    "# --- 1. ÁREA DE CONFIGURAÇÃO (FÁCIL DE EDITAR) ---\n",
    "\n",
    "TICKERS = [\n",
    "    'PETR4.SA', 'VALE3.SA', 'ITUB4.SA', 'BBAS3.SA', 'BBDC4.SA', \n",
    "    'ABEV3.SA', 'B3SA3.SA', 'ELET3.SA', 'WEGE3.SA', 'RENT3.SA',\n",
    "    'BPAC11.SA', 'RADL3.SA', 'ITSA4.SA', 'PRIO3.SA', 'MGLU3.SA',\n",
    "    'UGPA3.SA', 'GGBR4.SA', 'ASAI3.SA', 'SUZB3.SA', 'VBBR3.SA',\n",
    "    'CPLE6.SA', 'LREN3.SA', 'KLBN11.SA', 'RAIL3.SA', 'BBSE3.SA',\n",
    "    'EQTL3.SA', 'CMIG4.SA', 'RDOR3.SA', 'EMBR3.SA', 'SBSP3.SA',\n",
    "    'VAMO3.SA', 'BEEF3.SA', 'CSAN3.SA', 'COGN3.SA', 'TOTS3.SA',\n",
    "    'TIMS3.SA', 'FLRY3.SA', 'PETR3.SA', 'USIM5.SA', 'BRAV3.SA',\n",
    "    'NEOE3.SA', 'CSNA3.SA', 'AURE3.SA', 'MRVE3.SA', 'AZUL4.SA',\n",
    "    'GMAT3.SA', 'MBRF3.SA', 'PCAR3.SA', 'VIVA3.SA', 'GOAU4.SA',\n",
    "    'YDUQ3.SA', 'CVCB3.SA', 'LWSA3.SA', 'MOTV3.SA',\n",
    "    'ANIM3.SA', 'NATU3.SA', 'BBDC3.SA', 'ENEV3.SA', 'ONCO3.SA',\n",
    "    'CPLE3.SA', 'HBSA3.SA', 'AMBP3.SA', 'RAIZ4.SA', 'AZZA3.SA', \n",
    "    'LIGT3.SA', 'SULA11.SA', 'HYPE3.SA', 'JHSF3.SA', 'SMLS3.SA',\n",
    "    'CSED3.SA', 'TUPY3.SA', 'BRKM5.SA', 'CASH3.SA'\n",
    "]\n",
    "DATABASE_FILE = 'dados_acoes.db'\n",
    "PERIODO_DADOS = 'max'\n",
    "\n",
    "# --- FIM DA CONFIGURAÇÃO ---\n",
    "\n",
    "\n",
    "# 2. Dicionário dos intervalos\n",
    "intervalos = {\n",
    "    'candles_diarios': '1d',\n",
    "    'candles_semanais': '1wk',\n",
    "    'candles_mensais': '1mo'\n",
    "}\n",
    "\n",
    "# 3. Conexão com o banco de dados\n",
    "print(f\"Iniciando conexão com o banco de dados '{DATABASE_FILE}'...\")\n",
    "conn = sqlite3.connect(DATABASE_FILE)\n",
    "\n",
    "try:\n",
    "    # 4. Loop principal para baixar os dados\n",
    "    for tabela_sql, intervalo_yf in intervalos.items():\n",
    "        print(f\"\\nBuscando dados para: {tabela_sql} (Intervalo: {intervalo_yf})\")\n",
    "        \n",
    "        lista_dfs_por_ticker = []\n",
    "        \n",
    "        for ticker in TICKERS:\n",
    "            print(f\"  Baixando {ticker}...\")\n",
    "            \n",
    "            # Baixa os dados usando yfinance\n",
    "            data = yf.download(ticker, period=PERIODO_DADOS, interval=intervalo_yf)\n",
    "            \n",
    "            # --- INÍCIO DA CORREÇÃO ---\n",
    "            # Resolve o problema de MultiIndex (se houver)\n",
    "            if isinstance(data.columns, pd.MultiIndex):\n",
    "                data.columns = data.columns.get_level_values(0)\n",
    "            # --- FIM DA CORREÇÃO ---\n",
    "            \n",
    "            if data.empty:\n",
    "                print(f\"  Sem dados para {ticker} no intervalo {intervalo_yf}.\")\n",
    "                continue\n",
    "                \n",
    "            # Adiciona o nome do ticker como uma coluna\n",
    "            data['Ticker'] = ticker\n",
    "            \n",
    "            # Transforma o índice (Date) em uma coluna\n",
    "            data.reset_index(inplace=True)\n",
    "            \n",
    "            # Renomeia a coluna de data para ser mais clara\n",
    "            if 'Date' in data.columns:\n",
    "                data.rename(columns={'Date': 'Datetime'}, inplace=True)\n",
    "            \n",
    "            lista_dfs_por_ticker.append(data)\n",
    "            \n",
    "        # 5. Combina todos os dataframes\n",
    "        if not lista_dfs_por_ticker:\n",
    "            print(f\"Nenhum dado baixado para o intervalo {intervalo_yf}.\")\n",
    "            continue\n",
    "            \n",
    "        df_completo = pd.concat(lista_dfs_por_ticker, ignore_index=True)\n",
    "        \n",
    "        # 6. Limpa e padroniza os nomes das colunas para SQL\n",
    "        # Esta linha agora vai funcionar!\n",
    "        df_completo.columns = df_completo.columns.str.lower().str.replace(' ', '_')\n",
    "        \n",
    "        # 7. Salva o dataframe combinado na tabela SQL\n",
    "        print(f\"  Salvando dados na tabela SQL: '{tabela_sql}'...\")\n",
    "        df_completo.to_sql(\n",
    "            tabela_sql, \n",
    "            conn, \n",
    "            if_exists='replace',\n",
    "            index=False\n",
    "        )\n",
    "        \n",
    "        print(f\"  Tabela '{tabela_sql}' salva com sucesso!\")\n",
    "\n",
    "    print(f\"\\nProcesso concluído! Todos os dados foram salvos em '{DATABASE_FILE}'.\")\n",
    "\n",
    "except Exception as e:\n",
    "    print(f\"\\nOcorreu um erro: {e}\")\n",
    "\n",
    "finally:\n",
    "    # 8. Fecha a conexão com o banco de dados\n",
    "    conn.close()\n",
    "    print(\"Conexão com o banco de dados fechada.\")"
   ]
  },
  {
   "cell_type": "code",
   "execution_count": null,
   "id": "eca143cd",
   "metadata": {},
   "outputs": [],
   "source": []
  }
 ],
 "metadata": {
  "kernelspec": {
   "display_name": "Python 3",
   "language": "python",
   "name": "python3"
  },
  "language_info": {
   "codemirror_mode": {
    "name": "ipython",
    "version": 3
   },
   "file_extension": ".py",
   "mimetype": "text/x-python",
   "name": "python",
   "nbconvert_exporter": "python",
   "pygments_lexer": "ipython3",
   "version": "3.11.9"
  }
 },
 "nbformat": 4,
 "nbformat_minor": 5
}
